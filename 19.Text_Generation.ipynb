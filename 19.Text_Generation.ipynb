{
  "nbformat": 4,
  "nbformat_minor": 0,
  "metadata": {
    "kernelspec": {
      "display_name": "Python 3",
      "language": "python",
      "name": "python3"
    },
    "language_info": {
      "codemirror_mode": {
        "name": "ipython",
        "version": 3
      },
      "file_extension": ".py",
      "mimetype": "text/x-python",
      "name": "python",
      "nbconvert_exporter": "python",
      "pygments_lexer": "ipython3",
      "version": "3.8.5"
    },
    "colab": {
      "provenance": [],
      "collapsed_sections": []
    },
    "widgets": {
      "application/vnd.jupyter.widget-state+json": {
        "003c416b7c4a485e85ef5e9d8a5d0b4c": {
          "model_module": "@jupyter-widgets/controls",
          "model_name": "HBoxModel",
          "model_module_version": "1.5.0",
          "state": {
            "_dom_classes": [],
            "_model_module": "@jupyter-widgets/controls",
            "_model_module_version": "1.5.0",
            "_model_name": "HBoxModel",
            "_view_count": null,
            "_view_module": "@jupyter-widgets/controls",
            "_view_module_version": "1.5.0",
            "_view_name": "HBoxView",
            "box_style": "",
            "children": [
              "IPY_MODEL_12acc644c2404f828926b62c7f4ac8cc",
              "IPY_MODEL_4a6cd4f940754a9a956237f84e55f22f",
              "IPY_MODEL_05b200a61aa54060a86f2f239c0ecbbd"
            ],
            "layout": "IPY_MODEL_e5b0b418c85446b1889b7a551f0cf280"
          }
        },
        "12acc644c2404f828926b62c7f4ac8cc": {
          "model_module": "@jupyter-widgets/controls",
          "model_name": "HTMLModel",
          "model_module_version": "1.5.0",
          "state": {
            "_dom_classes": [],
            "_model_module": "@jupyter-widgets/controls",
            "_model_module_version": "1.5.0",
            "_model_name": "HTMLModel",
            "_view_count": null,
            "_view_module": "@jupyter-widgets/controls",
            "_view_module_version": "1.5.0",
            "_view_name": "HTMLView",
            "description": "",
            "description_tooltip": null,
            "layout": "IPY_MODEL_34d935d00fc74ad58f5800a6edc28138",
            "placeholder": "​",
            "style": "IPY_MODEL_c9065f03bdea4dd4a06471677dc52345",
            "value": "Downloading: 100%"
          }
        },
        "4a6cd4f940754a9a956237f84e55f22f": {
          "model_module": "@jupyter-widgets/controls",
          "model_name": "FloatProgressModel",
          "model_module_version": "1.5.0",
          "state": {
            "_dom_classes": [],
            "_model_module": "@jupyter-widgets/controls",
            "_model_module_version": "1.5.0",
            "_model_name": "FloatProgressModel",
            "_view_count": null,
            "_view_module": "@jupyter-widgets/controls",
            "_view_module_version": "1.5.0",
            "_view_name": "ProgressView",
            "bar_style": "success",
            "description": "",
            "description_tooltip": null,
            "layout": "IPY_MODEL_2e9958867aa94d129bc96dd44955e79d",
            "max": 1000,
            "min": 0,
            "orientation": "horizontal",
            "style": "IPY_MODEL_29acdd9bbde34ece950b50f35ef332b9",
            "value": 1000
          }
        },
        "05b200a61aa54060a86f2f239c0ecbbd": {
          "model_module": "@jupyter-widgets/controls",
          "model_name": "HTMLModel",
          "model_module_version": "1.5.0",
          "state": {
            "_dom_classes": [],
            "_model_module": "@jupyter-widgets/controls",
            "_model_module_version": "1.5.0",
            "_model_name": "HTMLModel",
            "_view_count": null,
            "_view_module": "@jupyter-widgets/controls",
            "_view_module_version": "1.5.0",
            "_view_name": "HTMLView",
            "description": "",
            "description_tooltip": null,
            "layout": "IPY_MODEL_2ab6a7defefb4d3cab9edcd4dfbc0ef5",
            "placeholder": "​",
            "style": "IPY_MODEL_d327ba2d1db748a1bbb078f9d2709a70",
            "value": " 1.00k/1.00k [00:00&lt;00:00, 19.3kB/s]"
          }
        },
        "e5b0b418c85446b1889b7a551f0cf280": {
          "model_module": "@jupyter-widgets/base",
          "model_name": "LayoutModel",
          "model_module_version": "1.2.0",
          "state": {
            "_model_module": "@jupyter-widgets/base",
            "_model_module_version": "1.2.0",
            "_model_name": "LayoutModel",
            "_view_count": null,
            "_view_module": "@jupyter-widgets/base",
            "_view_module_version": "1.2.0",
            "_view_name": "LayoutView",
            "align_content": null,
            "align_items": null,
            "align_self": null,
            "border": null,
            "bottom": null,
            "display": null,
            "flex": null,
            "flex_flow": null,
            "grid_area": null,
            "grid_auto_columns": null,
            "grid_auto_flow": null,
            "grid_auto_rows": null,
            "grid_column": null,
            "grid_gap": null,
            "grid_row": null,
            "grid_template_areas": null,
            "grid_template_columns": null,
            "grid_template_rows": null,
            "height": null,
            "justify_content": null,
            "justify_items": null,
            "left": null,
            "margin": null,
            "max_height": null,
            "max_width": null,
            "min_height": null,
            "min_width": null,
            "object_fit": null,
            "object_position": null,
            "order": null,
            "overflow": null,
            "overflow_x": null,
            "overflow_y": null,
            "padding": null,
            "right": null,
            "top": null,
            "visibility": null,
            "width": null
          }
        },
        "34d935d00fc74ad58f5800a6edc28138": {
          "model_module": "@jupyter-widgets/base",
          "model_name": "LayoutModel",
          "model_module_version": "1.2.0",
          "state": {
            "_model_module": "@jupyter-widgets/base",
            "_model_module_version": "1.2.0",
            "_model_name": "LayoutModel",
            "_view_count": null,
            "_view_module": "@jupyter-widgets/base",
            "_view_module_version": "1.2.0",
            "_view_name": "LayoutView",
            "align_content": null,
            "align_items": null,
            "align_self": null,
            "border": null,
            "bottom": null,
            "display": null,
            "flex": null,
            "flex_flow": null,
            "grid_area": null,
            "grid_auto_columns": null,
            "grid_auto_flow": null,
            "grid_auto_rows": null,
            "grid_column": null,
            "grid_gap": null,
            "grid_row": null,
            "grid_template_areas": null,
            "grid_template_columns": null,
            "grid_template_rows": null,
            "height": null,
            "justify_content": null,
            "justify_items": null,
            "left": null,
            "margin": null,
            "max_height": null,
            "max_width": null,
            "min_height": null,
            "min_width": null,
            "object_fit": null,
            "object_position": null,
            "order": null,
            "overflow": null,
            "overflow_x": null,
            "overflow_y": null,
            "padding": null,
            "right": null,
            "top": null,
            "visibility": null,
            "width": null
          }
        },
        "c9065f03bdea4dd4a06471677dc52345": {
          "model_module": "@jupyter-widgets/controls",
          "model_name": "DescriptionStyleModel",
          "model_module_version": "1.5.0",
          "state": {
            "_model_module": "@jupyter-widgets/controls",
            "_model_module_version": "1.5.0",
            "_model_name": "DescriptionStyleModel",
            "_view_count": null,
            "_view_module": "@jupyter-widgets/base",
            "_view_module_version": "1.2.0",
            "_view_name": "StyleView",
            "description_width": ""
          }
        },
        "2e9958867aa94d129bc96dd44955e79d": {
          "model_module": "@jupyter-widgets/base",
          "model_name": "LayoutModel",
          "model_module_version": "1.2.0",
          "state": {
            "_model_module": "@jupyter-widgets/base",
            "_model_module_version": "1.2.0",
            "_model_name": "LayoutModel",
            "_view_count": null,
            "_view_module": "@jupyter-widgets/base",
            "_view_module_version": "1.2.0",
            "_view_name": "LayoutView",
            "align_content": null,
            "align_items": null,
            "align_self": null,
            "border": null,
            "bottom": null,
            "display": null,
            "flex": null,
            "flex_flow": null,
            "grid_area": null,
            "grid_auto_columns": null,
            "grid_auto_flow": null,
            "grid_auto_rows": null,
            "grid_column": null,
            "grid_gap": null,
            "grid_row": null,
            "grid_template_areas": null,
            "grid_template_columns": null,
            "grid_template_rows": null,
            "height": null,
            "justify_content": null,
            "justify_items": null,
            "left": null,
            "margin": null,
            "max_height": null,
            "max_width": null,
            "min_height": null,
            "min_width": null,
            "object_fit": null,
            "object_position": null,
            "order": null,
            "overflow": null,
            "overflow_x": null,
            "overflow_y": null,
            "padding": null,
            "right": null,
            "top": null,
            "visibility": null,
            "width": null
          }
        },
        "29acdd9bbde34ece950b50f35ef332b9": {
          "model_module": "@jupyter-widgets/controls",
          "model_name": "ProgressStyleModel",
          "model_module_version": "1.5.0",
          "state": {
            "_model_module": "@jupyter-widgets/controls",
            "_model_module_version": "1.5.0",
            "_model_name": "ProgressStyleModel",
            "_view_count": null,
            "_view_module": "@jupyter-widgets/base",
            "_view_module_version": "1.2.0",
            "_view_name": "StyleView",
            "bar_color": null,
            "description_width": ""
          }
        },
        "2ab6a7defefb4d3cab9edcd4dfbc0ef5": {
          "model_module": "@jupyter-widgets/base",
          "model_name": "LayoutModel",
          "model_module_version": "1.2.0",
          "state": {
            "_model_module": "@jupyter-widgets/base",
            "_model_module_version": "1.2.0",
            "_model_name": "LayoutModel",
            "_view_count": null,
            "_view_module": "@jupyter-widgets/base",
            "_view_module_version": "1.2.0",
            "_view_name": "LayoutView",
            "align_content": null,
            "align_items": null,
            "align_self": null,
            "border": null,
            "bottom": null,
            "display": null,
            "flex": null,
            "flex_flow": null,
            "grid_area": null,
            "grid_auto_columns": null,
            "grid_auto_flow": null,
            "grid_auto_rows": null,
            "grid_column": null,
            "grid_gap": null,
            "grid_row": null,
            "grid_template_areas": null,
            "grid_template_columns": null,
            "grid_template_rows": null,
            "height": null,
            "justify_content": null,
            "justify_items": null,
            "left": null,
            "margin": null,
            "max_height": null,
            "max_width": null,
            "min_height": null,
            "min_width": null,
            "object_fit": null,
            "object_position": null,
            "order": null,
            "overflow": null,
            "overflow_x": null,
            "overflow_y": null,
            "padding": null,
            "right": null,
            "top": null,
            "visibility": null,
            "width": null
          }
        },
        "d327ba2d1db748a1bbb078f9d2709a70": {
          "model_module": "@jupyter-widgets/controls",
          "model_name": "DescriptionStyleModel",
          "model_module_version": "1.5.0",
          "state": {
            "_model_module": "@jupyter-widgets/controls",
            "_model_module_version": "1.5.0",
            "_model_name": "DescriptionStyleModel",
            "_view_count": null,
            "_view_module": "@jupyter-widgets/base",
            "_view_module_version": "1.2.0",
            "_view_name": "StyleView",
            "description_width": ""
          }
        },
        "c596e7b32dbe470b8699564f5323ddbf": {
          "model_module": "@jupyter-widgets/controls",
          "model_name": "HBoxModel",
          "model_module_version": "1.5.0",
          "state": {
            "_dom_classes": [],
            "_model_module": "@jupyter-widgets/controls",
            "_model_module_version": "1.5.0",
            "_model_name": "HBoxModel",
            "_view_count": null,
            "_view_module": "@jupyter-widgets/controls",
            "_view_module_version": "1.5.0",
            "_view_name": "HBoxView",
            "box_style": "",
            "children": [
              "IPY_MODEL_888bdf76bf04490688e320a3a37420aa",
              "IPY_MODEL_9566c42f2efb44d298ba21dd998b32e2",
              "IPY_MODEL_ef4e6640dbab46cf9ffea960f13bec3a"
            ],
            "layout": "IPY_MODEL_238c2ac28169462088a0b906900d3347"
          }
        },
        "888bdf76bf04490688e320a3a37420aa": {
          "model_module": "@jupyter-widgets/controls",
          "model_name": "HTMLModel",
          "model_module_version": "1.5.0",
          "state": {
            "_dom_classes": [],
            "_model_module": "@jupyter-widgets/controls",
            "_model_module_version": "1.5.0",
            "_model_name": "HTMLModel",
            "_view_count": null,
            "_view_module": "@jupyter-widgets/controls",
            "_view_module_version": "1.5.0",
            "_view_name": "HTMLView",
            "description": "",
            "description_tooltip": null,
            "layout": "IPY_MODEL_0acdf763e40b4466a58803eb113184ed",
            "placeholder": "​",
            "style": "IPY_MODEL_19bedcf81e86406a9adbe0300e26ca60",
            "value": "Downloading: 100%"
          }
        },
        "9566c42f2efb44d298ba21dd998b32e2": {
          "model_module": "@jupyter-widgets/controls",
          "model_name": "FloatProgressModel",
          "model_module_version": "1.5.0",
          "state": {
            "_dom_classes": [],
            "_model_module": "@jupyter-widgets/controls",
            "_model_module_version": "1.5.0",
            "_model_name": "FloatProgressModel",
            "_view_count": null,
            "_view_module": "@jupyter-widgets/controls",
            "_view_module_version": "1.5.0",
            "_view_name": "ProgressView",
            "bar_style": "success",
            "description": "",
            "description_tooltip": null,
            "layout": "IPY_MODEL_5ba53b03a04c4fc7aa9f94e7af1d183d",
            "max": 513302779,
            "min": 0,
            "orientation": "horizontal",
            "style": "IPY_MODEL_82a3c6dead9b4aeb8af3b694f7269d49",
            "value": 513302779
          }
        },
        "ef4e6640dbab46cf9ffea960f13bec3a": {
          "model_module": "@jupyter-widgets/controls",
          "model_name": "HTMLModel",
          "model_module_version": "1.5.0",
          "state": {
            "_dom_classes": [],
            "_model_module": "@jupyter-widgets/controls",
            "_model_module_version": "1.5.0",
            "_model_name": "HTMLModel",
            "_view_count": null,
            "_view_module": "@jupyter-widgets/controls",
            "_view_module_version": "1.5.0",
            "_view_name": "HTMLView",
            "description": "",
            "description_tooltip": null,
            "layout": "IPY_MODEL_27ed5abf8e664bbebe4b9c6a7f9a1161",
            "placeholder": "​",
            "style": "IPY_MODEL_b6a81da105114692ab2252e3ac6392b5",
            "value": " 513M/513M [00:17&lt;00:00, 45.7MB/s]"
          }
        },
        "238c2ac28169462088a0b906900d3347": {
          "model_module": "@jupyter-widgets/base",
          "model_name": "LayoutModel",
          "model_module_version": "1.2.0",
          "state": {
            "_model_module": "@jupyter-widgets/base",
            "_model_module_version": "1.2.0",
            "_model_name": "LayoutModel",
            "_view_count": null,
            "_view_module": "@jupyter-widgets/base",
            "_view_module_version": "1.2.0",
            "_view_name": "LayoutView",
            "align_content": null,
            "align_items": null,
            "align_self": null,
            "border": null,
            "bottom": null,
            "display": null,
            "flex": null,
            "flex_flow": null,
            "grid_area": null,
            "grid_auto_columns": null,
            "grid_auto_flow": null,
            "grid_auto_rows": null,
            "grid_column": null,
            "grid_gap": null,
            "grid_row": null,
            "grid_template_areas": null,
            "grid_template_columns": null,
            "grid_template_rows": null,
            "height": null,
            "justify_content": null,
            "justify_items": null,
            "left": null,
            "margin": null,
            "max_height": null,
            "max_width": null,
            "min_height": null,
            "min_width": null,
            "object_fit": null,
            "object_position": null,
            "order": null,
            "overflow": null,
            "overflow_x": null,
            "overflow_y": null,
            "padding": null,
            "right": null,
            "top": null,
            "visibility": null,
            "width": null
          }
        },
        "0acdf763e40b4466a58803eb113184ed": {
          "model_module": "@jupyter-widgets/base",
          "model_name": "LayoutModel",
          "model_module_version": "1.2.0",
          "state": {
            "_model_module": "@jupyter-widgets/base",
            "_model_module_version": "1.2.0",
            "_model_name": "LayoutModel",
            "_view_count": null,
            "_view_module": "@jupyter-widgets/base",
            "_view_module_version": "1.2.0",
            "_view_name": "LayoutView",
            "align_content": null,
            "align_items": null,
            "align_self": null,
            "border": null,
            "bottom": null,
            "display": null,
            "flex": null,
            "flex_flow": null,
            "grid_area": null,
            "grid_auto_columns": null,
            "grid_auto_flow": null,
            "grid_auto_rows": null,
            "grid_column": null,
            "grid_gap": null,
            "grid_row": null,
            "grid_template_areas": null,
            "grid_template_columns": null,
            "grid_template_rows": null,
            "height": null,
            "justify_content": null,
            "justify_items": null,
            "left": null,
            "margin": null,
            "max_height": null,
            "max_width": null,
            "min_height": null,
            "min_width": null,
            "object_fit": null,
            "object_position": null,
            "order": null,
            "overflow": null,
            "overflow_x": null,
            "overflow_y": null,
            "padding": null,
            "right": null,
            "top": null,
            "visibility": null,
            "width": null
          }
        },
        "19bedcf81e86406a9adbe0300e26ca60": {
          "model_module": "@jupyter-widgets/controls",
          "model_name": "DescriptionStyleModel",
          "model_module_version": "1.5.0",
          "state": {
            "_model_module": "@jupyter-widgets/controls",
            "_model_module_version": "1.5.0",
            "_model_name": "DescriptionStyleModel",
            "_view_count": null,
            "_view_module": "@jupyter-widgets/base",
            "_view_module_version": "1.2.0",
            "_view_name": "StyleView",
            "description_width": ""
          }
        },
        "5ba53b03a04c4fc7aa9f94e7af1d183d": {
          "model_module": "@jupyter-widgets/base",
          "model_name": "LayoutModel",
          "model_module_version": "1.2.0",
          "state": {
            "_model_module": "@jupyter-widgets/base",
            "_model_module_version": "1.2.0",
            "_model_name": "LayoutModel",
            "_view_count": null,
            "_view_module": "@jupyter-widgets/base",
            "_view_module_version": "1.2.0",
            "_view_name": "LayoutView",
            "align_content": null,
            "align_items": null,
            "align_self": null,
            "border": null,
            "bottom": null,
            "display": null,
            "flex": null,
            "flex_flow": null,
            "grid_area": null,
            "grid_auto_columns": null,
            "grid_auto_flow": null,
            "grid_auto_rows": null,
            "grid_column": null,
            "grid_gap": null,
            "grid_row": null,
            "grid_template_areas": null,
            "grid_template_columns": null,
            "grid_template_rows": null,
            "height": null,
            "justify_content": null,
            "justify_items": null,
            "left": null,
            "margin": null,
            "max_height": null,
            "max_width": null,
            "min_height": null,
            "min_width": null,
            "object_fit": null,
            "object_position": null,
            "order": null,
            "overflow": null,
            "overflow_x": null,
            "overflow_y": null,
            "padding": null,
            "right": null,
            "top": null,
            "visibility": null,
            "width": null
          }
        },
        "82a3c6dead9b4aeb8af3b694f7269d49": {
          "model_module": "@jupyter-widgets/controls",
          "model_name": "ProgressStyleModel",
          "model_module_version": "1.5.0",
          "state": {
            "_model_module": "@jupyter-widgets/controls",
            "_model_module_version": "1.5.0",
            "_model_name": "ProgressStyleModel",
            "_view_count": null,
            "_view_module": "@jupyter-widgets/base",
            "_view_module_version": "1.2.0",
            "_view_name": "StyleView",
            "bar_color": null,
            "description_width": ""
          }
        },
        "27ed5abf8e664bbebe4b9c6a7f9a1161": {
          "model_module": "@jupyter-widgets/base",
          "model_name": "LayoutModel",
          "model_module_version": "1.2.0",
          "state": {
            "_model_module": "@jupyter-widgets/base",
            "_model_module_version": "1.2.0",
            "_model_name": "LayoutModel",
            "_view_count": null,
            "_view_module": "@jupyter-widgets/base",
            "_view_module_version": "1.2.0",
            "_view_name": "LayoutView",
            "align_content": null,
            "align_items": null,
            "align_self": null,
            "border": null,
            "bottom": null,
            "display": null,
            "flex": null,
            "flex_flow": null,
            "grid_area": null,
            "grid_auto_columns": null,
            "grid_auto_flow": null,
            "grid_auto_rows": null,
            "grid_column": null,
            "grid_gap": null,
            "grid_row": null,
            "grid_template_areas": null,
            "grid_template_columns": null,
            "grid_template_rows": null,
            "height": null,
            "justify_content": null,
            "justify_items": null,
            "left": null,
            "margin": null,
            "max_height": null,
            "max_width": null,
            "min_height": null,
            "min_width": null,
            "object_fit": null,
            "object_position": null,
            "order": null,
            "overflow": null,
            "overflow_x": null,
            "overflow_y": null,
            "padding": null,
            "right": null,
            "top": null,
            "visibility": null,
            "width": null
          }
        },
        "b6a81da105114692ab2252e3ac6392b5": {
          "model_module": "@jupyter-widgets/controls",
          "model_name": "DescriptionStyleModel",
          "model_module_version": "1.5.0",
          "state": {
            "_model_module": "@jupyter-widgets/controls",
            "_model_module_version": "1.5.0",
            "_model_name": "DescriptionStyleModel",
            "_view_count": null,
            "_view_module": "@jupyter-widgets/base",
            "_view_module_version": "1.2.0",
            "_view_name": "StyleView",
            "description_width": ""
          }
        },
        "b965c06f76ed460b907d2dfadbe845f7": {
          "model_module": "@jupyter-widgets/controls",
          "model_name": "HBoxModel",
          "model_module_version": "1.5.0",
          "state": {
            "_dom_classes": [],
            "_model_module": "@jupyter-widgets/controls",
            "_model_module_version": "1.5.0",
            "_model_name": "HBoxModel",
            "_view_count": null,
            "_view_module": "@jupyter-widgets/controls",
            "_view_module_version": "1.5.0",
            "_view_name": "HBoxView",
            "box_style": "",
            "children": [
              "IPY_MODEL_9edf8302c66c4443a9b65ca346627f63",
              "IPY_MODEL_f04ec9000db7467f8b4106c961e688b3",
              "IPY_MODEL_546210a2d55f41189530a11fd6030ed9"
            ],
            "layout": "IPY_MODEL_d0357b7012894ed4aa2dcc750992d134"
          }
        },
        "9edf8302c66c4443a9b65ca346627f63": {
          "model_module": "@jupyter-widgets/controls",
          "model_name": "HTMLModel",
          "model_module_version": "1.5.0",
          "state": {
            "_dom_classes": [],
            "_model_module": "@jupyter-widgets/controls",
            "_model_module_version": "1.5.0",
            "_model_name": "HTMLModel",
            "_view_count": null,
            "_view_module": "@jupyter-widgets/controls",
            "_view_module_version": "1.5.0",
            "_view_name": "HTMLView",
            "description": "",
            "description_tooltip": null,
            "layout": "IPY_MODEL_13aee579141e4263b57102d9f2a58542",
            "placeholder": "​",
            "style": "IPY_MODEL_42afa4a6cab1480e86bd057a1c519e75",
            "value": "Downloading: 100%"
          }
        },
        "f04ec9000db7467f8b4106c961e688b3": {
          "model_module": "@jupyter-widgets/controls",
          "model_name": "FloatProgressModel",
          "model_module_version": "1.5.0",
          "state": {
            "_dom_classes": [],
            "_model_module": "@jupyter-widgets/controls",
            "_model_module_version": "1.5.0",
            "_model_name": "FloatProgressModel",
            "_view_count": null,
            "_view_module": "@jupyter-widgets/controls",
            "_view_module_version": "1.5.0",
            "_view_name": "ProgressView",
            "bar_style": "success",
            "description": "",
            "description_tooltip": null,
            "layout": "IPY_MODEL_48250ee791784172a4170f6e0d22c04b",
            "max": 2825034,
            "min": 0,
            "orientation": "horizontal",
            "style": "IPY_MODEL_3489034400de43f3ab03cfcecbd969ca",
            "value": 2825034
          }
        },
        "546210a2d55f41189530a11fd6030ed9": {
          "model_module": "@jupyter-widgets/controls",
          "model_name": "HTMLModel",
          "model_module_version": "1.5.0",
          "state": {
            "_dom_classes": [],
            "_model_module": "@jupyter-widgets/controls",
            "_model_module_version": "1.5.0",
            "_model_name": "HTMLModel",
            "_view_count": null,
            "_view_module": "@jupyter-widgets/controls",
            "_view_module_version": "1.5.0",
            "_view_name": "HTMLView",
            "description": "",
            "description_tooltip": null,
            "layout": "IPY_MODEL_afe9d8e6e58e44fb90ff7c82d04795dd",
            "placeholder": "​",
            "style": "IPY_MODEL_d289b88fbdd34bf8bd5e4465a1bdff5b",
            "value": " 2.83M/2.83M [00:00&lt;00:00, 3.10MB/s]"
          }
        },
        "d0357b7012894ed4aa2dcc750992d134": {
          "model_module": "@jupyter-widgets/base",
          "model_name": "LayoutModel",
          "model_module_version": "1.2.0",
          "state": {
            "_model_module": "@jupyter-widgets/base",
            "_model_module_version": "1.2.0",
            "_model_name": "LayoutModel",
            "_view_count": null,
            "_view_module": "@jupyter-widgets/base",
            "_view_module_version": "1.2.0",
            "_view_name": "LayoutView",
            "align_content": null,
            "align_items": null,
            "align_self": null,
            "border": null,
            "bottom": null,
            "display": null,
            "flex": null,
            "flex_flow": null,
            "grid_area": null,
            "grid_auto_columns": null,
            "grid_auto_flow": null,
            "grid_auto_rows": null,
            "grid_column": null,
            "grid_gap": null,
            "grid_row": null,
            "grid_template_areas": null,
            "grid_template_columns": null,
            "grid_template_rows": null,
            "height": null,
            "justify_content": null,
            "justify_items": null,
            "left": null,
            "margin": null,
            "max_height": null,
            "max_width": null,
            "min_height": null,
            "min_width": null,
            "object_fit": null,
            "object_position": null,
            "order": null,
            "overflow": null,
            "overflow_x": null,
            "overflow_y": null,
            "padding": null,
            "right": null,
            "top": null,
            "visibility": null,
            "width": null
          }
        },
        "13aee579141e4263b57102d9f2a58542": {
          "model_module": "@jupyter-widgets/base",
          "model_name": "LayoutModel",
          "model_module_version": "1.2.0",
          "state": {
            "_model_module": "@jupyter-widgets/base",
            "_model_module_version": "1.2.0",
            "_model_name": "LayoutModel",
            "_view_count": null,
            "_view_module": "@jupyter-widgets/base",
            "_view_module_version": "1.2.0",
            "_view_name": "LayoutView",
            "align_content": null,
            "align_items": null,
            "align_self": null,
            "border": null,
            "bottom": null,
            "display": null,
            "flex": null,
            "flex_flow": null,
            "grid_area": null,
            "grid_auto_columns": null,
            "grid_auto_flow": null,
            "grid_auto_rows": null,
            "grid_column": null,
            "grid_gap": null,
            "grid_row": null,
            "grid_template_areas": null,
            "grid_template_columns": null,
            "grid_template_rows": null,
            "height": null,
            "justify_content": null,
            "justify_items": null,
            "left": null,
            "margin": null,
            "max_height": null,
            "max_width": null,
            "min_height": null,
            "min_width": null,
            "object_fit": null,
            "object_position": null,
            "order": null,
            "overflow": null,
            "overflow_x": null,
            "overflow_y": null,
            "padding": null,
            "right": null,
            "top": null,
            "visibility": null,
            "width": null
          }
        },
        "42afa4a6cab1480e86bd057a1c519e75": {
          "model_module": "@jupyter-widgets/controls",
          "model_name": "DescriptionStyleModel",
          "model_module_version": "1.5.0",
          "state": {
            "_model_module": "@jupyter-widgets/controls",
            "_model_module_version": "1.5.0",
            "_model_name": "DescriptionStyleModel",
            "_view_count": null,
            "_view_module": "@jupyter-widgets/base",
            "_view_module_version": "1.2.0",
            "_view_name": "StyleView",
            "description_width": ""
          }
        },
        "48250ee791784172a4170f6e0d22c04b": {
          "model_module": "@jupyter-widgets/base",
          "model_name": "LayoutModel",
          "model_module_version": "1.2.0",
          "state": {
            "_model_module": "@jupyter-widgets/base",
            "_model_module_version": "1.2.0",
            "_model_name": "LayoutModel",
            "_view_count": null,
            "_view_module": "@jupyter-widgets/base",
            "_view_module_version": "1.2.0",
            "_view_name": "LayoutView",
            "align_content": null,
            "align_items": null,
            "align_self": null,
            "border": null,
            "bottom": null,
            "display": null,
            "flex": null,
            "flex_flow": null,
            "grid_area": null,
            "grid_auto_columns": null,
            "grid_auto_flow": null,
            "grid_auto_rows": null,
            "grid_column": null,
            "grid_gap": null,
            "grid_row": null,
            "grid_template_areas": null,
            "grid_template_columns": null,
            "grid_template_rows": null,
            "height": null,
            "justify_content": null,
            "justify_items": null,
            "left": null,
            "margin": null,
            "max_height": null,
            "max_width": null,
            "min_height": null,
            "min_width": null,
            "object_fit": null,
            "object_position": null,
            "order": null,
            "overflow": null,
            "overflow_x": null,
            "overflow_y": null,
            "padding": null,
            "right": null,
            "top": null,
            "visibility": null,
            "width": null
          }
        },
        "3489034400de43f3ab03cfcecbd969ca": {
          "model_module": "@jupyter-widgets/controls",
          "model_name": "ProgressStyleModel",
          "model_module_version": "1.5.0",
          "state": {
            "_model_module": "@jupyter-widgets/controls",
            "_model_module_version": "1.5.0",
            "_model_name": "ProgressStyleModel",
            "_view_count": null,
            "_view_module": "@jupyter-widgets/base",
            "_view_module_version": "1.2.0",
            "_view_name": "StyleView",
            "bar_color": null,
            "description_width": ""
          }
        },
        "afe9d8e6e58e44fb90ff7c82d04795dd": {
          "model_module": "@jupyter-widgets/base",
          "model_name": "LayoutModel",
          "model_module_version": "1.2.0",
          "state": {
            "_model_module": "@jupyter-widgets/base",
            "_model_module_version": "1.2.0",
            "_model_name": "LayoutModel",
            "_view_count": null,
            "_view_module": "@jupyter-widgets/base",
            "_view_module_version": "1.2.0",
            "_view_name": "LayoutView",
            "align_content": null,
            "align_items": null,
            "align_self": null,
            "border": null,
            "bottom": null,
            "display": null,
            "flex": null,
            "flex_flow": null,
            "grid_area": null,
            "grid_auto_columns": null,
            "grid_auto_flow": null,
            "grid_auto_rows": null,
            "grid_column": null,
            "grid_gap": null,
            "grid_row": null,
            "grid_template_areas": null,
            "grid_template_columns": null,
            "grid_template_rows": null,
            "height": null,
            "justify_content": null,
            "justify_items": null,
            "left": null,
            "margin": null,
            "max_height": null,
            "max_width": null,
            "min_height": null,
            "min_width": null,
            "object_fit": null,
            "object_position": null,
            "order": null,
            "overflow": null,
            "overflow_x": null,
            "overflow_y": null,
            "padding": null,
            "right": null,
            "top": null,
            "visibility": null,
            "width": null
          }
        },
        "d289b88fbdd34bf8bd5e4465a1bdff5b": {
          "model_module": "@jupyter-widgets/controls",
          "model_name": "DescriptionStyleModel",
          "model_module_version": "1.5.0",
          "state": {
            "_model_module": "@jupyter-widgets/controls",
            "_model_module_version": "1.5.0",
            "_model_name": "DescriptionStyleModel",
            "_view_count": null,
            "_view_module": "@jupyter-widgets/base",
            "_view_module_version": "1.2.0",
            "_view_name": "StyleView",
            "description_width": ""
          }
        }
      }
    }
  },
  "cells": [
    {
      "cell_type": "markdown",
      "metadata": {
        "id": "Ms57zoghuNDp"
      },
      "source": [
        "##**10. Text Generation**\n",
        "1. Pretrained Model을 이용해 Text를 generation 하는 model을 구현합니다.\n",
        "2. 실제 데이터셋을 가지고 모델을 학습해봅니다.\n",
        "3. 다양한 decoding strategy를 이용하여 text를 생성해봅니다."
      ]
    },
    {
      "cell_type": "code",
      "metadata": {
        "id": "GZA8dewtuNDs",
        "outputId": "1668cf7f-bda6-410c-92d1-18ae0884290c",
        "colab": {
          "base_uri": "https://localhost:8080/"
        }
      },
      "source": [
        "!pip install transformers==4.9.2"
      ],
      "execution_count": 1,
      "outputs": [
        {
          "output_type": "stream",
          "name": "stdout",
          "text": [
            "Looking in indexes: https://pypi.org/simple, https://us-python.pkg.dev/colab-wheels/public/simple/\n",
            "Collecting transformers==4.9.2\n",
            "  Downloading transformers-4.9.2-py3-none-any.whl (2.6 MB)\n",
            "\u001b[K     |████████████████████████████████| 2.6 MB 7.7 MB/s \n",
            "\u001b[?25hCollecting tokenizers<0.11,>=0.10.1\n",
            "  Downloading tokenizers-0.10.3-cp37-cp37m-manylinux_2_5_x86_64.manylinux1_x86_64.manylinux_2_12_x86_64.manylinux2010_x86_64.whl (3.3 MB)\n",
            "\u001b[K     |████████████████████████████████| 3.3 MB 49.8 MB/s \n",
            "\u001b[?25hRequirement already satisfied: pyyaml>=5.1 in /usr/local/lib/python3.7/dist-packages (from transformers==4.9.2) (6.0)\n",
            "Requirement already satisfied: filelock in /usr/local/lib/python3.7/dist-packages (from transformers==4.9.2) (3.8.0)\n",
            "Requirement already satisfied: packaging in /usr/local/lib/python3.7/dist-packages (from transformers==4.9.2) (21.3)\n",
            "Requirement already satisfied: importlib-metadata in /usr/local/lib/python3.7/dist-packages (from transformers==4.9.2) (4.12.0)\n",
            "Requirement already satisfied: numpy>=1.17 in /usr/local/lib/python3.7/dist-packages (from transformers==4.9.2) (1.21.6)\n",
            "Requirement already satisfied: requests in /usr/local/lib/python3.7/dist-packages (from transformers==4.9.2) (2.23.0)\n",
            "Collecting sacremoses\n",
            "  Downloading sacremoses-0.0.53.tar.gz (880 kB)\n",
            "\u001b[K     |████████████████████████████████| 880 kB 54.6 MB/s \n",
            "\u001b[?25hRequirement already satisfied: tqdm>=4.27 in /usr/local/lib/python3.7/dist-packages (from transformers==4.9.2) (4.64.1)\n",
            "Collecting huggingface-hub==0.0.12\n",
            "  Downloading huggingface_hub-0.0.12-py3-none-any.whl (37 kB)\n",
            "Requirement already satisfied: regex!=2019.12.17 in /usr/local/lib/python3.7/dist-packages (from transformers==4.9.2) (2022.6.2)\n",
            "Requirement already satisfied: typing-extensions in /usr/local/lib/python3.7/dist-packages (from huggingface-hub==0.0.12->transformers==4.9.2) (4.1.1)\n",
            "Requirement already satisfied: pyparsing!=3.0.5,>=2.0.2 in /usr/local/lib/python3.7/dist-packages (from packaging->transformers==4.9.2) (3.0.9)\n",
            "Requirement already satisfied: zipp>=0.5 in /usr/local/lib/python3.7/dist-packages (from importlib-metadata->transformers==4.9.2) (3.8.1)\n",
            "Requirement already satisfied: certifi>=2017.4.17 in /usr/local/lib/python3.7/dist-packages (from requests->transformers==4.9.2) (2022.6.15)\n",
            "Requirement already satisfied: idna<3,>=2.5 in /usr/local/lib/python3.7/dist-packages (from requests->transformers==4.9.2) (2.10)\n",
            "Requirement already satisfied: urllib3!=1.25.0,!=1.25.1,<1.26,>=1.21.1 in /usr/local/lib/python3.7/dist-packages (from requests->transformers==4.9.2) (1.24.3)\n",
            "Requirement already satisfied: chardet<4,>=3.0.2 in /usr/local/lib/python3.7/dist-packages (from requests->transformers==4.9.2) (3.0.4)\n",
            "Requirement already satisfied: six in /usr/local/lib/python3.7/dist-packages (from sacremoses->transformers==4.9.2) (1.15.0)\n",
            "Requirement already satisfied: click in /usr/local/lib/python3.7/dist-packages (from sacremoses->transformers==4.9.2) (7.1.2)\n",
            "Requirement already satisfied: joblib in /usr/local/lib/python3.7/dist-packages (from sacremoses->transformers==4.9.2) (1.1.0)\n",
            "Building wheels for collected packages: sacremoses\n",
            "  Building wheel for sacremoses (setup.py) ... \u001b[?25l\u001b[?25hdone\n",
            "  Created wheel for sacremoses: filename=sacremoses-0.0.53-py3-none-any.whl size=895260 sha256=57b09439d573467cf4f33b570b63f0ac1dc6a0a4a31db9cfaacaf67289dda1a6\n",
            "  Stored in directory: /root/.cache/pip/wheels/87/39/dd/a83eeef36d0bf98e7a4d1933a4ad2d660295a40613079bafc9\n",
            "Successfully built sacremoses\n",
            "Installing collected packages: tokenizers, sacremoses, huggingface-hub, transformers\n",
            "Successfully installed huggingface-hub-0.0.12 sacremoses-0.0.53 tokenizers-0.10.3 transformers-4.9.2\n"
          ]
        }
      ]
    },
    {
      "cell_type": "code",
      "metadata": {
        "id": "KjXsPeEmuNDt"
      },
      "source": [
        "import torch\n",
        "from transformers import GPT2LMHeadModel, PreTrainedTokenizerFast"
      ],
      "execution_count": 2,
      "outputs": []
    },
    {
      "cell_type": "code",
      "metadata": {
        "id": "ejK--Ti8uNDt"
      },
      "source": [
        "import numpy as np\n",
        "import random\n",
        "\n",
        "def set_seed(random_seed):\n",
        "    torch.random.manual_seed(random_seed)\n",
        "    torch.manual_seed(random_seed)\n",
        "    torch.cuda.manual_seed(random_seed)\n",
        "    torch.backends.cudnn.deterministic = True\n",
        "    torch.backends.cudnn.benchmark = False\n",
        "    np.random.seed(random_seed)\n",
        "    random.seed(random_seed)\n"
      ],
      "execution_count": 3,
      "outputs": []
    },
    {
      "cell_type": "code",
      "metadata": {
        "id": "vHDikSuCuNDu"
      },
      "source": [
        "set_seed(777)"
      ],
      "execution_count": 4,
      "outputs": []
    },
    {
      "cell_type": "code",
      "metadata": {
        "id": "M7FjE7qMuNDu",
        "outputId": "ecb168f0-0e02-48fe-fa5f-0ffd8f26aa32",
        "colab": {
          "base_uri": "https://localhost:8080/",
          "height": 168,
          "referenced_widgets": [
            "003c416b7c4a485e85ef5e9d8a5d0b4c",
            "12acc644c2404f828926b62c7f4ac8cc",
            "4a6cd4f940754a9a956237f84e55f22f",
            "05b200a61aa54060a86f2f239c0ecbbd",
            "e5b0b418c85446b1889b7a551f0cf280",
            "34d935d00fc74ad58f5800a6edc28138",
            "c9065f03bdea4dd4a06471677dc52345",
            "2e9958867aa94d129bc96dd44955e79d",
            "29acdd9bbde34ece950b50f35ef332b9",
            "2ab6a7defefb4d3cab9edcd4dfbc0ef5",
            "d327ba2d1db748a1bbb078f9d2709a70",
            "c596e7b32dbe470b8699564f5323ddbf",
            "888bdf76bf04490688e320a3a37420aa",
            "9566c42f2efb44d298ba21dd998b32e2",
            "ef4e6640dbab46cf9ffea960f13bec3a",
            "238c2ac28169462088a0b906900d3347",
            "0acdf763e40b4466a58803eb113184ed",
            "19bedcf81e86406a9adbe0300e26ca60",
            "5ba53b03a04c4fc7aa9f94e7af1d183d",
            "82a3c6dead9b4aeb8af3b694f7269d49",
            "27ed5abf8e664bbebe4b9c6a7f9a1161",
            "b6a81da105114692ab2252e3ac6392b5",
            "b965c06f76ed460b907d2dfadbe845f7",
            "9edf8302c66c4443a9b65ca346627f63",
            "f04ec9000db7467f8b4106c961e688b3",
            "546210a2d55f41189530a11fd6030ed9",
            "d0357b7012894ed4aa2dcc750992d134",
            "13aee579141e4263b57102d9f2a58542",
            "42afa4a6cab1480e86bd057a1c519e75",
            "48250ee791784172a4170f6e0d22c04b",
            "3489034400de43f3ab03cfcecbd969ca",
            "afe9d8e6e58e44fb90ff7c82d04795dd",
            "d289b88fbdd34bf8bd5e4465a1bdff5b"
          ]
        }
      },
      "source": [
        "model = GPT2LMHeadModel.from_pretrained('skt/kogpt2-base-v2')\n",
        "tokenizer = PreTrainedTokenizerFast.from_pretrained(\"skt/kogpt2-base-v2\", bos_token='</s>', eos_token='</s>', unk_token='<unk>',\n",
        "  pad_token='<pad>', mask_token='<mask>') "
      ],
      "execution_count": 5,
      "outputs": [
        {
          "output_type": "display_data",
          "data": {
            "text/plain": [
              "Downloading:   0%|          | 0.00/1.00k [00:00<?, ?B/s]"
            ],
            "application/vnd.jupyter.widget-view+json": {
              "version_major": 2,
              "version_minor": 0,
              "model_id": "003c416b7c4a485e85ef5e9d8a5d0b4c"
            }
          },
          "metadata": {}
        },
        {
          "output_type": "display_data",
          "data": {
            "text/plain": [
              "Downloading:   0%|          | 0.00/513M [00:00<?, ?B/s]"
            ],
            "application/vnd.jupyter.widget-view+json": {
              "version_major": 2,
              "version_minor": 0,
              "model_id": "c596e7b32dbe470b8699564f5323ddbf"
            }
          },
          "metadata": {}
        },
        {
          "output_type": "display_data",
          "data": {
            "text/plain": [
              "Downloading:   0%|          | 0.00/2.83M [00:00<?, ?B/s]"
            ],
            "application/vnd.jupyter.widget-view+json": {
              "version_major": 2,
              "version_minor": 0,
              "model_id": "b965c06f76ed460b907d2dfadbe845f7"
            }
          },
          "metadata": {}
        },
        {
          "output_type": "stream",
          "name": "stderr",
          "text": [
            "The tokenizer class you load from this checkpoint is not the same type as the class this function is called from. It may result in unexpected tokenization. \n",
            "The tokenizer class you load from this checkpoint is 'GPT2Tokenizer'. \n",
            "The class this function is called from is 'PreTrainedTokenizerFast'.\n"
          ]
        }
      ]
    },
    {
      "cell_type": "code",
      "metadata": {
        "id": "MiZH_qkGuNDv"
      },
      "source": [
        "text = '근육이 커지기 위해서는'\n",
        "input_ids = tokenizer.encode(text)\n",
        "gen_ids = model.generate(torch.tensor([input_ids]),\n",
        "                           max_length=50,repetition_penalty=1.0,\n",
        "                           top_k=5,\n",
        "                           temperature=1.0,                          \n",
        "                           pad_token_id=tokenizer.pad_token_id,\n",
        "                           eos_token_id=tokenizer.eos_token_id,\n",
        "                           bos_token_id=tokenizer.bos_token_id)"
      ],
      "execution_count": 6,
      "outputs": []
    },
    {
      "cell_type": "code",
      "metadata": {
        "id": "YwyDgyC8uNDw",
        "outputId": "9377cafd-5da3-405d-d84d-c6561c3839a3",
        "colab": {
          "base_uri": "https://localhost:8080/"
        }
      },
      "source": [
        "generated = tokenizer.decode(gen_ids[0,:].tolist())\n",
        "print(generated)"
      ],
      "execution_count": 7,
      "outputs": [
        {
          "output_type": "stream",
          "name": "stdout",
          "text": [
            "근육이 커지기 위해서는 무엇보다 규칙적인 생활습관이 중요하다.\n",
            "특히, 아침식사는 단백질과 비타민, 무기질 등 영양소가 풍부한 음식을 골고루 섭취하는 것이 좋다.\n",
            "또한 규칙적인 운동은 근육을 강화시켜주는 효과가 있다.\n",
            "특히, 아침식사는 단백질과 비타민\n"
          ]
        }
      ]
    },
    {
      "cell_type": "markdown",
      "metadata": {
        "id": "6DMYgGHFuNDw"
      },
      "source": [
        "## Likelihood-based Decoding\n",
        "\n",
        "* Greedy Search\n",
        "* Beam Search"
      ]
    },
    {
      "cell_type": "code",
      "metadata": {
        "id": "glpWw8vxuNDx"
      },
      "source": [
        "def greedy(logits):\n",
        "    return torch.argmax(logits, dim=-1, keepdim=True)"
      ],
      "execution_count": 8,
      "outputs": []
    },
    {
      "cell_type": "code",
      "metadata": {
        "id": "rH_Wjo0vuNDx"
      },
      "source": [
        "class SamplerBase:\n",
        "    def __init__(self, model, seq_length):\n",
        "        self.model = model\n",
        "        self.seq_length = seq_length\n",
        "\n",
        "    def sample(self, inps, past):\n",
        "        return NotImplementedError"
      ],
      "execution_count": 9,
      "outputs": []
    },
    {
      "cell_type": "code",
      "metadata": {
        "id": "2jX1NiWzuNDx"
      },
      "source": [
        "from copy import deepcopy"
      ],
      "execution_count": 10,
      "outputs": []
    },
    {
      "cell_type": "markdown",
      "metadata": {
        "id": "XACVQ6rbuNDy"
      },
      "source": [
        "## Greedy Search Decoding"
      ]
    },
    {
      "cell_type": "code",
      "metadata": {
        "id": "7nc_mX7huNDy"
      },
      "source": [
        "\n",
        "def greedy(logits):\n",
        "    return torch.argmax(logits, dim=-1, keepdim=True)\n",
        "\n",
        "class GreedySampler(SamplerBase):\n",
        "    def __init__(self, model, seq_length, top_whatever, stochastic=False, temperature: float = 1.0):\n",
        "        \"\"\"\n",
        "        :param model:\n",
        "        :param seq_length:\n",
        "        :param stochastic: choice [top_k,top_p] if True\n",
        "        \"\"\"\n",
        "        super(GreedySampler, self).__init__(model, seq_length)\n",
        "\n",
        "        self.sampling = greedy\n",
        "\n",
        "    @torch.no_grad()\n",
        "    def sample(self, inps):\n",
        "        inps=torch.LongTensor([inps])        \n",
        "        context = inps\n",
        "        generated = deepcopy(inps)\n",
        "        past = None\n",
        "\n",
        "        for t in range(0, self.seq_length):\n",
        "            out = self.model(context, past_key_values=past)\n",
        "            lm_logits,past= out[\"logits\"],out[\"past_key_values\"]\n",
        "            \n",
        "            lm_logits = lm_logits[:, -1]\n",
        "            \n",
        "            context = self.sampling(lm_logits)\n",
        "            generated = torch.cat([generated, context], dim=-1)\n",
        "\n",
        "        return generated\n"
      ],
      "execution_count": 11,
      "outputs": []
    },
    {
      "cell_type": "markdown",
      "metadata": {
        "id": "F6ybZxruuNDz"
      },
      "source": [
        "## Hugging face Library"
      ]
    },
    {
      "cell_type": "code",
      "metadata": {
        "id": "FDWOcTGCuNDz",
        "outputId": "baec304d-2626-4652-e575-c2113f1b0c5a",
        "colab": {
          "base_uri": "https://localhost:8080/"
        }
      },
      "source": [
        "gen_ids = model.generate(torch.tensor([input_ids]),max_length=34)\n",
        "\n",
        "generated = tokenizer.decode(gen_ids[0,:].tolist())\n",
        "print(generated)"
      ],
      "execution_count": 12,
      "outputs": [
        {
          "output_type": "stream",
          "name": "stdout",
          "text": [
            "근육이 커지기 위해서는 무엇보다 규칙적인 생활습관이 중요하다.\n",
            "특히, 아침식사는 단백질과 비타민, 무기질 등 영양소가 풍부한 음식을 골고루 섭취하는 것이 좋다.\n",
            "또한 규칙적인\n"
          ]
        }
      ]
    },
    {
      "cell_type": "markdown",
      "metadata": {
        "id": "lQbRxH1fuNDz"
      },
      "source": [
        "## 비교해보기"
      ]
    },
    {
      "cell_type": "code",
      "metadata": {
        "id": "1G-2f5oxuNDz",
        "outputId": "278d7051-6f87-41f6-8b74-1e17914b64cc",
        "colab": {
          "base_uri": "https://localhost:8080/"
        }
      },
      "source": [
        "\n",
        "sampler=GreedySampler(model,30,1)\n",
        "\n",
        "sampled_ids=sampler.sample(input_ids)\n",
        "\n",
        "generated = tokenizer.decode(sampled_ids[0,:].tolist())\n",
        "print(generated)"
      ],
      "execution_count": 13,
      "outputs": [
        {
          "output_type": "stream",
          "name": "stdout",
          "text": [
            "근육이 커지기 위해서는 무엇보다 규칙적인 생활습관이 중요하다.\n",
            "특히, 아침식사는 단백질과 비타민, 무기질 등 영양소가 풍부한 음식을 골고루 섭취하는 것이 좋다.\n",
            "또한 규칙적인\n"
          ]
        }
      ]
    },
    {
      "cell_type": "markdown",
      "metadata": {
        "id": "P8MJS5QcuND0"
      },
      "source": [
        "## Beam Search Decoding"
      ]
    },
    {
      "cell_type": "code",
      "metadata": {
        "id": "9OI_d9rUuND0"
      },
      "source": [
        "class BeamSampler(SamplerBase):\n",
        "    def __init__(self, model, seq_length, beam_size: int = 3, temperature: float = 1.0):\n",
        "        \"\"\"\n",
        "        no version on stochastic mode\n",
        "        :param model:\n",
        "        :param seq_length:\n",
        "        :param top_whatever: int as beam_size\n",
        "        \"\"\"\n",
        "        super(BeamSampler, self).__init__(model, seq_length)\n",
        "        self.temperature = temperature\n",
        "        # if not isinstance(beam_size, int):\n",
        "        #     raise ValueError\n",
        "        self.beam_size = beam_size\n",
        "        self.sampling = greedy\n",
        "\n",
        "    def _set_start_sequence(self, inps):\n",
        "        batch, seq_lens = inps.size()\n",
        "        res = inps[:, None].repeat(1, self.beam_size, 1)  # [batch, beam, l]\n",
        "        res.view(-1, seq_lens)\n",
        "\n",
        "        return res.view(-1, seq_lens)\n",
        "\n",
        "    @torch.no_grad()\n",
        "    def sample(self, inps):\n",
        "        inps=torch.LongTensor([inps])\n",
        "        n_batch, seq_length = inps.size()\n",
        "        context = self._set_start_sequence(inps)\n",
        "        generated = deepcopy(context)\n",
        "        past = None\n",
        "\n",
        "        probs = torch.zeros([n_batch * self.beam_size]).to(context.device)\n",
        "        for t in range(0, self.seq_length):\n",
        "            out = self.model(context, past_key_values=past)\n",
        "            lm_logits,past= out[\"logits\"],out[\"past_key_values\"]\n",
        "#             lm_logits, past = self.model(context, past=past)\n",
        "            \n",
        "            lm_logits = lm_logits[:, -1]\n",
        "\n",
        "            context, probs, past, generated = self.beam_sample(lm_logits, probs, t, past, generated)\n",
        "\n",
        "        return generated.cpu()[:, 0], probs\n",
        "\n",
        "    def beam_sample(self, logits, probs, time_step, past, generated):\n",
        "\n",
        "        if time_step == 0:\n",
        "            logits = logits.view(-1, self.beam_size, logits.size()[-1])\n",
        "            probs, preds = self.beam_start(logits, probs)\n",
        "            generated = torch.cat([generated, preds], dim=-1)\n",
        "\n",
        "        else:\n",
        "            logits = logits.view(-1, self.beam_size, logits.size()[-1])\n",
        "            probs, preds, past, generated = self.beam_continue(logits, probs, past, generated)\n",
        "\n",
        "        return preds.view(-1, 1), probs, past, generated\n",
        "\n",
        "    def beam_start(self, logits, probs):\n",
        "        logits = logits / self.temperature\n",
        "        p, i = torch.topk(torch.log_softmax(logits, -1), self.beam_size, -1)  # [batch, beam_size]\n",
        "        i = i.view(-1, self.beam_size, self.beam_size)[:, 0, :].contiguous().view(-1, 1)\n",
        "        p = p.view(-1, self.beam_size, self.beam_size)[:, 0, :].contiguous().view(-1, 1)\n",
        "\n",
        "        probs = probs + p.view(-1)\n",
        "\n",
        "        return probs, i\n",
        "\n",
        "    def beam_continue(self, logits, probs, past, generated):\n",
        "        bs = logits.size(0)\n",
        "        generated = generated.view(bs, self.beam_size, -1)\n",
        "\n",
        "        current_p, indexes = torch.topk(torch.log_softmax(logits, -1), self.beam_size,\n",
        "                                        -1)  # [batch_size, beam_size, beam_size]\n",
        "        probs = probs.view(bs, -1).unsqueeze(-1) + current_p\n",
        "        new_probs = probs.view(bs, -1)\n",
        "\n",
        "        probs, ni = new_probs.topk(self.beam_size, -1)\n",
        "        sampled = indexes.view(bs, -1).gather(1, ni)  # [batch, beam]\n",
        "        group = ni // self.beam_size\n",
        "        ind = torch.arange(bs)[:, None], group\n",
        "        generated = generated[ind]\n",
        "        bs_beam = past[0][0].size(0)\n",
        "\n",
        "        n_head, seq_len, hidden_size = past[0][0].size()[1:]\n",
        "\n",
        "        past = [\n",
        "            (k.view(bs, self.beam_size, n_head, seq_len, hidden_size)[ind].view(bs_beam, n_head, seq_len, hidden_size),\n",
        "             v.view(bs, self.beam_size, n_head, seq_len, hidden_size)[ind].view(bs_beam, n_head, seq_len, hidden_size)) \\\n",
        "            for k, v in past]\n",
        "\n",
        "        # sampled = indexes.view(bs, -1).gather(1, ni)\n",
        "        generated = torch.cat([generated, sampled[:, :, None]], -1)\n",
        "\n",
        "        return probs, sampled.view(-1)[:, None], past, generated\n"
      ],
      "execution_count": 14,
      "outputs": []
    },
    {
      "cell_type": "markdown",
      "metadata": {
        "id": "7IAxVMe8uND0"
      },
      "source": [
        "## Huggingface 정답"
      ]
    },
    {
      "cell_type": "code",
      "metadata": {
        "id": "IsB27g1zuND0",
        "outputId": "d238cfa1-aaf1-4465-b241-95c1af1d3017",
        "colab": {
          "base_uri": "https://localhost:8080/"
        }
      },
      "source": [
        "gen_ids = model.generate(torch.tensor([input_ids]),max_length=34,\n",
        "                         num_beams=3,temperature=2.0)\n",
        "generated = tokenizer.decode(gen_ids[0,:].tolist())\n",
        "print(generated)"
      ],
      "execution_count": 15,
      "outputs": [
        {
          "output_type": "stream",
          "name": "stderr",
          "text": [
            "/usr/local/lib/python3.7/dist-packages/transformers/generation_utils.py:1838: UserWarning: __floordiv__ is deprecated, and its behavior will change in a future version of pytorch. It currently rounds toward 0 (like the 'trunc' function NOT 'floor'). This results in incorrect rounding for negative values. To keep the current behavior, use torch.div(a, b, rounding_mode='trunc'), or for actual floor division, use torch.div(a, b, rounding_mode='floor').\n",
            "  next_indices = next_tokens // vocab_size\n"
          ]
        },
        {
          "output_type": "stream",
          "name": "stdout",
          "text": [
            "근육이 커지기 위해서는 무엇보다 면역력을 높여야 한다.\n",
            "면역력을 높여야 하는 이유다.\n",
            "면역력을 높여야 하는 이유다.\n",
            "면역력을 높여야 하는 이유다.\n",
            "면역력을 높여\n"
          ]
        }
      ]
    },
    {
      "cell_type": "markdown",
      "metadata": {
        "id": "vmODWSZouND1"
      },
      "source": [
        "## 비교해보기"
      ]
    },
    {
      "cell_type": "code",
      "metadata": {
        "id": "GI34DMuquND1",
        "outputId": "fa853c83-88b8-48e1-fb80-722d9bec9a8d",
        "colab": {
          "base_uri": "https://localhost:8080/"
        }
      },
      "source": [
        "sampler=BeamSampler(model,30,3,temperature=2.0)\n",
        "\n",
        "sampled_ids=sampler.sample(input_ids)[0]\n",
        "\n",
        "generated = tokenizer.decode(sampled_ids[0,:].tolist())\n",
        "print(generated)"
      ],
      "execution_count": 16,
      "outputs": [
        {
          "output_type": "stream",
          "name": "stderr",
          "text": [
            "/usr/local/lib/python3.7/dist-packages/ipykernel_launcher.py:77: UserWarning: __floordiv__ is deprecated, and its behavior will change in a future version of pytorch. It currently rounds toward 0 (like the 'trunc' function NOT 'floor'). This results in incorrect rounding for negative values. To keep the current behavior, use torch.div(a, b, rounding_mode='trunc'), or for actual floor division, use torch.div(a, b, rounding_mode='floor').\n"
          ]
        },
        {
          "output_type": "stream",
          "name": "stdout",
          "text": [
            "근육이 커지기 위해서는 무엇보다 면역력을 높여야 한다.\n",
            "면역력을 높여야 하는 이유다.\n",
            "면역력을 높여야 하는 이유다.\n",
            "면역력을 높여야 하는 이유다.\n",
            "면역력을 높여\n"
          ]
        }
      ]
    },
    {
      "cell_type": "markdown",
      "metadata": {
        "id": "WPY53wGtuND1"
      },
      "source": [
        "# Stochastic-based Decoding\n",
        "* Top-k sampling\n",
        "\n",
        "* Top-p sampling"
      ]
    },
    {
      "cell_type": "markdown",
      "metadata": {
        "id": "W3T3EuhLuND1"
      },
      "source": [
        "## Hugging face Library"
      ]
    },
    {
      "cell_type": "code",
      "metadata": {
        "id": "1K7XHKYCuND1",
        "outputId": "9ec57702-b1f7-407c-daa8-aa855b468052",
        "colab": {
          "base_uri": "https://localhost:8080/"
        }
      },
      "source": [
        "## top-k sampling\n",
        "\n",
        "gen_ids = model.generate(torch.tensor([input_ids]),max_length=34,\n",
        "                         do_sample=True,top_k=5,temperature=1.0)\n",
        "generated = tokenizer.decode(gen_ids[0,:].tolist())\n",
        "print(generated)"
      ],
      "execution_count": 17,
      "outputs": [
        {
          "output_type": "stream",
          "name": "stdout",
          "text": [
            "근육이 커지기 위해서는 무엇보다 면역력을 키우는 것이 무엇보다 중요하다.\n",
            "면역력이란 우리 몸이 스스로 면역력을 키우기 위해 몸속에 있는 각종 면역물질을 스스로 만들어 내는 능력을 말한다.\n",
            "면역\n"
          ]
        }
      ]
    },
    {
      "cell_type": "markdown",
      "metadata": {
        "id": "ufub109duND2"
      },
      "source": [
        "* top-p sampling"
      ]
    },
    {
      "cell_type": "code",
      "metadata": {
        "id": "LAQLpZEYuND2",
        "outputId": "d0d2989c-58dc-4879-ba79-23e71661a00e",
        "colab": {
          "base_uri": "https://localhost:8080/"
        }
      },
      "source": [
        "## top-k sampling\n",
        "\n",
        "gen_ids = model.generate(torch.tensor([input_ids]),max_length=34,\n",
        "                         do_sample=True,top_p=0.1,temperature=1.0)\n",
        "generated = tokenizer.decode(gen_ids[0,:].tolist())\n",
        "print(generated)"
      ],
      "execution_count": 18,
      "outputs": [
        {
          "output_type": "stream",
          "name": "stdout",
          "text": [
            "근육이 커지기 위해서는 무엇보다 영양소가 풍부한 음식을 섭취하는 것이 중요하다.\n",
            "특히, 비타민C가 풍부한 음식은 비타민C가 풍부한 음식을 섭취하는 것이 좋다.\n",
            "비타민C는\n"
          ]
        }
      ]
    },
    {
      "cell_type": "code",
      "metadata": {
        "id": "kEXgO6yMuND2"
      },
      "source": [
        "def top_k_logits(logits, k):\n",
        "    if k == 0:\n",
        "        # no truncation\n",
        "        return logits\n",
        "    else:\n",
        "        values, _ = torch.topk(logits, k=k)\n",
        "        min_values = values[:, -1, None]\n",
        "        return torch.where(\n",
        "            logits < min_values,\n",
        "            torch.ones_like(logits, dtype=logits.dtype) * -1e10,\n",
        "            logits,\n",
        "        )"
      ],
      "execution_count": 19,
      "outputs": []
    },
    {
      "cell_type": "code",
      "metadata": {
        "id": "4ou9Nx1vuND2"
      },
      "source": [
        "def top_p_logits(logits, p):\n",
        "    \"\"\"Nucleus sampling\"\"\"\n",
        "    batch = logits.size(0)\n",
        "    sorted_logits, _ = torch.sort(logits, descending=True, dim=-1)\n",
        "    cumulative_probs = torch.cumsum(torch.softmax(sorted_logits, dim=-1), dim=-1)\n",
        "    a = torch.arange(0, batch).to(logits.device)\n",
        "    b = torch.max(torch.sum(cumulative_probs <= p, dim=-1) - 1, torch.Tensor([0]).long().to(logits.device))\n",
        "    min_values = sorted_logits[a, b].to(logits.device)\n",
        "\n",
        "    return torch.where(\n",
        "        logits < min_values[:, None],\n",
        "        torch.ones_like(logits) * -1e10,\n",
        "        logits,\n",
        "    )"
      ],
      "execution_count": 20,
      "outputs": []
    },
    {
      "cell_type": "code",
      "metadata": {
        "id": "EkJbqKYWuND2"
      },
      "source": [
        "class StochasticSampler(SamplerBase):\n",
        "    def __init__(self, model, seq_length, top_whatever, stochastic_func, temperature: float = 1.0):\n",
        "        \"\"\"\n",
        "        :param model:\n",
        "        :param seq_length:\n",
        "        :stochastic_func\n",
        "        \"\"\"\n",
        "        super(StochasticSampler, self).__init__(model, seq_length)\n",
        "\n",
        "        self.temperature = temperature\n",
        "        self.top_whatever=top_whatever\n",
        "        self.sampling = stochastic_func\n",
        "        \n",
        "\n",
        "    @torch.no_grad()\n",
        "    def sample(self, inps):\n",
        "        inps=torch.LongTensor([inps])\n",
        "        context = inps\n",
        "        generated = deepcopy(inps)\n",
        "        past = None\n",
        "\n",
        "        for t in range(0, self.seq_length):\n",
        "            out = self.model(context, past_key_values=past)\n",
        "            lm_logits,past= out[\"logits\"],out[\"past_key_values\"]            \n",
        "            lm_logits = lm_logits / self.temperature\n",
        "            lm_logits = lm_logits[:, -1]\n",
        "            masked_lm_logits = self.sampling(lm_logits, self.top_whatever)\n",
        "            context = torch.multinomial(torch.softmax(masked_lm_logits, -1), 1)\n",
        "            generated = torch.cat([generated, context], dim=-1)\n",
        "\n",
        "        return generated\n"
      ],
      "execution_count": 76,
      "outputs": []
    },
    {
      "cell_type": "code",
      "metadata": {
        "id": "T8OZGHJTuND3",
        "outputId": "3ec4a5cb-c3ae-4547-b4ef-7ed5c3c08a36",
        "colab": {
          "base_uri": "https://localhost:8080/"
        }
      },
      "source": [
        "sampler=StochasticSampler(model,30,10,top_k_logits)\n",
        "sampled_ids=sampler.sample(input_ids)\n",
        "generated = tokenizer.decode(sampled_ids[0,:].tolist())\n",
        "print(generated)"
      ],
      "execution_count": 77,
      "outputs": [
        {
          "output_type": "stream",
          "name": "stdout",
          "text": [
            "근육이 커지기 위해서는 무엇보다 건강해야 한다.\n",
            "그런데 이런 건강상의 문제 외에도 잘못된 식습관이 건강을 해칠 수 있다.\n",
            "건강한 다이어트를 위해서는 영양소의 균형 잡힌\n"
          ]
        }
      ]
    },
    {
      "cell_type": "code",
      "metadata": {
        "id": "i6VukDW0uND3",
        "outputId": "c810e560-a146-46bc-ae7f-ee2c81e3b8d7",
        "colab": {
          "base_uri": "https://localhost:8080/"
        }
      },
      "source": [
        "sampler=StochasticSampler(model,30,0.5,top_p_logits)\n",
        "sampled_ids=sampler.sample(input_ids)\n",
        "generated = tokenizer.decode(sampled_ids[0,:].tolist())\n",
        "print(generated)"
      ],
      "execution_count": 78,
      "outputs": [
        {
          "output_type": "stream",
          "name": "stdout",
          "text": [
            "근육이 커지기 위해서는 피부에 충분한 수분을 공급해줘야 한다.\n",
            "피부에 수분이 충분히 공급되지 않으면 피부건조가 심해질 수 있다.\n",
            "그렇다면 수분이 부족하면 수분\n"
          ]
        }
      ]
    },
    {
      "cell_type": "markdown",
      "metadata": {
        "id": "fshMHi7duND3"
      },
      "source": [
        "## 참고 자료"
      ]
    },
    {
      "cell_type": "markdown",
      "metadata": {
        "id": "ZuGbgtcYuND3"
      },
      "source": [
        "https://huggingface.co/transformers/v2.6.0/quickstart.html#using-the-past\n",
        "\n",
        "https://github.com/pytorch/fairseq/blob/1f7ef9ed1e1061f8c7f88f8b94c7186834398690/fairseq/search.py#L103\n",
        "\n",
        "https://jeongukjae.github.io/posts/cs224n-lecture-15-natural-language-generation/"
      ]
    }
  ]
}