{
  "nbformat": 4,
  "nbformat_minor": 0,
  "metadata": {
    "colab": {
      "name": "_6 토픽 모델링(Topic Modeling).ipynb의 사본",
      "provenance": [],
      "collapsed_sections": []
    },
    "kernelspec": {
      "name": "python3",
      "display_name": "Python 3"
    }
  },
  "cells": [
    {
      "cell_type": "markdown",
      "metadata": {
        "id": "sqJ4qz2uwHHH"
      },
      "source": [
        "# 토픽 모델링(Topic Modeling)"
      ]
    },
    {
      "cell_type": "markdown",
      "metadata": {
        "id": "YwtnnVf3DcnI"
      },
      "source": [
        "* 토픽 모델링은 문서 집합에서 주제를 찾아내기 위한 기술\n",
        "* 토픽 모델링은 '특정 주제에 관한 문서에서는 특정 단어가 자주 등장할 것이다'라는 직관을 기반\n",
        "* 예를 들어, 주제가 '개'인 문서에서는 개의 품종, 개의 특성을 나타내는 단어가 다른 문서에 비해 많이 등장\n",
        "* 주로 사용되는 토픽 모델링 방법은 잠재 의미 분석과 잠재 디리클레 할당 기법이 있음"
      ]
    },
    {
      "cell_type": "markdown",
      "metadata": {
        "id": "i_DR7Dg5XLn-"
      },
      "source": [
        "## 잠재 의미 분석(Latent Semantic Analysis)\n",
        "\n",
        "* 잠재 의미 분석(LSA)은 주로 문서 색인의 의미 검색에 사용\n",
        "* 잠재 의미 인덱싱(Latent Semantic Indexing, LSI)로도 알려져 있음\n",
        "* LSA의 목표는 문서와 단어의 기반이 되는 잠재적인 토픽을 발견하는 것\n",
        "* 잠재적인 토픽은 문서에 있는 단어들의 분포를 주도한다고 가정\n",
        "\n",
        "* LSA 방법\n",
        "  + 문서 모음에서 생성한 문서-단어 행렬(Document Term Matrix)에서 단어-토픽 행렬(Term-Topic Matrix)과 토픽-중요도 행렬(Topic-Importance Matrix), 그리고 토픽-문서 행렬(Topic-Document Matrix)로 분해"
      ]
    },
    {
      "cell_type": "markdown",
      "metadata": {
        "id": "vVQH1rH0bJLI"
      },
      "source": [
        "## 잠재 디리클레 할당(Latent Dirichlet Allocation)"
      ]
    },
    {
      "cell_type": "markdown",
      "metadata": {
        "id": "Ex3DjGiFKmk1"
      },
      "source": [
        "* 잠재 디레클레 할당(LDA)은 대표적인 토픽 모델링  알고리즘 중 하나\n",
        "\n",
        "* 잠재 디레클레 할당 방법\n",
        "  1. 사용자가 토픽이 개수를 지정해 알고리즘에 전달\n",
        "  2. 모든 단어들을 토픽 중 하나에 할당\n",
        "  3. 모든 문서의 모든 단어에 대해 단어 w가 가정에 의거, $p(t|d)$, $p(w|t)$에 따라 토픽을 재할당, 이를 반복, 이 때 가정은 자신만이 잘못된 토픽에 할당되어 있고 다른 모든 단어는 올바른 토픽에 할당된다는 것을 의미    \n",
        "\n",
        "* $p(t|d)$ - 문서 d의 단어들 중 토픽 t에 해당하는 비율\n",
        "* 해당 문서의 자주 등장하는 다른 단어의 토픽이 해당 단어의 토픽이 될 가능성이 높음을 의미    \n",
        "\n",
        "* $p(w|t)$- 단어 w를 가지고 있는 모든 문서들 중  토픽 t가 할당된 비율\n",
        "* 다른 문서에서 단어 w에 많이 할당된 토픽이 해당 단어의 토픽이 될 가능성이 높음을 의미"
      ]
    },
    {
      "cell_type": "markdown",
      "metadata": {
        "id": "1RxDTpTts3ma"
      },
      "source": [
        "## 데이터 준비"
      ]
    },
    {
      "cell_type": "code",
      "metadata": {
        "id": "z1yVomvgs6l3",
        "colab": {
          "base_uri": "https://localhost:8080/",
          "height": 182
        },
        "outputId": "5ba8d78d-c875-461b-a00e-3223761a6971"
      },
      "source": [
        "from sklearn.datasets import fetch_20newsgroups\n",
        "\n",
        "dataset = fetch_20newsgroups(shuffle= True, random_state=1,\n",
        "                             remove = ('headers','footers','quotes'))\n",
        "documents = dataset.data\n",
        "\n",
        "print(len(documents))\n",
        "documents[0]"
      ],
      "execution_count": 2,
      "outputs": [
        {
          "output_type": "stream",
          "name": "stdout",
          "text": [
            "11314\n"
          ]
        },
        {
          "output_type": "execute_result",
          "data": {
            "text/plain": [
              "\"Well i'm not sure about the story nad it did seem biased. What\\nI disagree with is your statement that the U.S. Media is out to\\nruin Israels reputation. That is rediculous. The U.S. media is\\nthe most pro-israeli media in the world. Having lived in Europe\\nI realize that incidences such as the one described in the\\nletter have occured. The U.S. media as a whole seem to try to\\nignore them. The U.S. is subsidizing Israels existance and the\\nEuropeans are not (at least not to the same degree). So I think\\nthat might be a reason they report more clearly on the\\natrocities.\\n\\tWhat is a shame is that in Austria, daily reports of\\nthe inhuman acts commited by Israeli soldiers and the blessing\\nreceived from the Government makes some of the Holocaust guilt\\ngo away. After all, look how the Jews are treating other races\\nwhen they got power. It is unfortunate.\\n\""
            ],
            "application/vnd.google.colaboratory.intrinsic+json": {
              "type": "string"
            }
          },
          "metadata": {},
          "execution_count": 2
        }
      ]
    },
    {
      "cell_type": "code",
      "metadata": {
        "id": "E56d3KXroenQ",
        "colab": {
          "base_uri": "https://localhost:8080/"
        },
        "outputId": "7eada824-5dcc-4606-94cf-f91ec363ccab"
      },
      "source": [
        "import re\n",
        "import nltk\n",
        "from nltk.corpus import stopwords\n",
        "from nltk.tokenize import word_tokenize\n",
        "from gensim.parsing.preprocessing import preprocess_string\n",
        "\n",
        "nltk.download('stopwords')\n",
        "\n",
        "def clean_text(d):\n",
        "  pattern = r'[^a-zA-Z\\s]'\n",
        "  text = re.sub(pattern, '', d)\n",
        "  return text\n",
        "\n",
        "def clean_stopword(d):\n",
        "  stop_words = stopwords.words('english')\n",
        "  return ' '.join([w.lower() for w in d.split() if w.lower() not in stop_words and len(w) > 3])\n",
        "\n",
        "def preprocessing(d):\n",
        "  return preprocess_string(d)"
      ],
      "execution_count": 11,
      "outputs": [
        {
          "output_type": "stream",
          "name": "stderr",
          "text": [
            "[nltk_data] Downloading package stopwords to /root/nltk_data...\n",
            "[nltk_data]   Package stopwords is already up-to-date!\n"
          ]
        }
      ]
    },
    {
      "cell_type": "code",
      "metadata": {
        "id": "QCo9S9RlrfQg",
        "colab": {
          "base_uri": "https://localhost:8080/"
        },
        "outputId": "62647343-03bd-4753-f64b-b6b2581a6d79"
      },
      "source": [
        "import pandas as pd\n",
        "\n",
        "news_df = pd.DataFrame({'article':documents})\n",
        "len(news_df)"
      ],
      "execution_count": 12,
      "outputs": [
        {
          "output_type": "execute_result",
          "data": {
            "text/plain": [
              "11314"
            ]
          },
          "metadata": {},
          "execution_count": 12
        }
      ]
    },
    {
      "cell_type": "code",
      "metadata": {
        "id": "9xzZu6Iprj5B",
        "colab": {
          "base_uri": "https://localhost:8080/"
        },
        "outputId": "522001d2-1844-411b-e6aa-1f568d4c4be7"
      },
      "source": [
        "news_df.replace(\"\",float(\"NaN\"), inplace=True)\n",
        "#news_df.isnull().values.any()\n",
        "news_df.dropna(inplace=True)\n",
        "print(len(news_df))"
      ],
      "execution_count": 13,
      "outputs": [
        {
          "output_type": "stream",
          "name": "stdout",
          "text": [
            "11096\n"
          ]
        }
      ]
    },
    {
      "cell_type": "code",
      "metadata": {
        "id": "Oi3PJ7dMsF8K",
        "colab": {
          "base_uri": "https://localhost:8080/"
        },
        "outputId": "dbcb0d7a-0ccf-4100-aa29-bea1ac634ee8"
      },
      "source": [
        "news_df['article'] = news_df['article'].apply(clean_text)\n",
        "news_df['article']"
      ],
      "execution_count": 14,
      "outputs": [
        {
          "output_type": "execute_result",
          "data": {
            "text/plain": [
              "0        Well im not sure about the story nad it did se...\n",
              "1        \\n\\n\\n\\n\\n\\n\\nYeah do you expect people to rea...\n",
              "2        Although I realize that principle is not one o...\n",
              "3        Notwithstanding all the legitimate fuss about ...\n",
              "4        Well I will have to change the scoring on my p...\n",
              "                               ...                        \n",
              "11309    Danny Rubenstein an Israeli journalist will be...\n",
              "11310                                                   \\n\n",
              "11311    \\nI agree  Home runs off Clemens are always me...\n",
              "11312    I used HP DeskJet with Orange Micros Grappler ...\n",
              "11313                                          \\nNo arg...\n",
              "Name: article, Length: 11096, dtype: object"
            ]
          },
          "metadata": {},
          "execution_count": 14
        }
      ]
    },
    {
      "cell_type": "code",
      "metadata": {
        "id": "ViSra6MYuM9x",
        "colab": {
          "base_uri": "https://localhost:8080/"
        },
        "outputId": "fa81e3f9-0d8f-47dd-caff-f595733aad1f"
      },
      "source": [
        "news_df['article'] = news_df['article'].apply(clean_stopword)\n",
        "news_df['article']"
      ],
      "execution_count": 15,
      "outputs": [
        {
          "output_type": "execute_result",
          "data": {
            "text/plain": [
              "0        well sure story seem biased disagree statement...\n",
              "1        yeah expect people read actually accept hard a...\n",
              "2        although realize principle strongest points wo...\n",
              "3        notwithstanding legitimate fuss proposal much ...\n",
              "4        well change scoring playoff pool unfortunately...\n",
              "                               ...                        \n",
              "11309    danny rubenstein israeli journalist speaking t...\n",
              "11310                                                     \n",
              "11311    agree home runs clemens always memorable kinda...\n",
              "11312    used deskjet orange micros grappler system upd...\n",
              "11313    argument murphy scared hell came last year han...\n",
              "Name: article, Length: 11096, dtype: object"
            ]
          },
          "metadata": {},
          "execution_count": 15
        }
      ]
    },
    {
      "cell_type": "code",
      "metadata": {
        "id": "W6BleIc4Jwcs",
        "colab": {
          "base_uri": "https://localhost:8080/"
        },
        "outputId": "896717ef-abff-4eb6-9252-2658452be8ae"
      },
      "source": [
        "tokenized_news = news_df['article'].apply(preprocessing)\n",
        "tokenized_news = tokenized_news.to_list()\n",
        "print(tokenized_news[:10])"
      ],
      "execution_count": 18,
      "outputs": [
        {
          "output_type": "stream",
          "name": "stdout",
          "text": [
            "[['sure', 'stori', 'bias', 'disagre', 'statement', 'media', 'ruin', 'israel', 'reput', 'redicul', 'media', 'proisra', 'media', 'world', 'live', 'europ', 'realiz', 'incid', 'describ', 'letter', 'occur', 'media', 'ignor', 'subsid', 'israel', 'exist', 'european', 'degre', 'think', 'reason', 'report', 'clearli', 'atroc', 'shame', 'austria', 'daili', 'report', 'inhuman', 'act', 'commit', 'isra', 'soldier', 'bless', 'receiv', 'govern', 'make', 'holocaust', 'guilt', 'awai', 'look', 'jew', 'treat', 'race', 'power', 'unfortun'], ['yeah', 'expect', 'peopl', 'read', 'actual', 'accept', 'hard', 'atheism', 'need', 'littl', 'leap', 'faith', 'jimmi', 'logic', 'run', 'steam', 'sorri', 'piti', 'sorri', 'feel', 'denial', 'faith', 'need', 'pretend', 'happili', 'mayb', 'start', 'newsgroup', 'altatheisthard', 'wont', 'bummin', 'byeby', 'dont', 'forget', 'flintston', 'chewabl', 'bake', 'timmon'], ['realiz', 'principl', 'strongest', 'point', 'like', 'know', 'question', 'sort', 'arab', 'countri', 'want', 'continu', 'think', 'tank', 'charad', 'fixat', 'israel', 'stop', 'start', 'ask', 'sort', 'question', 'arab', 'countri', 'realiz', 'work', 'arab', 'countri', 'treatment', 'jew', 'decad', 'fixat', 'israel', 'begin', 'look', 'like', 'bias', 'attack', 'group', 'recogn', 'stupid', 'center', 'polici', 'research', 'fanci', 'bigot', 'hate', 'israel'], ['notwithstand', 'legitim', 'fuss', 'propos', 'chang', 'att', 'product', 'area', 'price', 'suspect', 'clipper', 'phone', 'came', 'custom', 'automat', 'preregist', 'govern', 'author', 'asid', 'attempt', 'legitim', 'solidifi', 'fed', 'postur', 'clipper', 'direct', 'technolog', 'eventu', 'drive', 'cost', 'promot', 'widespread', 'present', 'street', 'go', 'purchas', 'crypto', 'telephon', 'especi', 'probabl', 'doesnt', 'miss', 'real', 'question', 'year', 'tight', 'voic', 'privaci', 'phone', 'line', 'close', 'nearest', 'problemat', 'scenario', 'extent', 'usag', 'surpass', 'underground', 'statur'], ['chang', 'score', 'playoff', 'pool', 'unfortun', 'dont', 'time', 'right', 'certainli', 'post', 'score', 'rule', 'tomorrow', 'matter', 'youll', 'enter', 'good', 'keith', 'keller', 'let', 'ranger', 'let', 'quaker', 'kkellermailsasupennedu', 'leagu', 'champ'], ['read', 'think', 'morton', 'smith', 'jesu', 'magician', 'lazaru', 'wasnt', 'dead', 'go', 'tomb', 'initi', 'rite', 'magicult', 'jesu', 'appear', 'stai', 'normal', 'wonder'], ['record', 'show', 'iisi', 'cach', 'small', 'attach', 'measur', 'real', 'program', 'cach', 'speedup', 'vari', 'rang', 'think', 'averag', 'right', 'subject', 'differ', 'great', 'notic', 'simpl', 'cach', 'card', 'certainli', 'transform', 'iisi', 'enorm', 'better', 'convent', 'wisdom', 'sai', 'cach', 'card', 'maker', 'offer', 'speedup', 'differ', 'cach', 'bought', 'wave', 'absolut', 'problem', 'complet', 'speedomet', 'run', 'cach', 'like', 'let', 'check', 'convent', 'wisdom', 'call', 'perform', 'rate', 'number', 'cheer', 'file', 'convert', 'binhex', 'kbfkpqgeaqkabgjcfgigfhh', 'ghqqsqbucsquuqscfphghlhhclkjqtuldhhblucucjugqhgik', 'hcakrspijqrqqujnjucldussquutqcudljltuuquubut', 'sluuqjsutqjsudtuuqcqucfjcacsldld', 'jblaiggbjibpusbz', 'ikcqfmvxmhhairdjpcvrlucvszsijljpiflzqaalxrhjf', 'ljaztvllneapreivipiqkfdkzvbtlkcxzlghfik', 'alkhqqhhmilcqiqpgespejnbhmdhllqhlrecqbqsrmm', 'pakjpgxqcprryreydmhhrjhapclhrsgpfeiymcrisefp', 'cgevrtrafaqkapgjksfemcbikfqckuhrrbddtixpz', 'vldfeuvkujadfzaezregtyknxhsjfeigelvzj', 'vfbtbhjlexpekjzkhccfjkhgzcbhhnvdcxdsdfdpjei', 'qcxhkeldpyyyfrgjmrjtcymibkbbpubqpuqmmihgyrb', 'eungmsapmrikldinqmqjzabqmimqkcmcfeu', 'fyuexbtdraepadkcakeasthliahfhdabap', 'virtivsejgsqqqdpmmidhhmfruqekgevirqj', 'cmejfyiqlviqhhrhytrzkxipqrqkcuedrcr', 'qciukzmefiyibqmeffktbbjhylkpxvebuamdahccxl', 'iejfsappzchajcybrjdmfljbiscjhqetfvkrr', 'zviqrbthbfrhcpuyjujyprcdpaxafrlxrhfydmvi', 'dmtfnmlpjdxnkcrqbckehvkiarantabyyltm', 'fbufflgjdqareuqsjpbclefrkpdgjbijhnadhmrm', 'qpjiteramrhjajfhjrjjxdkecabdkjkrqricrcckrd', 'mvrbjcxnrfrchypkrchjjijhkjpqarbzffvkgqg', 'mbmupgxkuexglglglgekhrxfixirnykbmrsbnmqpqradj', 'fhrcpeirfhyjghpshhnrjjxbfbcljkfbqgmmcle', 'mhpfbarqqplkqiqrmmslfpcpjyddapaleeipbdc', 'rlpexjkhfzzkgnhabtlrdfaxvbkjmetlp', 'qckrpmjebnfjhnvpffjpqxjnlyrlpqccmlempcxzb', 'mpvspyxtbfqasrxrmrzfilxsvppvjicfmrrekxddifhmtqvlt', 'aalmchgurmeyaridiylpehpaifhnfmqqlchvcduajjebndih', 'pjqedxcgdtvmdypimrjerpqqaacvkclzizpzkfvrd', 'hfrmcinqhrejvernabfbqqlkclkqrhmkhnyaucqhq', 'kajhrefqrhbzslfgtpmifpcdembsc', 'crjjtbadmicjabap'], ['sound', 'like', 'wish', 'guess', 'socal', 'mean', 'peac', 'process', 'palestinean', 'negoci', 'wellfound', 'predict', 'know', 'found', 'test', 'tabl', 'month', 'prove', 'fault', 'right', 'know', 'let', 'palestinean', 'want', 'israel', 'known', 'accept', 'term', 'isra', 'mayb', 'palestinenan', 'readi', 'statehood', 'mayb', 'polit', 'palestinean', 'leadership', 'fraction', 'sai', 'reason', 'real', 'arab', 'stall', 'negoti', 'like', 'california', 'orang', 'feel', 'sharper', 'tabl', 'regard'], ['sai', 'shouldnt', 'allow', 'dont', 'forc', 'food', 'want', 'enhanc', 'tabl', 'like', 'salt', 'option', 'eater', 'commer', 'product', 'leav', 'includ', 'packet', 'like', 'salt', 'packet', 'desir', 'salt', 'pepper', 'mustard', 'ketchup', 'pickl', 'tabl', 'option', 'treat', 'wouldnt', 'shove', 'condiment', 'throat', 'dont', 'shove'], ['wonder', 'shed', 'light', 'electron', 'odomet', 'rememb', 'total', 'elaps', 'mileag', 'kind', 'memori', 'stablereli', 'nonvolatil', 'independ', 'outsid', 'batteri', 'power', 'year', 'life', 'vehicl', 'amaz', 'like', 'expect', 'work', 'length', 'time', 'especi', 'light', 'gizmo', 'work', 'good', 'work', 'month', 'break', 'question', 'legal', 'ramif', 'sell', 'replac', 'odomet', 'start', 'mile', 'actual', 'mile', 'look', 'like', 'fraud', 'fairli', 'easi', 'price', 'odomet', 'mile', 'want', 'tell', 'buyer', 'thank', 'insight']]\n"
          ]
        }
      ]
    },
    {
      "cell_type": "code",
      "source": [
        "print(tokenized_news[:5])"
      ],
      "metadata": {
        "colab": {
          "base_uri": "https://localhost:8080/"
        },
        "id": "cYr0l5N7NXHB",
        "outputId": "9b79e96f-9279-4005-ac52-c08ff30da6e6"
      },
      "execution_count": 19,
      "outputs": [
        {
          "output_type": "stream",
          "name": "stdout",
          "text": [
            "[['sure', 'stori', 'bias', 'disagre', 'statement', 'media', 'ruin', 'israel', 'reput', 'redicul', 'media', 'proisra', 'media', 'world', 'live', 'europ', 'realiz', 'incid', 'describ', 'letter', 'occur', 'media', 'ignor', 'subsid', 'israel', 'exist', 'european', 'degre', 'think', 'reason', 'report', 'clearli', 'atroc', 'shame', 'austria', 'daili', 'report', 'inhuman', 'act', 'commit', 'isra', 'soldier', 'bless', 'receiv', 'govern', 'make', 'holocaust', 'guilt', 'awai', 'look', 'jew', 'treat', 'race', 'power', 'unfortun'], ['yeah', 'expect', 'peopl', 'read', 'actual', 'accept', 'hard', 'atheism', 'need', 'littl', 'leap', 'faith', 'jimmi', 'logic', 'run', 'steam', 'sorri', 'piti', 'sorri', 'feel', 'denial', 'faith', 'need', 'pretend', 'happili', 'mayb', 'start', 'newsgroup', 'altatheisthard', 'wont', 'bummin', 'byeby', 'dont', 'forget', 'flintston', 'chewabl', 'bake', 'timmon'], ['realiz', 'principl', 'strongest', 'point', 'like', 'know', 'question', 'sort', 'arab', 'countri', 'want', 'continu', 'think', 'tank', 'charad', 'fixat', 'israel', 'stop', 'start', 'ask', 'sort', 'question', 'arab', 'countri', 'realiz', 'work', 'arab', 'countri', 'treatment', 'jew', 'decad', 'fixat', 'israel', 'begin', 'look', 'like', 'bias', 'attack', 'group', 'recogn', 'stupid', 'center', 'polici', 'research', 'fanci', 'bigot', 'hate', 'israel'], ['notwithstand', 'legitim', 'fuss', 'propos', 'chang', 'att', 'product', 'area', 'price', 'suspect', 'clipper', 'phone', 'came', 'custom', 'automat', 'preregist', 'govern', 'author', 'asid', 'attempt', 'legitim', 'solidifi', 'fed', 'postur', 'clipper', 'direct', 'technolog', 'eventu', 'drive', 'cost', 'promot', 'widespread', 'present', 'street', 'go', 'purchas', 'crypto', 'telephon', 'especi', 'probabl', 'doesnt', 'miss', 'real', 'question', 'year', 'tight', 'voic', 'privaci', 'phone', 'line', 'close', 'nearest', 'problemat', 'scenario', 'extent', 'usag', 'surpass', 'underground', 'statur'], ['chang', 'score', 'playoff', 'pool', 'unfortun', 'dont', 'time', 'right', 'certainli', 'post', 'score', 'rule', 'tomorrow', 'matter', 'youll', 'enter', 'good', 'keith', 'keller', 'let', 'ranger', 'let', 'quaker', 'kkellermailsasupennedu', 'leagu', 'champ']]\n"
          ]
        }
      ]
    },
    {
      "cell_type": "code",
      "metadata": {
        "id": "rKywEnyAJxhc",
        "colab": {
          "base_uri": "https://localhost:8080/"
        },
        "outputId": "c56d51f8-1faa-4fe3-ec4f-9af4e91111f7"
      },
      "source": [
        "import numpy as np\n",
        "\n",
        "drop_news = [index for index, sentence in enumerate(tokenized_news) if len(sentence) <= 1]\n",
        "news_texts = np.delete(tokenized_news, drop_news, axis = 0)\n",
        "\n",
        "print(len(news_texts))"
      ],
      "execution_count": 22,
      "outputs": [
        {
          "output_type": "stream",
          "name": "stdout",
          "text": [
            "10926\n"
          ]
        }
      ]
    },
    {
      "cell_type": "markdown",
      "metadata": {
        "id": "IJ8Zkrar1umI"
      },
      "source": [
        "## Gensim을 이용한 토픽 모델링"
      ]
    },
    {
      "cell_type": "code",
      "metadata": {
        "id": "Q7g3xjKA0WI-",
        "colab": {
          "base_uri": "https://localhost:8080/"
        },
        "outputId": "6f7f9d6e-c4a5-49e9-feac-1cbb6b9db73a"
      },
      "source": [
        "from gensim import corpora\n",
        "\n",
        "dictionary = corpora.Dictionary(news_texts)\n",
        "corpus = [dictionary.doc2bow(text) for text in news_texts]\n",
        "\n",
        "print(corpus[1])"
      ],
      "execution_count": 23,
      "outputs": [
        {
          "output_type": "stream",
          "name": "stdout",
          "text": [
            "[(50, 1), (51, 1), (52, 1), (53, 1), (54, 1), (55, 1), (56, 1), (57, 1), (58, 1), (59, 1), (60, 1), (61, 2), (62, 1), (63, 1), (64, 1), (65, 1), (66, 1), (67, 1), (68, 1), (69, 1), (70, 1), (71, 1), (72, 2), (73, 1), (74, 1), (75, 1), (76, 1), (77, 1), (78, 1), (79, 2), (80, 1), (81, 1), (82, 1), (83, 1), (84, 1)]\n"
          ]
        }
      ]
    },
    {
      "cell_type": "markdown",
      "metadata": {
        "id": "zhM28edm261U"
      },
      "source": [
        "### 잠재 의미 분석을 위한 `LsiModel`"
      ]
    },
    {
      "cell_type": "code",
      "metadata": {
        "id": "Pqz7Xmp63LPa",
        "colab": {
          "base_uri": "https://localhost:8080/"
        },
        "outputId": "df196969-03d4-4ea3-e6b1-f37f8f02b476"
      },
      "source": [
        "from gensim.models import LsiModel\n",
        "\n",
        "lsi_model = LsiModel(corpus, num_topics=20, id2word = dictionary)\n",
        "topics = lsi_model.print_topics()\n",
        "\n",
        "topics"
      ],
      "execution_count": 24,
      "outputs": [
        {
          "output_type": "execute_result",
          "data": {
            "text/plain": [
              "[(0,\n",
              "  '-1.000*\"maxaxaxaxaxaxaxaxaxaxaxaxaxaxax\" + -0.008*\"mgvgvgvgvgvgvgvgvgvgvgvgvgvgvgv\" + -0.005*\"maxaxaxaxaxaxaxaxaxaxaxaxaxax\" + -0.003*\"maxaxaxaxaxaxaxaxaxaxaxaxaxaxaxq\" + -0.002*\"maxaxaxaxaxaxaxaxaxaxaxaxaxaxf\" + -0.002*\"mqaxaxaxaxaxaxaxaxaxaxaxaxaxax\" + -0.001*\"maxaxaxaxaxaxaxaxaxaxaxaxaxasqq\" + -0.001*\"maxaxaxaxaxaxaxaxaxaxaxaxaxaxqq\" + -0.001*\"maxaxaxaxaxaxaxaxaxaxaxaxaxaxasq\" + -0.001*\"maxaxaxaxaxaxaxaxaxaxaxaxaxaxqqf\"'),\n",
              " (1,\n",
              "  '-0.393*\"file\" + -0.191*\"program\" + -0.158*\"imag\" + -0.126*\"peopl\" + -0.125*\"avail\" + -0.119*\"inform\" + -0.116*\"includ\" + -0.116*\"entri\" + -0.114*\"work\" + -0.112*\"dont\"'),\n",
              " (2,\n",
              "  '-0.456*\"file\" + 0.215*\"peopl\" + 0.210*\"know\" + 0.192*\"said\" + 0.176*\"dont\" + -0.158*\"entri\" + 0.158*\"think\" + 0.153*\"stephanopoulo\" + -0.139*\"imag\" + 0.129*\"go\"'),\n",
              " (3,\n",
              "  '0.409*\"file\" + 0.286*\"entri\" + -0.241*\"imag\" + -0.168*\"avail\" + -0.141*\"wire\" + -0.136*\"data\" + -0.122*\"version\" + 0.116*\"onam\" + -0.109*\"window\" + 0.104*\"said\"'),\n",
              " (4,\n",
              "  '0.618*\"wire\" + 0.250*\"ground\" + 0.188*\"circuit\" + 0.180*\"outlet\" + -0.163*\"imag\" + 0.149*\"connect\" + 0.141*\"neutral\" + 0.139*\"entri\" + 0.134*\"gfci\" + 0.112*\"cabl\"'),\n",
              " (5,\n",
              "  '-0.370*\"imag\" + -0.344*\"jpeg\" + 0.339*\"anonym\" + 0.186*\"post\" + 0.185*\"internet\" + 0.164*\"privaci\" + 0.138*\"inform\" + 0.126*\"email\" + -0.126*\"format\" + 0.125*\"mail\"'),\n",
              " (6,\n",
              "  '0.405*\"entri\" + -0.393*\"file\" + 0.235*\"program\" + -0.191*\"jpeg\" + -0.130*\"anonym\" + 0.127*\"widget\" + -0.125*\"imag\" + -0.120*\"firearm\" + -0.117*\"wire\" + 0.113*\"drive\"'),\n",
              " (7,\n",
              "  '0.341*\"drive\" + 0.243*\"stephanopoulo\" + -0.227*\"anonym\" + 0.196*\"control\" + 0.193*\"presid\" + 0.190*\"disk\" + -0.158*\"peopl\" + -0.147*\"jpeg\" + -0.144*\"post\" + 0.143*\"support\"'),\n",
              " (8,\n",
              "  '0.427*\"stephanopoulo\" + -0.315*\"drive\" + 0.284*\"presid\" + -0.171*\"disk\" + -0.162*\"control\" + -0.160*\"armenian\" + -0.141*\"peopl\" + 0.120*\"imag\" + -0.111*\"didnt\" + -0.110*\"hard\"'),\n",
              " (9,\n",
              "  '0.272*\"team\" + 0.248*\"hockei\" + 0.220*\"game\" + 0.219*\"leagu\" + -0.181*\"anonym\" + -0.170*\"stephanopoulo\" + 0.163*\"season\" + 0.153*\"year\" + -0.151*\"drive\" + 0.138*\"imag\"'),\n",
              " (10,\n",
              "  '-0.328*\"widget\" + 0.323*\"drive\" + 0.219*\"imag\" + 0.208*\"jpeg\" + 0.208*\"entri\" + -0.181*\"window\" + 0.177*\"disk\" + -0.176*\"applic\" + -0.158*\"resourc\" + 0.157*\"anonym\"'),\n",
              " (11,\n",
              "  '0.274*\"launch\" + 0.252*\"space\" + -0.215*\"hockei\" + -0.206*\"team\" + -0.198*\"game\" + -0.186*\"leagu\" + 0.180*\"satellit\" + -0.178*\"stephanopoulo\" + -0.132*\"season\" + -0.118*\"drive\"'),\n",
              " (12,\n",
              "  '0.206*\"jesu\" + -0.184*\"launch\" + 0.179*\"atheist\" + 0.163*\"christian\" + -0.160*\"space\" + 0.152*\"jpeg\" + 0.152*\"believ\" + 0.136*\"exist\" + -0.124*\"satellit\" + -0.122*\"didnt\"'),\n",
              " (13,\n",
              "  '-0.317*\"launch\" + -0.273*\"space\" + -0.202*\"satellit\" + 0.150*\"govern\" + 0.143*\"administr\" + -0.141*\"stephanopoulo\" + 0.138*\"russian\" + 0.133*\"program\" + 0.132*\"armenian\" + 0.125*\"turkish\"'),\n",
              " (14,\n",
              "  '-0.242*\"jpeg\" + 0.174*\"stephanopoulo\" + -0.152*\"russian\" + -0.150*\"administr\" + 0.137*\"entri\" + -0.133*\"russia\" + 0.128*\"jesu\" + -0.123*\"govern\" + 0.122*\"imag\" + -0.122*\"work\"'),\n",
              " (15,\n",
              "  '0.390*\"entri\" + -0.270*\"onam\" + -0.251*\"output\" + -0.217*\"char\" + -0.167*\"stream\" + -0.143*\"eofnotok\" + -0.135*\"imag\" + -0.124*\"line\" + -0.120*\"write\" + 0.118*\"jpeg\"'),\n",
              " (16,\n",
              "  '-0.269*\"south\" + -0.232*\"secret\" + -0.219*\"island\" + -0.216*\"rockefel\" + -0.174*\"militari\" + -0.171*\"nuclear\" + -0.168*\"ship\" + -0.164*\"bolshevik\" + -0.150*\"stephanopoulo\" + -0.148*\"georgia\"'),\n",
              " (17,\n",
              "  '0.196*\"widget\" + -0.164*\"jesu\" + 0.162*\"convert\" + 0.157*\"health\" + 0.146*\"applic\" + 0.144*\"stephanopoulo\" + -0.136*\"version\" + 0.132*\"data\" + 0.131*\"valu\" + -0.126*\"avail\"'),\n",
              " (18,\n",
              "  '-0.192*\"window\" + 0.188*\"turkish\" + -0.185*\"health\" + 0.160*\"jew\" + 0.156*\"imag\" + -0.142*\"jpeg\" + 0.141*\"data\" + 0.137*\"entri\" + 0.129*\"widget\" + -0.124*\"report\"'),\n",
              " (19,\n",
              "  '-0.410*\"turkish\" + -0.359*\"jew\" + -0.217*\"armenian\" + -0.216*\"turkei\" + -0.200*\"stephanopoulo\" + -0.188*\"jpeg\" + 0.161*\"data\" + 0.143*\"imag\" + -0.143*\"nazi\" + -0.116*\"book\"')]"
            ]
          },
          "metadata": {},
          "execution_count": 24
        }
      ]
    },
    {
      "cell_type": "code",
      "metadata": {
        "id": "SWoLB_a164Gq",
        "colab": {
          "base_uri": "https://localhost:8080/"
        },
        "outputId": "89650021-dcb6-4549-809d-0ddf00ca04fd"
      },
      "source": [
        "\n",
        "# topic 갯수 얼마가 좋은지 계산\n",
        "\n",
        "from gensim.models.coherencemodel import CoherenceModel\n",
        "\n",
        "min_topics, max_topics = 20, 25\n",
        "coherence_scores = []\n",
        "\n",
        "for num_topics in range(min_topics, max_topics):\n",
        "  model = LsiModel(corpus, num_topics = num_topics, id2word=dictionary)\n",
        "  coherence = CoherenceModel(model = model,\n",
        "                             texts = news_texts,\n",
        "                             dictionary = dictionary)\n",
        "  coherence_scores.append(coherence.get_coherence())\n",
        "\n",
        "print(coherence_scores)"
      ],
      "execution_count": 30,
      "outputs": [
        {
          "output_type": "stream",
          "name": "stdout",
          "text": [
            "[0.41617102699918523, 0.3973334748311201, 0.4291080286672189, 0.4106680593365254, 0.4142359726258098]\n"
          ]
        }
      ]
    },
    {
      "cell_type": "code",
      "metadata": {
        "id": "JVPXSgtK97Ez",
        "colab": {
          "base_uri": "https://localhost:8080/",
          "height": 385
        },
        "outputId": "f8758677-3c16-44be-e1bd-48f4f5a8daf2"
      },
      "source": [
        "import matplotlib.pyplot as plt\n",
        "plt.style.use('seaborn-white')\n",
        "\n",
        "x = [int(i) for i in range(min_topics, max_topics)]\n",
        "\n",
        "plt.figure(figsize=(10,6))\n",
        "plt.plot(x, coherence_scores)\n",
        "plt.xlabel('Number of Topics')\n",
        "plt.ylabel('coherence_scores')\n",
        "plt.show() "
      ],
      "execution_count": 31,
      "outputs": [
        {
          "output_type": "display_data",
          "data": {
            "text/plain": [
              "<Figure size 720x432 with 1 Axes>"
            ],
            "image/png": "[encoded data removed]"
          },
          "metadata": {}
        }
      ]
    },
    {
      "cell_type": "code",
      "metadata": {
        "id": "zbI05R9O3Kc4",
        "colab": {
          "base_uri": "https://localhost:8080/"
        },
        "outputId": "d1cf2581-5fd1-44e0-f103-a01c390285d1"
      },
      "source": [
        "# 일단은 21로\n",
        "\n",
        "lsi_model = LsiModel(corpus, num_topics=21, id2word=dictionary)\n",
        "topics = lsi_model.print_topics(num_topics = 21)\n",
        "topics"
      ],
      "execution_count": 34,
      "outputs": [
        {
          "output_type": "execute_result",
          "data": {
            "text/plain": [
              "[(0,\n",
              "  '1.000*\"maxaxaxaxaxaxaxaxaxaxaxaxaxaxax\" + 0.008*\"mgvgvgvgvgvgvgvgvgvgvgvgvgvgvgv\" + 0.005*\"maxaxaxaxaxaxaxaxaxaxaxaxaxax\" + 0.003*\"maxaxaxaxaxaxaxaxaxaxaxaxaxaxaxq\" + 0.002*\"maxaxaxaxaxaxaxaxaxaxaxaxaxaxf\" + 0.002*\"mqaxaxaxaxaxaxaxaxaxaxaxaxaxax\" + 0.001*\"maxaxaxaxaxaxaxaxaxaxaxaxaxasqq\" + 0.001*\"maxaxaxaxaxaxaxaxaxaxaxaxaxaxqq\" + 0.001*\"maxaxaxaxaxaxaxaxaxaxaxaxaxaxasq\" + 0.001*\"maxaxaxaxaxaxaxaxaxaxaxaxaxaxqqf\"'),\n",
              " (1,\n",
              "  '0.393*\"file\" + 0.191*\"program\" + 0.158*\"imag\" + 0.126*\"peopl\" + 0.125*\"avail\" + 0.119*\"inform\" + 0.116*\"includ\" + 0.116*\"entri\" + 0.114*\"work\" + 0.112*\"dont\"'),\n",
              " (2,\n",
              "  '0.456*\"file\" + -0.215*\"peopl\" + -0.210*\"know\" + -0.192*\"said\" + -0.176*\"dont\" + 0.158*\"entri\" + -0.158*\"think\" + -0.153*\"stephanopoulo\" + 0.139*\"imag\" + -0.129*\"go\"'),\n",
              " (3,\n",
              "  '0.409*\"file\" + 0.286*\"entri\" + -0.241*\"imag\" + -0.168*\"avail\" + -0.141*\"wire\" + -0.136*\"data\" + -0.122*\"version\" + 0.116*\"onam\" + -0.109*\"window\" + 0.104*\"said\"'),\n",
              " (4,\n",
              "  '0.618*\"wire\" + 0.250*\"ground\" + 0.188*\"circuit\" + 0.180*\"outlet\" + -0.163*\"imag\" + 0.149*\"connect\" + 0.141*\"neutral\" + 0.139*\"entri\" + 0.134*\"gfci\" + 0.112*\"cabl\"'),\n",
              " (5,\n",
              "  '-0.370*\"imag\" + -0.344*\"jpeg\" + 0.339*\"anonym\" + 0.186*\"post\" + 0.185*\"internet\" + 0.164*\"privaci\" + 0.138*\"inform\" + 0.126*\"email\" + -0.126*\"format\" + 0.125*\"mail\"'),\n",
              " (6,\n",
              "  '0.405*\"entri\" + -0.393*\"file\" + 0.235*\"program\" + -0.191*\"jpeg\" + -0.130*\"anonym\" + 0.127*\"widget\" + -0.125*\"imag\" + -0.120*\"firearm\" + -0.117*\"wire\" + 0.113*\"drive\"'),\n",
              " (7,\n",
              "  '0.341*\"drive\" + 0.243*\"stephanopoulo\" + -0.227*\"anonym\" + 0.196*\"control\" + 0.193*\"presid\" + 0.190*\"disk\" + -0.158*\"peopl\" + -0.147*\"jpeg\" + -0.144*\"post\" + 0.143*\"support\"'),\n",
              " (8,\n",
              "  '0.427*\"stephanopoulo\" + -0.315*\"drive\" + 0.284*\"presid\" + -0.171*\"disk\" + -0.162*\"control\" + -0.160*\"armenian\" + -0.141*\"peopl\" + 0.120*\"imag\" + -0.111*\"didnt\" + -0.110*\"hard\"'),\n",
              " (9,\n",
              "  '0.272*\"team\" + 0.248*\"hockei\" + 0.220*\"game\" + 0.219*\"leagu\" + -0.181*\"anonym\" + -0.170*\"stephanopoulo\" + 0.163*\"season\" + 0.153*\"year\" + -0.151*\"drive\" + 0.138*\"imag\"'),\n",
              " (10,\n",
              "  '-0.328*\"widget\" + 0.323*\"drive\" + 0.219*\"imag\" + 0.208*\"jpeg\" + 0.208*\"entri\" + -0.181*\"window\" + 0.177*\"disk\" + -0.176*\"applic\" + -0.158*\"resourc\" + 0.157*\"anonym\"'),\n",
              " (11,\n",
              "  '-0.274*\"launch\" + -0.252*\"space\" + 0.215*\"hockei\" + 0.206*\"team\" + 0.198*\"game\" + 0.186*\"leagu\" + -0.180*\"satellit\" + 0.178*\"stephanopoulo\" + 0.132*\"season\" + 0.118*\"drive\"'),\n",
              " (12,\n",
              "  '0.206*\"jesu\" + -0.184*\"launch\" + 0.179*\"atheist\" + 0.163*\"christian\" + -0.160*\"space\" + 0.152*\"jpeg\" + 0.152*\"believ\" + 0.136*\"exist\" + -0.124*\"satellit\" + -0.122*\"didnt\"'),\n",
              " (13,\n",
              "  '-0.317*\"launch\" + -0.273*\"space\" + -0.202*\"satellit\" + 0.150*\"govern\" + 0.143*\"administr\" + -0.141*\"stephanopoulo\" + 0.138*\"russian\" + 0.132*\"program\" + 0.132*\"armenian\" + -0.125*\"post\"'),\n",
              " (14,\n",
              "  '0.242*\"jpeg\" + -0.175*\"stephanopoulo\" + 0.152*\"russian\" + 0.150*\"administr\" + -0.137*\"entri\" + 0.133*\"russia\" + -0.128*\"jesu\" + 0.123*\"govern\" + -0.123*\"imag\" + 0.121*\"work\"'),\n",
              " (15,\n",
              "  '0.390*\"entri\" + -0.270*\"onam\" + -0.251*\"output\" + -0.218*\"char\" + -0.167*\"stream\" + -0.143*\"eofnotok\" + -0.135*\"imag\" + -0.124*\"line\" + -0.120*\"write\" + 0.118*\"jpeg\"'),\n",
              " (16,\n",
              "  '0.269*\"south\" + 0.232*\"secret\" + 0.219*\"island\" + 0.216*\"rockefel\" + 0.174*\"militari\" + 0.171*\"nuclear\" + 0.168*\"ship\" + 0.164*\"bolshevik\" + 0.150*\"stephanopoulo\" + 0.148*\"georgia\"'),\n",
              " (17,\n",
              "  '-0.196*\"widget\" + 0.164*\"jesu\" + -0.162*\"convert\" + -0.157*\"health\" + -0.146*\"applic\" + -0.144*\"stephanopoulo\" + 0.136*\"version\" + -0.132*\"data\" + -0.131*\"valu\" + 0.126*\"avail\"'),\n",
              " (18,\n",
              "  '0.192*\"window\" + -0.187*\"turkish\" + 0.185*\"health\" + -0.160*\"jew\" + -0.156*\"imag\" + 0.142*\"jpeg\" + -0.142*\"data\" + -0.137*\"entri\" + -0.129*\"widget\" + 0.124*\"report\"'),\n",
              " (19,\n",
              "  '0.410*\"turkish\" + 0.359*\"jew\" + 0.217*\"armenian\" + 0.216*\"turkei\" + 0.200*\"stephanopoulo\" + 0.188*\"jpeg\" + -0.162*\"data\" + -0.143*\"imag\" + 0.143*\"nazi\" + 0.116*\"book\"'),\n",
              " (20,\n",
              "  '0.274*\"encrypt\" + -0.239*\"post\" + -0.230*\"anonym\" + 0.197*\"privaci\" + 0.193*\"chip\" + 0.156*\"scsi\" + 0.155*\"secur\" + 0.130*\"technolog\" + 0.126*\"devic\" + -0.118*\"server\"')]"
            ]
          },
          "metadata": {},
          "execution_count": 34
        }
      ]
    },
    {
      "cell_type": "markdown",
      "metadata": {
        "id": "RxSqZmtV2QzN"
      },
      "source": [
        "### 잠재 디리클레 할당을 위한 `LdaModel`"
      ]
    },
    {
      "cell_type": "code",
      "metadata": {
        "id": "G2X_cCIRJbe1",
        "colab": {
          "base_uri": "https://localhost:8080/"
        },
        "outputId": "d50bca56-48ce-4940-ffbb-7d5c10f8f0f0"
      },
      "source": [
        "from gensim.models import LdaModel\n",
        "\n",
        "lda_model = LsiModel(corpus, num_topics=20, id2word = dictionary)\n",
        "topics = lda_model.print_topics()\n",
        "\n",
        "topics"
      ],
      "execution_count": 35,
      "outputs": [
        {
          "output_type": "execute_result",
          "data": {
            "text/plain": [
              "[(0,\n",
              "  '1.000*\"maxaxaxaxaxaxaxaxaxaxaxaxaxaxax\" + 0.008*\"mgvgvgvgvgvgvgvgvgvgvgvgvgvgvgv\" + 0.005*\"maxaxaxaxaxaxaxaxaxaxaxaxaxax\" + 0.003*\"maxaxaxaxaxaxaxaxaxaxaxaxaxaxaxq\" + 0.002*\"maxaxaxaxaxaxaxaxaxaxaxaxaxaxf\" + 0.002*\"mqaxaxaxaxaxaxaxaxaxaxaxaxaxax\" + 0.001*\"maxaxaxaxaxaxaxaxaxaxaxaxaxasqq\" + 0.001*\"maxaxaxaxaxaxaxaxaxaxaxaxaxaxqq\" + 0.001*\"maxaxaxaxaxaxaxaxaxaxaxaxaxaxasq\" + 0.001*\"maxaxaxaxaxaxaxaxaxaxaxaxaxaxqqf\"'),\n",
              " (1,\n",
              "  '0.393*\"file\" + 0.191*\"program\" + 0.158*\"imag\" + 0.126*\"peopl\" + 0.125*\"avail\" + 0.119*\"inform\" + 0.116*\"includ\" + 0.116*\"entri\" + 0.114*\"work\" + 0.112*\"dont\"'),\n",
              " (2,\n",
              "  '0.456*\"file\" + -0.215*\"peopl\" + -0.210*\"know\" + -0.192*\"said\" + -0.176*\"dont\" + 0.158*\"entri\" + -0.158*\"think\" + -0.153*\"stephanopoulo\" + 0.139*\"imag\" + -0.129*\"go\"'),\n",
              " (3,\n",
              "  '-0.409*\"file\" + -0.286*\"entri\" + 0.241*\"imag\" + 0.168*\"avail\" + 0.141*\"wire\" + 0.136*\"data\" + 0.122*\"version\" + -0.116*\"onam\" + 0.109*\"window\" + -0.104*\"said\"'),\n",
              " (4,\n",
              "  '-0.618*\"wire\" + -0.250*\"ground\" + -0.188*\"circuit\" + -0.180*\"outlet\" + 0.163*\"imag\" + -0.149*\"connect\" + -0.141*\"neutral\" + -0.139*\"entri\" + -0.134*\"gfci\" + -0.112*\"cabl\"'),\n",
              " (5,\n",
              "  '-0.370*\"imag\" + -0.344*\"jpeg\" + 0.339*\"anonym\" + 0.186*\"post\" + 0.185*\"internet\" + 0.164*\"privaci\" + 0.138*\"inform\" + 0.126*\"email\" + -0.126*\"format\" + 0.125*\"mail\"'),\n",
              " (6,\n",
              "  '-0.405*\"entri\" + 0.393*\"file\" + -0.235*\"program\" + 0.191*\"jpeg\" + 0.130*\"anonym\" + -0.127*\"widget\" + 0.125*\"imag\" + 0.120*\"firearm\" + 0.117*\"wire\" + -0.113*\"drive\"'),\n",
              " (7,\n",
              "  '0.341*\"drive\" + 0.243*\"stephanopoulo\" + -0.227*\"anonym\" + 0.196*\"control\" + 0.193*\"presid\" + 0.190*\"disk\" + -0.158*\"peopl\" + -0.147*\"jpeg\" + -0.144*\"post\" + 0.143*\"support\"'),\n",
              " (8,\n",
              "  '0.427*\"stephanopoulo\" + -0.315*\"drive\" + 0.284*\"presid\" + -0.171*\"disk\" + -0.162*\"control\" + -0.160*\"armenian\" + -0.141*\"peopl\" + 0.120*\"imag\" + -0.111*\"didnt\" + -0.110*\"hard\"'),\n",
              " (9,\n",
              "  '0.272*\"team\" + 0.248*\"hockei\" + 0.220*\"game\" + 0.219*\"leagu\" + -0.181*\"anonym\" + -0.170*\"stephanopoulo\" + 0.163*\"season\" + 0.153*\"year\" + -0.151*\"drive\" + 0.138*\"imag\"'),\n",
              " (10,\n",
              "  '-0.328*\"widget\" + 0.323*\"drive\" + 0.219*\"imag\" + 0.208*\"jpeg\" + 0.208*\"entri\" + -0.181*\"window\" + 0.177*\"disk\" + -0.176*\"applic\" + -0.158*\"resourc\" + 0.157*\"anonym\"'),\n",
              " (11,\n",
              "  '-0.274*\"launch\" + -0.252*\"space\" + 0.215*\"hockei\" + 0.206*\"team\" + 0.198*\"game\" + 0.186*\"leagu\" + -0.180*\"satellit\" + 0.178*\"stephanopoulo\" + 0.132*\"season\" + 0.118*\"drive\"'),\n",
              " (12,\n",
              "  '-0.206*\"jesu\" + 0.184*\"launch\" + -0.179*\"atheist\" + -0.163*\"christian\" + 0.160*\"space\" + -0.152*\"jpeg\" + -0.152*\"believ\" + -0.136*\"exist\" + 0.124*\"satellit\" + 0.122*\"didnt\"'),\n",
              " (13,\n",
              "  '0.317*\"launch\" + 0.273*\"space\" + 0.202*\"satellit\" + -0.150*\"govern\" + -0.143*\"administr\" + 0.141*\"stephanopoulo\" + -0.138*\"russian\" + -0.132*\"program\" + -0.132*\"armenian\" + 0.125*\"post\"'),\n",
              " (14,\n",
              "  '0.242*\"jpeg\" + -0.174*\"stephanopoulo\" + 0.152*\"russian\" + 0.150*\"administr\" + -0.137*\"entri\" + 0.133*\"russia\" + -0.128*\"jesu\" + 0.124*\"govern\" + -0.122*\"imag\" + 0.121*\"work\"'),\n",
              " (15,\n",
              "  '0.390*\"entri\" + -0.270*\"onam\" + -0.251*\"output\" + -0.218*\"char\" + -0.167*\"stream\" + -0.143*\"eofnotok\" + -0.135*\"imag\" + -0.124*\"line\" + -0.120*\"write\" + 0.118*\"jpeg\"'),\n",
              " (16,\n",
              "  '0.269*\"south\" + 0.232*\"secret\" + 0.219*\"island\" + 0.216*\"rockefel\" + 0.174*\"militari\" + 0.171*\"nuclear\" + 0.168*\"ship\" + 0.164*\"bolshevik\" + 0.150*\"stephanopoulo\" + 0.148*\"georgia\"'),\n",
              " (17,\n",
              "  '0.196*\"widget\" + -0.164*\"jesu\" + 0.162*\"convert\" + 0.157*\"health\" + 0.146*\"applic\" + 0.144*\"stephanopoulo\" + -0.136*\"version\" + 0.132*\"data\" + 0.131*\"valu\" + -0.126*\"avail\"'),\n",
              " (18,\n",
              "  '-0.192*\"window\" + 0.188*\"turkish\" + -0.185*\"health\" + 0.160*\"jew\" + 0.156*\"imag\" + -0.142*\"jpeg\" + 0.141*\"data\" + 0.137*\"entri\" + 0.129*\"widget\" + -0.125*\"report\"'),\n",
              " (19,\n",
              "  '-0.410*\"turkish\" + -0.359*\"jew\" + -0.217*\"armenian\" + -0.216*\"turkei\" + -0.200*\"stephanopoulo\" + -0.188*\"jpeg\" + 0.162*\"data\" + 0.143*\"imag\" + -0.143*\"nazi\" + -0.116*\"book\"')]"
            ]
          },
          "metadata": {},
          "execution_count": 35
        }
      ]
    },
    {
      "cell_type": "code",
      "metadata": {
        "id": "o2Yn8BwIJqwt",
        "colab": {
          "base_uri": "https://localhost:8080/"
        },
        "outputId": "a6456925-129d-484b-df60-96453d928a5f"
      },
      "source": [
        "# topic 갯수 얼마가 좋은지 계산\n",
        "\n",
        "from gensim.models.coherencemodel import CoherenceModel\n",
        "\n",
        "min_topics, max_topics = 20, 25\n",
        "coherence_scores = []\n",
        "\n",
        "for num_topics in range(min_topics, max_topics):\n",
        "  model = LdaModel(corpus, num_topics = num_topics, id2word=dictionary)\n",
        "  coherence = CoherenceModel(model = model,\n",
        "                             texts = news_texts,\n",
        "                             dictionary = dictionary)\n",
        "  coherence_scores.append(coherence.get_coherence())\n",
        "\n",
        "print(coherence_scores)"
      ],
      "execution_count": 36,
      "outputs": [
        {
          "output_type": "stream",
          "name": "stderr",
          "text": [
            "WARNING:gensim.models.ldamodel:too few updates, training might not converge; consider increasing the number of passes or iterations to improve accuracy\n",
            "WARNING:gensim.models.ldamodel:too few updates, training might not converge; consider increasing the number of passes or iterations to improve accuracy\n",
            "WARNING:gensim.models.ldamodel:too few updates, training might not converge; consider increasing the number of passes or iterations to improve accuracy\n",
            "WARNING:gensim.models.ldamodel:too few updates, training might not converge; consider increasing the number of passes or iterations to improve accuracy\n",
            "WARNING:gensim.models.ldamodel:too few updates, training might not converge; consider increasing the number of passes or iterations to improve accuracy\n"
          ]
        },
        {
          "output_type": "stream",
          "name": "stdout",
          "text": [
            "[0.5207947081575444, 0.4943450332387126, 0.46937130317814035, 0.4745526999420749, 0.4745322236555203]\n"
          ]
        }
      ]
    },
    {
      "cell_type": "code",
      "metadata": {
        "id": "pD8aNQIK2q-p",
        "colab": {
          "base_uri": "https://localhost:8080/",
          "height": 385
        },
        "outputId": "9d8ecf00-4639-4b0d-e1c8-d7ac5737e5bc"
      },
      "source": [
        "plt.style.use('seaborn-white')\n",
        "\n",
        "x = [int(i) for i in range(min_topics, max_topics)]\n",
        "\n",
        "plt.figure(figsize=(10,6))\n",
        "plt.plot(x, coherence_scores)\n",
        "plt.xlabel('Number of Topics')\n",
        "plt.ylabel('coherence_scores')\n",
        "plt.show() "
      ],
      "execution_count": 37,
      "outputs": [
        {
          "output_type": "display_data",
          "data": {
            "text/plain": [
              "<Figure size 720x432 with 1 Axes>"
            ],
            "image/png": "[encoded data removed]"
          },
          "metadata": {}
        }
      ]
    },
    {
      "cell_type": "code",
      "metadata": {
        "id": "eziNq5h54tzF",
        "colab": {
          "base_uri": "https://localhost:8080/"
        },
        "outputId": "08931d6a-652e-4a67-9075-98cb8e3026eb"
      },
      "source": [
        "# 22\n",
        "\n",
        "lda_model = LsiModel(corpus, num_topics=22, id2word=dictionary)\n",
        "topics = lsi_model.print_topics(num_topics = 22)\n",
        "topics"
      ],
      "execution_count": 38,
      "outputs": [
        {
          "output_type": "execute_result",
          "data": {
            "text/plain": [
              "[(0,\n",
              "  '1.000*\"maxaxaxaxaxaxaxaxaxaxaxaxaxaxax\" + 0.008*\"mgvgvgvgvgvgvgvgvgvgvgvgvgvgvgv\" + 0.005*\"maxaxaxaxaxaxaxaxaxaxaxaxaxax\" + 0.003*\"maxaxaxaxaxaxaxaxaxaxaxaxaxaxaxq\" + 0.002*\"maxaxaxaxaxaxaxaxaxaxaxaxaxaxf\" + 0.002*\"mqaxaxaxaxaxaxaxaxaxaxaxaxaxax\" + 0.001*\"maxaxaxaxaxaxaxaxaxaxaxaxaxasqq\" + 0.001*\"maxaxaxaxaxaxaxaxaxaxaxaxaxaxqq\" + 0.001*\"maxaxaxaxaxaxaxaxaxaxaxaxaxaxasq\" + 0.001*\"maxaxaxaxaxaxaxaxaxaxaxaxaxaxqqf\"'),\n",
              " (1,\n",
              "  '0.393*\"file\" + 0.191*\"program\" + 0.158*\"imag\" + 0.126*\"peopl\" + 0.125*\"avail\" + 0.119*\"inform\" + 0.116*\"includ\" + 0.116*\"entri\" + 0.114*\"work\" + 0.112*\"dont\"'),\n",
              " (2,\n",
              "  '0.456*\"file\" + -0.215*\"peopl\" + -0.210*\"know\" + -0.192*\"said\" + -0.176*\"dont\" + 0.158*\"entri\" + -0.158*\"think\" + -0.153*\"stephanopoulo\" + 0.139*\"imag\" + -0.129*\"go\"'),\n",
              " (3,\n",
              "  '0.409*\"file\" + 0.286*\"entri\" + -0.241*\"imag\" + -0.168*\"avail\" + -0.141*\"wire\" + -0.136*\"data\" + -0.122*\"version\" + 0.116*\"onam\" + -0.109*\"window\" + 0.104*\"said\"'),\n",
              " (4,\n",
              "  '0.618*\"wire\" + 0.250*\"ground\" + 0.188*\"circuit\" + 0.180*\"outlet\" + -0.163*\"imag\" + 0.149*\"connect\" + 0.141*\"neutral\" + 0.139*\"entri\" + 0.134*\"gfci\" + 0.112*\"cabl\"'),\n",
              " (5,\n",
              "  '-0.370*\"imag\" + -0.344*\"jpeg\" + 0.339*\"anonym\" + 0.186*\"post\" + 0.185*\"internet\" + 0.164*\"privaci\" + 0.138*\"inform\" + 0.126*\"email\" + -0.126*\"format\" + 0.125*\"mail\"'),\n",
              " (6,\n",
              "  '0.405*\"entri\" + -0.393*\"file\" + 0.235*\"program\" + -0.191*\"jpeg\" + -0.130*\"anonym\" + 0.127*\"widget\" + -0.125*\"imag\" + -0.120*\"firearm\" + -0.117*\"wire\" + 0.113*\"drive\"'),\n",
              " (7,\n",
              "  '0.341*\"drive\" + 0.243*\"stephanopoulo\" + -0.227*\"anonym\" + 0.196*\"control\" + 0.193*\"presid\" + 0.190*\"disk\" + -0.158*\"peopl\" + -0.147*\"jpeg\" + -0.144*\"post\" + 0.143*\"support\"'),\n",
              " (8,\n",
              "  '0.427*\"stephanopoulo\" + -0.315*\"drive\" + 0.284*\"presid\" + -0.171*\"disk\" + -0.162*\"control\" + -0.160*\"armenian\" + -0.141*\"peopl\" + 0.120*\"imag\" + -0.111*\"didnt\" + -0.110*\"hard\"'),\n",
              " (9,\n",
              "  '0.272*\"team\" + 0.248*\"hockei\" + 0.220*\"game\" + 0.219*\"leagu\" + -0.181*\"anonym\" + -0.170*\"stephanopoulo\" + 0.163*\"season\" + 0.153*\"year\" + -0.151*\"drive\" + 0.138*\"imag\"'),\n",
              " (10,\n",
              "  '-0.328*\"widget\" + 0.323*\"drive\" + 0.219*\"imag\" + 0.208*\"jpeg\" + 0.208*\"entri\" + -0.181*\"window\" + 0.177*\"disk\" + -0.176*\"applic\" + -0.158*\"resourc\" + 0.157*\"anonym\"'),\n",
              " (11,\n",
              "  '-0.274*\"launch\" + -0.252*\"space\" + 0.215*\"hockei\" + 0.206*\"team\" + 0.198*\"game\" + 0.186*\"leagu\" + -0.180*\"satellit\" + 0.178*\"stephanopoulo\" + 0.132*\"season\" + 0.118*\"drive\"'),\n",
              " (12,\n",
              "  '0.206*\"jesu\" + -0.184*\"launch\" + 0.179*\"atheist\" + 0.163*\"christian\" + -0.160*\"space\" + 0.152*\"jpeg\" + 0.152*\"believ\" + 0.136*\"exist\" + -0.124*\"satellit\" + -0.122*\"didnt\"'),\n",
              " (13,\n",
              "  '-0.317*\"launch\" + -0.273*\"space\" + -0.202*\"satellit\" + 0.150*\"govern\" + 0.143*\"administr\" + -0.141*\"stephanopoulo\" + 0.138*\"russian\" + 0.132*\"program\" + 0.132*\"armenian\" + -0.125*\"post\"'),\n",
              " (14,\n",
              "  '0.242*\"jpeg\" + -0.175*\"stephanopoulo\" + 0.152*\"russian\" + 0.150*\"administr\" + -0.137*\"entri\" + 0.133*\"russia\" + -0.128*\"jesu\" + 0.123*\"govern\" + -0.123*\"imag\" + 0.121*\"work\"'),\n",
              " (15,\n",
              "  '0.390*\"entri\" + -0.270*\"onam\" + -0.251*\"output\" + -0.218*\"char\" + -0.167*\"stream\" + -0.143*\"eofnotok\" + -0.135*\"imag\" + -0.124*\"line\" + -0.120*\"write\" + 0.118*\"jpeg\"'),\n",
              " (16,\n",
              "  '0.269*\"south\" + 0.232*\"secret\" + 0.219*\"island\" + 0.216*\"rockefel\" + 0.174*\"militari\" + 0.171*\"nuclear\" + 0.168*\"ship\" + 0.164*\"bolshevik\" + 0.150*\"stephanopoulo\" + 0.148*\"georgia\"'),\n",
              " (17,\n",
              "  '-0.196*\"widget\" + 0.164*\"jesu\" + -0.162*\"convert\" + -0.157*\"health\" + -0.146*\"applic\" + -0.144*\"stephanopoulo\" + 0.136*\"version\" + -0.132*\"data\" + -0.131*\"valu\" + 0.126*\"avail\"'),\n",
              " (18,\n",
              "  '0.192*\"window\" + -0.187*\"turkish\" + 0.185*\"health\" + -0.160*\"jew\" + -0.156*\"imag\" + 0.142*\"jpeg\" + -0.142*\"data\" + -0.137*\"entri\" + -0.129*\"widget\" + 0.124*\"report\"'),\n",
              " (19,\n",
              "  '0.410*\"turkish\" + 0.359*\"jew\" + 0.217*\"armenian\" + 0.216*\"turkei\" + 0.200*\"stephanopoulo\" + 0.188*\"jpeg\" + -0.162*\"data\" + -0.143*\"imag\" + 0.143*\"nazi\" + 0.116*\"book\"'),\n",
              " (20,\n",
              "  '0.274*\"encrypt\" + -0.239*\"post\" + -0.230*\"anonym\" + 0.197*\"privaci\" + 0.193*\"chip\" + 0.156*\"scsi\" + 0.155*\"secur\" + 0.130*\"technolog\" + 0.126*\"devic\" + -0.118*\"server\"')]"
            ]
          },
          "metadata": {},
          "execution_count": 38
        }
      ]
    },
    {
      "cell_type": "markdown",
      "metadata": {
        "id": "vLljp8WR3qHB"
      },
      "source": [
        "## 토픽 모델링 시각화"
      ]
    },
    {
      "cell_type": "code",
      "metadata": {
        "id": "Z6lhKMEwJqAd",
        "colab": {
          "base_uri": "https://localhost:8080/"
        },
        "outputId": "2f4b92d7-d3ff-4744-b3b9-8bf69fcfca85"
      },
      "source": [
        "!pip install pyLDAvis"
      ],
      "execution_count": 42,
      "outputs": [
        {
          "output_type": "stream",
          "name": "stdout",
          "text": [
            "Looking in indexes: https://pypi.org/simple, https://us-python.pkg.dev/colab-wheels/public/simple/\n",
            "Requirement already satisfied: pyLDAvis in /usr/local/lib/python3.7/dist-packages (3.3.1)\n",
            "Requirement already satisfied: numexpr in /usr/local/lib/python3.7/dist-packages (from pyLDAvis) (2.8.3)\n",
            "Requirement already satisfied: future in /usr/local/lib/python3.7/dist-packages (from pyLDAvis) (0.16.0)\n",
            "Requirement already satisfied: scikit-learn in /usr/local/lib/python3.7/dist-packages (from pyLDAvis) (1.0.2)\n",
            "Requirement already satisfied: joblib in /usr/local/lib/python3.7/dist-packages (from pyLDAvis) (1.1.0)\n",
            "Requirement already satisfied: funcy in /usr/local/lib/python3.7/dist-packages (from pyLDAvis) (1.17)\n",
            "Requirement already satisfied: sklearn in /usr/local/lib/python3.7/dist-packages (from pyLDAvis) (0.0)\n",
            "Requirement already satisfied: setuptools in /usr/local/lib/python3.7/dist-packages (from pyLDAvis) (57.4.0)\n",
            "Requirement already satisfied: gensim in /usr/local/lib/python3.7/dist-packages (from pyLDAvis) (3.6.0)\n",
            "Requirement already satisfied: pandas>=1.2.0 in /usr/local/lib/python3.7/dist-packages (from pyLDAvis) (1.3.5)\n",
            "Requirement already satisfied: jinja2 in /usr/local/lib/python3.7/dist-packages (from pyLDAvis) (2.11.3)\n",
            "Requirement already satisfied: numpy>=1.20.0 in /usr/local/lib/python3.7/dist-packages (from pyLDAvis) (1.21.6)\n",
            "Requirement already satisfied: scipy in /usr/local/lib/python3.7/dist-packages (from pyLDAvis) (1.7.3)\n",
            "Requirement already satisfied: pytz>=2017.3 in /usr/local/lib/python3.7/dist-packages (from pandas>=1.2.0->pyLDAvis) (2022.2.1)\n",
            "Requirement already satisfied: python-dateutil>=2.7.3 in /usr/local/lib/python3.7/dist-packages (from pandas>=1.2.0->pyLDAvis) (2.8.2)\n",
            "Requirement already satisfied: six>=1.5 in /usr/local/lib/python3.7/dist-packages (from python-dateutil>=2.7.3->pandas>=1.2.0->pyLDAvis) (1.15.0)\n",
            "Requirement already satisfied: smart-open>=1.2.1 in /usr/local/lib/python3.7/dist-packages (from gensim->pyLDAvis) (5.2.1)\n",
            "Requirement already satisfied: MarkupSafe>=0.23 in /usr/local/lib/python3.7/dist-packages (from jinja2->pyLDAvis) (2.0.1)\n",
            "Requirement already satisfied: packaging in /usr/local/lib/python3.7/dist-packages (from numexpr->pyLDAvis) (21.3)\n",
            "Requirement already satisfied: pyparsing!=3.0.5,>=2.0.2 in /usr/local/lib/python3.7/dist-packages (from packaging->numexpr->pyLDAvis) (3.0.9)\n",
            "Requirement already satisfied: threadpoolctl>=2.0.0 in /usr/local/lib/python3.7/dist-packages (from scikit-learn->pyLDAvis) (3.1.0)\n"
          ]
        }
      ]
    },
    {
      "cell_type": "code",
      "metadata": {
        "id": "FRYHzP_9JuC3",
        "colab": {
          "base_uri": "https://localhost:8080/",
          "height": 400
        },
        "outputId": "bbbfbad1-ddbd-4248-d942-91e88c76bf6e"
      },
      "source": [
        "# 버전 안맞아서 안됨 나중에 수정하자\n",
        "'''import pyLDAvis.gensim_models\n",
        "\n",
        "pyLDAvis.enable_notebook()\n",
        "vis = pyLDAvis.gensim_models.prepare(lda_model, corpus, dictionary)\n",
        "pyLDAvis.display(vis)'''"
      ],
      "execution_count": 44,
      "outputs": [
        {
          "output_type": "error",
          "ename": "AttributeError",
          "evalue": "ignored",
          "traceback": [
            "\u001b[0;31m---------------------------------------------------------------------------\u001b[0m",
            "\u001b[0;31mAttributeError\u001b[0m                            Traceback (most recent call last)",
            "\u001b[0;32m<ipython-input-44-6058f4c1fd31>\u001b[0m in \u001b[0;36m<module>\u001b[0;34m\u001b[0m\n\u001b[1;32m      2\u001b[0m \u001b[0;34m\u001b[0m\u001b[0m\n\u001b[1;32m      3\u001b[0m \u001b[0mpyLDAvis\u001b[0m\u001b[0;34m.\u001b[0m\u001b[0menable_notebook\u001b[0m\u001b[0;34m(\u001b[0m\u001b[0;34m)\u001b[0m\u001b[0;34m\u001b[0m\u001b[0;34m\u001b[0m\u001b[0m\n\u001b[0;32m----> 4\u001b[0;31m \u001b[0mvis\u001b[0m \u001b[0;34m=\u001b[0m \u001b[0mpyLDAvis\u001b[0m\u001b[0;34m.\u001b[0m\u001b[0mgensim_models\u001b[0m\u001b[0;34m.\u001b[0m\u001b[0mprepare\u001b[0m\u001b[0;34m(\u001b[0m\u001b[0mlda_model\u001b[0m\u001b[0;34m,\u001b[0m \u001b[0mcorpus\u001b[0m\u001b[0;34m,\u001b[0m \u001b[0mdictionary\u001b[0m\u001b[0;34m)\u001b[0m\u001b[0;34m\u001b[0m\u001b[0;34m\u001b[0m\u001b[0m\n\u001b[0m\u001b[1;32m      5\u001b[0m \u001b[0mpyLDAvis\u001b[0m\u001b[0;34m.\u001b[0m\u001b[0mdisplay\u001b[0m\u001b[0;34m(\u001b[0m\u001b[0mvis\u001b[0m\u001b[0;34m)\u001b[0m\u001b[0;34m\u001b[0m\u001b[0;34m\u001b[0m\u001b[0m\n",
            "\u001b[0;32m/usr/local/lib/python3.7/dist-packages/pyLDAvis/gensim_models.py\u001b[0m in \u001b[0;36mprepare\u001b[0;34m(topic_model, corpus, dictionary, doc_topic_dist, **kwargs)\u001b[0m\n\u001b[1;32m    120\u001b[0m     \u001b[0mSee\u001b[0m\u001b[0;31m \u001b[0m\u001b[0;31m`\u001b[0m\u001b[0mpyLDAvis\u001b[0m\u001b[0;34m.\u001b[0m\u001b[0mprepare\u001b[0m\u001b[0;31m`\u001b[0m \u001b[0;32mfor\u001b[0m \u001b[0;34m**\u001b[0m\u001b[0mkwargs\u001b[0m\u001b[0;34m.\u001b[0m\u001b[0;34m\u001b[0m\u001b[0;34m\u001b[0m\u001b[0m\n\u001b[1;32m    121\u001b[0m     \"\"\"\n\u001b[0;32m--> 122\u001b[0;31m     \u001b[0mopts\u001b[0m \u001b[0;34m=\u001b[0m \u001b[0mfp\u001b[0m\u001b[0;34m.\u001b[0m\u001b[0mmerge\u001b[0m\u001b[0;34m(\u001b[0m\u001b[0m_extract_data\u001b[0m\u001b[0;34m(\u001b[0m\u001b[0mtopic_model\u001b[0m\u001b[0;34m,\u001b[0m \u001b[0mcorpus\u001b[0m\u001b[0;34m,\u001b[0m \u001b[0mdictionary\u001b[0m\u001b[0;34m,\u001b[0m \u001b[0mdoc_topic_dist\u001b[0m\u001b[0;34m)\u001b[0m\u001b[0;34m,\u001b[0m \u001b[0mkwargs\u001b[0m\u001b[0;34m)\u001b[0m\u001b[0;34m\u001b[0m\u001b[0;34m\u001b[0m\u001b[0m\n\u001b[0m\u001b[1;32m    123\u001b[0m     \u001b[0;32mreturn\u001b[0m \u001b[0mpyLDAvis\u001b[0m\u001b[0;34m.\u001b[0m\u001b[0mprepare\u001b[0m\u001b[0;34m(\u001b[0m\u001b[0;34m**\u001b[0m\u001b[0mopts\u001b[0m\u001b[0;34m)\u001b[0m\u001b[0;34m\u001b[0m\u001b[0;34m\u001b[0m\u001b[0m\n",
            "\u001b[0;32m/usr/local/lib/python3.7/dist-packages/pyLDAvis/gensim_models.py\u001b[0m in \u001b[0;36m_extract_data\u001b[0;34m(topic_model, corpus, dictionary, doc_topic_dists)\u001b[0m\n\u001b[1;32m     47\u001b[0m             \u001b[0mgamma\u001b[0m \u001b[0;34m=\u001b[0m \u001b[0mtopic_model\u001b[0m\u001b[0;34m.\u001b[0m\u001b[0minference\u001b[0m\u001b[0;34m(\u001b[0m\u001b[0mcorpus\u001b[0m\u001b[0;34m)\u001b[0m\u001b[0;34m\u001b[0m\u001b[0;34m\u001b[0m\u001b[0m\n\u001b[1;32m     48\u001b[0m         \u001b[0;32melse\u001b[0m\u001b[0;34m:\u001b[0m\u001b[0;34m\u001b[0m\u001b[0;34m\u001b[0m\u001b[0m\n\u001b[0;32m---> 49\u001b[0;31m             \u001b[0mgamma\u001b[0m\u001b[0;34m,\u001b[0m \u001b[0m_\u001b[0m \u001b[0;34m=\u001b[0m \u001b[0mtopic_model\u001b[0m\u001b[0;34m.\u001b[0m\u001b[0minference\u001b[0m\u001b[0;34m(\u001b[0m\u001b[0mcorpus\u001b[0m\u001b[0;34m)\u001b[0m\u001b[0;34m\u001b[0m\u001b[0;34m\u001b[0m\u001b[0m\n\u001b[0m\u001b[1;32m     50\u001b[0m         \u001b[0mdoc_topic_dists\u001b[0m \u001b[0;34m=\u001b[0m \u001b[0mgamma\u001b[0m \u001b[0;34m/\u001b[0m \u001b[0mgamma\u001b[0m\u001b[0;34m.\u001b[0m\u001b[0msum\u001b[0m\u001b[0;34m(\u001b[0m\u001b[0maxis\u001b[0m\u001b[0;34m=\u001b[0m\u001b[0;36m1\u001b[0m\u001b[0;34m)\u001b[0m\u001b[0;34m[\u001b[0m\u001b[0;34m:\u001b[0m\u001b[0;34m,\u001b[0m \u001b[0;32mNone\u001b[0m\u001b[0;34m]\u001b[0m\u001b[0;34m\u001b[0m\u001b[0;34m\u001b[0m\u001b[0m\n\u001b[1;32m     51\u001b[0m     \u001b[0;32melse\u001b[0m\u001b[0;34m:\u001b[0m\u001b[0;34m\u001b[0m\u001b[0;34m\u001b[0m\u001b[0m\n",
            "\u001b[0;31mAttributeError\u001b[0m: 'LsiModel' object has no attribute 'inference'"
          ]
        }
      ]
    },
    {
      "cell_type": "code",
      "source": [],
      "metadata": {
        "id": "2IWNGKWxV8lL"
      },
      "execution_count": null,
      "outputs": []
    }
  ]
}