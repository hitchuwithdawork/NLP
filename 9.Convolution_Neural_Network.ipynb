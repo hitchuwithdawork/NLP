{
  "nbformat": 4,
  "nbformat_minor": 0,
  "metadata": {
    "colab": {
      "provenance": [],
      "collapsed_sections": []
    },
    "kernelspec": {
      "name": "python3",
      "display_name": "Python 3"
    },
    "accelerator": "GPU"
  },
  "cells": [
    {
      "cell_type": "markdown",
      "metadata": {
        "id": "86l7I5SQ_u9J"
      },
      "source": [
        "# 합성곱 신경망(Convolution Neural Network)\n",
        "\n",
        "- 이미지 인식, 음성 인식 등에 자주 사용되는데,  \n",
        "  특히, 이미지 인식 분야에서 거의 모든 딥러닝 기술에 사용\n",
        "\n",
        "<br>\n",
        "\n",
        "## 컨볼루션 신경망의 등장\n",
        "- 1989년 얀 르쿤(Yann LeCun) 교수의 논문에서 발표\n",
        "\n",
        "  - 필기체 인식에서 의미가 있었지만 범용화하는데에는 무리\n",
        "\n",
        "- 1998년, \"Gradient-Based Learning Applied to Document Recognition\"이라는 논문에서 LeNet-5 제시\n",
        "\n",
        "- 합성곱 층(convolution layer), 풀링 층(pooling layer) 소개\n",
        "  <br>\n",
        "\n",
        "  <img src=\"https://miro.medium.com/max/4308/1*1TI1aGBZ4dybR6__DI9dzA.png\">\n",
        "  \n",
        "  <center>[LeNet-5 구조]</center>\n",
        "\n",
        "  <sub>출처: https://medium.com/@pechyonkin/key-deep-learning-architectures-lenet-5-6fc3c59e6f4</sub>"
      ]
    },
    {
      "cell_type": "markdown",
      "metadata": {
        "id": "Y46evOQHNukF"
      },
      "source": [
        "## 컨볼루션 신경망 구조 예시\n",
        "\n",
        "<img src=\"https://www.oreilly.com/library/view/neural-network-projects/9781789138900/assets/c38754ca-f2ea-425a-b7a6-1fe0f2f5074e.png\" width=\"600\">\n",
        "\n",
        "<sub>출처: https://www.oreilly.com/library/view/neural-network-projects/9781789138900/8e87ad66-6de3-4275-81a4-62b54436bf16.xhtml</sub>\n",
        "\n"
      ]
    },
    {
      "cell_type": "markdown",
      "metadata": {
        "id": "Wtb8UWyTNxp_"
      },
      "source": [
        "## 합성곱 연산\n",
        "- 필터(filter) 연산\n",
        "  - 입력 데이터에 필터를 통한 어떠한 연산을 진행\n",
        "  \n",
        "  - **필터에 대응하는 원소끼리 곱하고, 그 합을 구함**\n",
        "\n",
        "  - 연산이 완료된 결과 데이터를 **특징 맵(feature map)**이라 부름\n",
        "\n",
        "- 필터(filter)\n",
        "  - 커널(kernel)이라고도 칭함\n",
        "  \n",
        "  - 흔히 사진 어플에서 사용하는 '이미지 필터'와 비슷한 개념\n",
        "\n",
        "  - 필터의 사이즈는 \"거의 항상 홀수\"\n",
        "    - 짝수이면 패딩이 비대칭이 되어버림\n",
        "  \n",
        "    - 왼쪽, 오른쪽을 다르게 주어야함\n",
        "  \n",
        "    - 중심위치가 존재, 즉 구별된 하나의 픽셀(중심 픽셀)이 존재\n",
        "\n",
        "  - 필터의 학습 파라미터 개수는 입력 데이터의 크기와 상관없이 일정  \n",
        "    따라서, 과적합을 방지할 수 있음\n",
        "\n",
        "  <br>\n",
        "  <img src=\"http://deeplearning.net/software/theano_versions/dev/_images/numerical_no_padding_no_strides.gif\">\n",
        "\n",
        "  <sub>출처: http://deeplearning.net/software/theano_versions/dev/tutorial/conv_arithmetic.html</sub>\n",
        "\n",
        "\n",
        "- 연산 시각화\n",
        "  <img src=\"https://www.researchgate.net/profile/Ihab_S_Mohamed/publication/324165524/figure/fig3/AS:611103423860736@1522709818959/An-example-of-convolution-operation-in-2D-2.png\" width=\"500\">\n",
        "\n",
        "  <sub>출처: https://www.researchgate.net/figure/An-example-of-convolution-operation-in-2D-2_fig3_324165524</sub>\n",
        "\n",
        "\n",
        "- 일반적으로, 합성곱 연산을 한 후의 데이터 사이즈는  \n",
        "  ### $\\quad (n-f+1) \\times (n-f+1)$\n",
        "    $n$: 입력 데이터의 크기  \n",
        "    $f$: 필터(커널)의 크기\n",
        "\n",
        "\n",
        "  <img src=\"https://miro.medium.com/max/1400/1*Fw-ehcNBR9byHtho-Rxbtw.gif\" width=\"400\">\n",
        "\n",
        "  <sub>출처: https://towardsdatascience.com/intuitively-understanding-convolutions-for-deep-learning-1f6f42faee1</sub>\n",
        "  \n",
        "  위 예에서 입력 데이터 크기($n$)는 5, 필터의 크기($k$)는 3이므로  \n",
        "  출력 데이터의 크기는 $(5 - 3 + 1) = 3$\n"
      ]
    },
    {
      "cell_type": "markdown",
      "metadata": {
        "id": "5-ekDsJwN2Y-"
      },
      "source": [
        "## 패딩(padding)과 스트라이드(stride)\n",
        "- 필터(커널) 사이즈과 함께 **입력 이미지와 출력 이미지의 사이즈를 결정**하기 위해 사용\n",
        "\n",
        "- 사용자가 결정할 수 있음\n"
      ]
    },
    {
      "cell_type": "markdown",
      "metadata": {
        "id": "alV1bgcjN4Kc"
      },
      "source": [
        "\n",
        "### 패딩\n",
        "- 입력 데이터의 주변을 특정 값으로 채우는 기법\n",
        "  - 주로 0으로 많이 채움\n",
        "\n",
        "  <img src=\"http://deeplearning.net/software/theano_versions/dev/_images/arbitrary_padding_no_strides.gif\" width=\"300\">\n",
        "\n",
        "- 출력 데이터의 크기\n",
        "  ### $\\quad (n+2p-f+1) \\times (n+2p-f+1)$\n",
        "\n",
        "  위 그림에서, 입력 데이터의 크기($n$)는 5, 필터의 크기($f$)는 4, 패딩값($p$)은 2이므로    \n",
        "  출력 데이터의 크기는 ($5 + 2\\times 2 - 4 + 1) = 6$\n",
        "\n",
        "### 'valid' 와 'same'\n",
        "- 'valid'\n",
        "  - 패딩을 주지 않음\n",
        "  - padding=0 (0으로 채워진 테두리가 아니라 패딩을 주지 않는다는 의미)\n",
        "\n",
        "- 'same'\n",
        "  - 패딩을 주어 입력 이미지의 크기와 연산 후의 이미지 크기를 같게함\n",
        "\n",
        "  - 만약, 필터(커널)의 크기가 $k$ 이면,  \n",
        "    패딩의 크기는 $p = \\frac{k-1}{2}$ (단, <u>stride=1)</u>"
      ]
    },
    {
      "cell_type": "markdown",
      "metadata": {
        "id": "zlZ7zG6ON85J"
      },
      "source": [
        "\n",
        "\n",
        "### 스트라이드\n",
        "- 필터를 적용하는 간격을 의미\n",
        "\n",
        "- 아래는 그림의 간격 2\n",
        "\n",
        "  <img src=\"http://deeplearning.net/software/theano_versions/dev/_images/no_padding_strides.gif\">\n"
      ]
    },
    {
      "cell_type": "markdown",
      "metadata": {
        "id": "LPcsND-0OCNm"
      },
      "source": [
        "## 출력 데이터의 크기\n",
        "\n",
        "## $\\qquad OH = \\frac{H + 2P - FH}{S} + 1 $ \n",
        "## $\\qquad OW = \\frac{W + 2P - FW}{S} + 1 $ \n",
        "\n",
        "- 입력 크기 : $(H, W)$\n",
        "\n",
        "- 필터 크기 : $(FH, FW)$\n",
        "\n",
        "- 출력 크기 : $(OH, OW)$\n",
        "\n",
        "- 패딩, 스트라이드 : $P, S$\n",
        "\n",
        "- (주의) \n",
        "  - 위 식의 값에서 $\\frac{H + 2P - FH}{S}$ 또는 $\\frac{W + 2P - FW}{S}$가 정수로 나누어 떨어지는 값이어야 함\n",
        "  - 만약, 정수로 나누어 떨어지지 않으면  \n",
        "    패딩, 스트라이드값을 조정하여 정수로 나누어 떨어지게 해야함\n"
      ]
    },
    {
      "cell_type": "markdown",
      "metadata": {
        "id": "1x4UoMbF8jJ9"
      },
      "source": [
        "## 풀링(Pooling)\n",
        "\n",
        "- 필터(커널) 사이즈 내에서 특정 값을 추출하는 과정"
      ]
    },
    {
      "cell_type": "markdown",
      "metadata": {
        "id": "lDiaO3XF8oC_"
      },
      "source": [
        "### 맥스 풀링(Max Pooling)\n",
        "- 가장 많이 사용되는 방법\n",
        "\n",
        "- 출력 데이터의 사이즈 계산은 컨볼루션 연산과 동일\n",
        "## $\\quad OH = \\frac{H + 2P - FH}{S} + 1 $ \n",
        "## $\\quad OW = \\frac{W + 2P - FW}{S} + 1 $ \n",
        "\n",
        "- 일반적으로 stride=2, kernel_size=2 를 통해  \n",
        "  **특징맵의 크기를 <u>절반으로 줄이는 역할</u>**\n",
        "\n",
        "- 모델이 물체의 주요한 특징을 학습할 수 있도록 해주며,  \n",
        "  컨볼루션 신경망이 이동 불변성 특성을 가지게 해줌\n",
        "  - 예를 들어, 아래의 그림에서 초록색 사각형 안에 있는  \n",
        "    2와 8의 위치를 바꾼다해도 맥스 풀링 연산은 8을 추출\n",
        "\n",
        "- 모델의 파라미터 개수를 줄여주고, 연산 속도를 빠르게 해줌\n",
        "\n",
        "  <br>\n",
        "\n",
        "  <img src=\"https://cs231n.github.io/assets/cnn/maxpool.jpeg\" width=\"600\">\n",
        "\n",
        "  <sub>출처: https://cs231n.github.io/convolutional-networks/</sub>"
      ]
    },
    {
      "cell_type": "markdown",
      "metadata": {
        "id": "CrvtX4LrkhPI"
      },
      "source": [
        "## Conv1D \n",
        "\n",
        "- 텍스트 분류나 시계열 예측 같은 간단한 문제, 오디오 생성, 기계 번역 등의 문제에서 좋은 성능\n",
        "\n",
        "- 타임스텝의 순서에 민감하지 X\n",
        "\n",
        "\n",
        "- 2D Convolution\n",
        "  - 지역적 특징을 인식\n",
        "\n",
        "  <img src=\"https://missinglink.ai/wp-content/uploads/2019/03/2D-convolutional-example_2x-700x584.png\" width=\"500\">\n",
        "\n",
        "- 1D Convolution\n",
        "  - 문맥을 인식\n",
        "\n",
        "  <img src=\"https://missinglink.ai/wp-content/uploads/2019/03/1D-convolutional-example_2x.png\" width=\"500\">\n",
        "\n",
        "  <sub>출처: https://missinglink.ai/guides/keras/keras-conv1d-working-1d-convolutional-neural-networks-keras/</sub>"
      ]
    },
    {
      "cell_type": "markdown",
      "metadata": {
        "id": "aJNAI-aYnDuc"
      },
      "source": [
        "### Conv1D Layer\n",
        "- 입력: `(batch_size, timesteps, channels)`\n",
        "\n",
        "- 출력: `(batch_size, timesteps, filters)`\n",
        "\n",
        "- 필터의 사이즈가 커져도 모델이 급격히 증가하지 않기 때문에 다양한 크기를 사용할 수 있음\n",
        "- 데이터의 품질이 좋으면 굳이 크기를 달리하여 여러 개를 사용하지 않아도 될 수도 있음"
      ]
    },
    {
      "cell_type": "markdown",
      "metadata": {
        "id": "ADJZHPLJqTZa"
      },
      "source": [
        "### MaxPooling1D Layer\n",
        "- 다운 샘플링 효과\n",
        "\n",
        "- 단지 1차원형태로 바뀐 것 뿐"
      ]
    },
    {
      "cell_type": "markdown",
      "metadata": {
        "id": "wirZzwYJrNll"
      },
      "source": [
        "### GlovalMaxPooling Layer\n",
        "- 배치차원을 제외하고 2차원 형태를 1차원 형태로 바꾸어주는 레이어\n",
        "\n",
        "- Flatten layer로 대신 사용가능"
      ]
    },
    {
      "cell_type": "markdown",
      "metadata": {
        "id": "YQY_1IL9nQs2"
      },
      "source": [
        "## IMDB 데이터"
      ]
    },
    {
      "cell_type": "markdown",
      "metadata": {
        "id": "pl4Eu32qnUES"
      },
      "source": [
        "### 데이터 로드 및 전처리"
      ]
    },
    {
      "cell_type": "code",
      "metadata": {
        "id": "WcG-Hiltklbe"
      },
      "source": [
        "from tensorflow.keras.datasets import imdb\n",
        "from tensorflow.keras.preprocessing.sequence import pad_sequences\n",
        "from tensorflow.keras.models import Sequential\n",
        "from tensorflow.keras.optimizers import RMSprop\n",
        "from tensorflow.keras.layers import Dense, Embedding, Conv1D, MaxPooling1D, GlobalMaxPooling1D\n",
        "from keras import layers"
      ],
      "execution_count": 16,
      "outputs": []
    },
    {
      "cell_type": "code",
      "metadata": {
        "id": "GGYaNT8hnec5",
        "colab": {
          "base_uri": "https://localhost:8080/"
        },
        "outputId": "aa508378-450f-4afe-a295-7529224113dd"
      },
      "source": [
        "num_words = 10000\n",
        "max_len = 500\n",
        "batch_size = 32\n",
        "\n",
        "(input_train,y_train), (input_test, y_test) = imdb.load_data(num_words=num_words)\n",
        "\n",
        "print(len(input_train))\n",
        "print(len(input_test))"
      ],
      "execution_count": 11,
      "outputs": [
        {
          "output_type": "stream",
          "name": "stdout",
          "text": [
            "25000\n",
            "25000\n"
          ]
        }
      ]
    },
    {
      "cell_type": "code",
      "metadata": {
        "id": "nQBzp3ownpEK",
        "colab": {
          "base_uri": "https://localhost:8080/"
        },
        "outputId": "927fcc45-e736-4a42-e3ed-1b6a531b9333"
      },
      "source": [
        "pad_x_train = pad_sequences(input_train,maxlen=max_len)\n",
        "pad_x_test = pad_sequences(input_test,maxlen=max_len)\n",
        "\n",
        "print(pad_x_train.shape)\n",
        "print(pad_x_test.shape)"
      ],
      "execution_count": 12,
      "outputs": [
        {
          "output_type": "stream",
          "name": "stdout",
          "text": [
            "(25000, 500)\n",
            "(25000, 500)\n"
          ]
        }
      ]
    },
    {
      "cell_type": "markdown",
      "metadata": {
        "id": "j3E0hYiHoBO0"
      },
      "source": [
        "### 모델 구성"
      ]
    },
    {
      "cell_type": "code",
      "metadata": {
        "id": "PvKPr7N6nuHr"
      },
      "source": [
        "def build_model():\n",
        "  model = Sequential()\n",
        "\n",
        "  model.add(Embedding(input_dim=num_words, output_dim=32, input_length=max_len))\n",
        "  model.add(Conv1D(32,7 ,activation='relu'))\n",
        "  model.add(MaxPooling1D(7))\n",
        "  model.add(Conv1D(32,5 ,activation='relu'))\n",
        "  model.add(MaxPooling1D(5))\n",
        "  model.add(GlobalMaxPooling1D())\n",
        "  model.add(Dense(1, activation='sigmoid'))\n",
        "\n",
        "  model.compile(optimizer=RMSprop(learning_rate=1e-4),\n",
        "                loss = 'binary_crossentropy',\n",
        "                metrics=['accuracy'])\n",
        "  \n",
        "  return model"
      ],
      "execution_count": 18,
      "outputs": []
    },
    {
      "cell_type": "code",
      "metadata": {
        "id": "wwWZ47NHolB6",
        "colab": {
          "base_uri": "https://localhost:8080/"
        },
        "outputId": "8d2c971f-fef5-404f-c1f1-71a8514f34dc"
      },
      "source": [
        "model = build_model()\n",
        "model.summary()"
      ],
      "execution_count": 20,
      "outputs": [
        {
          "output_type": "stream",
          "name": "stdout",
          "text": [
            "Model: \"sequential_7\"\n",
            "_________________________________________________________________\n",
            " Layer (type)                Output Shape              Param #   \n",
            "=================================================================\n",
            " embedding_5 (Embedding)     (None, 500, 32)           320000    \n",
            "                                                                 \n",
            " conv1d_10 (Conv1D)          (None, 494, 32)           7200      \n",
            "                                                                 \n",
            " max_pooling1d_10 (MaxPoolin  (None, 70, 32)           0         \n",
            " g1D)                                                            \n",
            "                                                                 \n",
            " conv1d_11 (Conv1D)          (None, 66, 32)            5152      \n",
            "                                                                 \n",
            " max_pooling1d_11 (MaxPoolin  (None, 13, 32)           0         \n",
            " g1D)                                                            \n",
            "                                                                 \n",
            " global_max_pooling1d_5 (Glo  (None, 32)               0         \n",
            " balMaxPooling1D)                                                \n",
            "                                                                 \n",
            " dense_1 (Dense)             (None, 1)                 33        \n",
            "                                                                 \n",
            "=================================================================\n",
            "Total params: 332,385\n",
            "Trainable params: 332,385\n",
            "Non-trainable params: 0\n",
            "_________________________________________________________________\n"
          ]
        }
      ]
    },
    {
      "cell_type": "markdown",
      "metadata": {
        "id": "0qUbPGdmpHpQ"
      },
      "source": [
        "### 모델 학습"
      ]
    },
    {
      "cell_type": "code",
      "metadata": {
        "id": "xcCgjLHvonWB",
        "colab": {
          "base_uri": "https://localhost:8080/"
        },
        "outputId": "da2e6202-270f-4042-9f61-47165774b901"
      },
      "source": [
        "history = model.fit(pad_x_train, y_train,\n",
        "                    batch_size=128, epochs=30,\n",
        "                    validation_split=0.2)"
      ],
      "execution_count": 21,
      "outputs": [
        {
          "output_type": "stream",
          "name": "stdout",
          "text": [
            "Epoch 1/30\n",
            "157/157 [==============================] - 14s 9ms/step - loss: 0.6928 - accuracy: 0.5263 - val_loss: 0.6925 - val_accuracy: 0.5344\n",
            "Epoch 2/30\n",
            "157/157 [==============================] - 1s 7ms/step - loss: 0.6904 - accuracy: 0.5947 - val_loss: 0.6912 - val_accuracy: 0.5500\n",
            "Epoch 3/30\n",
            "157/157 [==============================] - 1s 6ms/step - loss: 0.6869 - accuracy: 0.6817 - val_loss: 0.6868 - val_accuracy: 0.6550\n",
            "Epoch 4/30\n",
            "157/157 [==============================] - 1s 7ms/step - loss: 0.6785 - accuracy: 0.7071 - val_loss: 0.6742 - val_accuracy: 0.7094\n",
            "Epoch 5/30\n",
            "157/157 [==============================] - 1s 8ms/step - loss: 0.6558 - accuracy: 0.7637 - val_loss: 0.6379 - val_accuracy: 0.7642\n",
            "Epoch 6/30\n",
            "157/157 [==============================] - 1s 7ms/step - loss: 0.6039 - accuracy: 0.7866 - val_loss: 0.5708 - val_accuracy: 0.7910\n",
            "Epoch 7/30\n",
            "157/157 [==============================] - 1s 7ms/step - loss: 0.5254 - accuracy: 0.8114 - val_loss: 0.4915 - val_accuracy: 0.8106\n",
            "Epoch 8/30\n",
            "157/157 [==============================] - 1s 7ms/step - loss: 0.4429 - accuracy: 0.8357 - val_loss: 0.4248 - val_accuracy: 0.8278\n",
            "Epoch 9/30\n",
            "157/157 [==============================] - 1s 7ms/step - loss: 0.3794 - accuracy: 0.8530 - val_loss: 0.3834 - val_accuracy: 0.8400\n",
            "Epoch 10/30\n",
            "157/157 [==============================] - 1s 7ms/step - loss: 0.3361 - accuracy: 0.8670 - val_loss: 0.3592 - val_accuracy: 0.8472\n",
            "Epoch 11/30\n",
            "157/157 [==============================] - 1s 7ms/step - loss: 0.3065 - accuracy: 0.8780 - val_loss: 0.3449 - val_accuracy: 0.8516\n",
            "Epoch 12/30\n",
            "157/157 [==============================] - 1s 7ms/step - loss: 0.2838 - accuracy: 0.8871 - val_loss: 0.3388 - val_accuracy: 0.8570\n",
            "Epoch 13/30\n",
            "157/157 [==============================] - 1s 7ms/step - loss: 0.2665 - accuracy: 0.8949 - val_loss: 0.3309 - val_accuracy: 0.8608\n",
            "Epoch 14/30\n",
            "157/157 [==============================] - 1s 7ms/step - loss: 0.2514 - accuracy: 0.9036 - val_loss: 0.3271 - val_accuracy: 0.8618\n",
            "Epoch 15/30\n",
            "157/157 [==============================] - 1s 7ms/step - loss: 0.2382 - accuracy: 0.9068 - val_loss: 0.3233 - val_accuracy: 0.8636\n",
            "Epoch 16/30\n",
            "157/157 [==============================] - 1s 7ms/step - loss: 0.2261 - accuracy: 0.9134 - val_loss: 0.3229 - val_accuracy: 0.8642\n",
            "Epoch 17/30\n",
            "157/157 [==============================] - 1s 7ms/step - loss: 0.2153 - accuracy: 0.9187 - val_loss: 0.3233 - val_accuracy: 0.8656\n",
            "Epoch 18/30\n",
            "157/157 [==============================] - 1s 7ms/step - loss: 0.2053 - accuracy: 0.9232 - val_loss: 0.3251 - val_accuracy: 0.8660\n",
            "Epoch 19/30\n",
            "157/157 [==============================] - 1s 7ms/step - loss: 0.1960 - accuracy: 0.9266 - val_loss: 0.3291 - val_accuracy: 0.8658\n",
            "Epoch 20/30\n",
            "157/157 [==============================] - 1s 7ms/step - loss: 0.1876 - accuracy: 0.9312 - val_loss: 0.3297 - val_accuracy: 0.8666\n",
            "Epoch 21/30\n",
            "157/157 [==============================] - 1s 7ms/step - loss: 0.1796 - accuracy: 0.9342 - val_loss: 0.3330 - val_accuracy: 0.8662\n",
            "Epoch 22/30\n",
            "157/157 [==============================] - 1s 7ms/step - loss: 0.1723 - accuracy: 0.9385 - val_loss: 0.3384 - val_accuracy: 0.8650\n",
            "Epoch 23/30\n",
            "157/157 [==============================] - 1s 7ms/step - loss: 0.1650 - accuracy: 0.9414 - val_loss: 0.3403 - val_accuracy: 0.8646\n",
            "Epoch 24/30\n",
            "157/157 [==============================] - 1s 7ms/step - loss: 0.1585 - accuracy: 0.9439 - val_loss: 0.3439 - val_accuracy: 0.8662\n",
            "Epoch 25/30\n",
            "157/157 [==============================] - 1s 7ms/step - loss: 0.1523 - accuracy: 0.9470 - val_loss: 0.3485 - val_accuracy: 0.8672\n",
            "Epoch 26/30\n",
            "157/157 [==============================] - 1s 7ms/step - loss: 0.1464 - accuracy: 0.9501 - val_loss: 0.3533 - val_accuracy: 0.8650\n",
            "Epoch 27/30\n",
            "157/157 [==============================] - 1s 7ms/step - loss: 0.1410 - accuracy: 0.9520 - val_loss: 0.3581 - val_accuracy: 0.8632\n",
            "Epoch 28/30\n",
            "157/157 [==============================] - 1s 7ms/step - loss: 0.1358 - accuracy: 0.9535 - val_loss: 0.3628 - val_accuracy: 0.8622\n",
            "Epoch 29/30\n",
            "157/157 [==============================] - 1s 7ms/step - loss: 0.1311 - accuracy: 0.9564 - val_loss: 0.3675 - val_accuracy: 0.8618\n",
            "Epoch 30/30\n",
            "157/157 [==============================] - 1s 7ms/step - loss: 0.1264 - accuracy: 0.9579 - val_loss: 0.3748 - val_accuracy: 0.8612\n"
          ]
        }
      ]
    },
    {
      "cell_type": "markdown",
      "metadata": {
        "id": "n2yEkawIph4C"
      },
      "source": [
        "### 시각화"
      ]
    },
    {
      "cell_type": "code",
      "source": [
        "import matplotlib.pyplot as plt\n",
        "plt.style.use('seaborn-white')"
      ],
      "metadata": {
        "id": "HtPH3axVwugc"
      },
      "execution_count": 23,
      "outputs": []
    },
    {
      "cell_type": "code",
      "metadata": {
        "id": "BfKC0UOkpPmP",
        "colab": {
          "base_uri": "https://localhost:8080/",
          "height": 525
        },
        "outputId": "84bd423e-c715-41b0-be0e-751f7a313332"
      },
      "source": [
        "loss = history.history['loss']\n",
        "val_loss = history.history['val_loss']\n",
        "accuracy = history.history['accuracy']\n",
        "val_accuracy = history.history['val_accuracy']\n",
        "\n",
        "epochs = range(1, len(loss) + 1)\n",
        "\n",
        "plt.plot(epochs, loss , 'b--', label='training loss')\n",
        "plt.plot(epochs, val_loss , 'r:', label='validation loss')\n",
        "plt.grid()\n",
        "plt.legend()\n",
        "\n",
        "plt.figure()\n",
        "plt.plot(epochs, accuracy , 'b--', label='training accuracy')\n",
        "plt.plot(epochs, val_accuracy , 'r', label='validation accuracy')\n",
        "plt.grid()\n",
        "plt.legend()\n",
        "\n",
        "plt.show"
      ],
      "execution_count": 24,
      "outputs": [
        {
          "output_type": "execute_result",
          "data": {
            "text/plain": [
              "<function matplotlib.pyplot.show(*args, **kw)>"
            ]
          },
          "metadata": {},
          "execution_count": 24
        },
        {
          "output_type": "display_data",
          "data": {
            "text/plain": [
              "<Figure size 432x288 with 1 Axes>"
            ],
            "image/png": "[encoded data removed]"
          },
          "metadata": {}
        },
        {
          "output_type": "display_data",
          "data": {
            "text/plain": [
              "<Figure size 432x288 with 1 Axes>"
            ],
            "image/png": "[encoded data removed]"
          },
          "metadata": {}
        }
      ]
    },
    {
      "cell_type": "code",
      "source": [
        "model.evaluate(pad_x_test,y_test)"
      ],
      "metadata": {
        "colab": {
          "base_uri": "https://localhost:8080/"
        },
        "id": "IRnyw1wmw5Yz",
        "outputId": "35c6e1df-e221-4e36-9df0-ebd178d45186"
      },
      "execution_count": 25,
      "outputs": [
        {
          "output_type": "stream",
          "name": "stdout",
          "text": [
            "782/782 [==============================] - 2s 3ms/step - loss: 0.3942 - accuracy: 0.8483\n"
          ]
        },
        {
          "output_type": "execute_result",
          "data": {
            "text/plain": [
              "[0.3942030966281891, 0.8483200073242188]"
            ]
          },
          "metadata": {},
          "execution_count": 25
        }
      ]
    },
    {
      "cell_type": "markdown",
      "metadata": {
        "id": "Oz_Iu_VHV7Z5"
      },
      "source": [
        "## Reuters 데이터"
      ]
    },
    {
      "cell_type": "markdown",
      "metadata": {
        "id": "4_Q6p0nhV7Z6"
      },
      "source": [
        "### 데이터 로드 및 전처리"
      ]
    },
    {
      "cell_type": "code",
      "metadata": {
        "id": "waEmkCowV7Z7"
      },
      "source": [
        "from tensorflow.keras.datasets import reuters"
      ],
      "execution_count": 51,
      "outputs": []
    },
    {
      "cell_type": "code",
      "metadata": {
        "id": "dggcmeJ4V7Z_",
        "colab": {
          "base_uri": "https://localhost:8080/"
        },
        "outputId": "f305d6b7-5a6e-421a-b41c-279c8ef0277e"
      },
      "source": [
        "num_words = 10000\n",
        "max_len = 500\n",
        "\n",
        "\n",
        "(input_train,y_train), (input_test, y_test) = reuters.load_data(num_words=num_words)\n",
        "\n",
        "print(len(input_train))\n",
        "print(len(input_test))"
      ],
      "execution_count": 53,
      "outputs": [
        {
          "output_type": "stream",
          "name": "stdout",
          "text": [
            "Downloading data from https://storage.googleapis.com/tensorflow/tf-keras-datasets/reuters.npz\n",
            "2113536/2110848 [==============================] - 0s 0us/step\n",
            "2121728/2110848 [==============================] - 0s 0us/step\n",
            "8982\n",
            "2246\n"
          ]
        }
      ]
    },
    {
      "cell_type": "code",
      "metadata": {
        "id": "EBOJIgbgV7aB",
        "colab": {
          "base_uri": "https://localhost:8080/"
        },
        "outputId": "1258d666-2095-4f9f-b903-a4808b0073de"
      },
      "source": [
        "pad_x_train = pad_sequences(input_train,maxlen=max_len)\n",
        "pad_x_test = pad_sequences(input_test,maxlen=max_len)\n",
        "\n",
        "print(pad_x_train.shape)\n",
        "print(pad_x_test.shape)"
      ],
      "execution_count": 54,
      "outputs": [
        {
          "output_type": "stream",
          "name": "stdout",
          "text": [
            "(8982, 500)\n",
            "(2246, 500)\n"
          ]
        }
      ]
    },
    {
      "cell_type": "markdown",
      "metadata": {
        "id": "xehgNec0V7aE"
      },
      "source": [
        "### 모델 구성"
      ]
    },
    {
      "cell_type": "code",
      "metadata": {
        "id": "RTV2qF8_V7aE"
      },
      "source": [
        "def build_model():\n",
        "  model = Sequential()\n",
        "\n",
        "  model.add(Embedding(input_dim=num_words, output_dim=32, input_length=max_len))\n",
        "  model.add(Conv1D(32,7 ,activation='relu'))\n",
        "  model.add(MaxPooling1D(7))\n",
        "  model.add(Conv1D(32,5 ,activation='relu'))\n",
        "  model.add(MaxPooling1D(5))\n",
        "  model.add(GlobalMaxPooling1D())\n",
        "  model.add(Dense(46, activation='softmax'))\n",
        "\n",
        "  model.compile(optimizer='adam',\n",
        "                loss = 'sparse_categorical_crossentropy',\n",
        "                metrics=['accuracy'])\n",
        "  \n",
        "  return model"
      ],
      "execution_count": 29,
      "outputs": []
    },
    {
      "cell_type": "code",
      "metadata": {
        "id": "48n2W3xpV7aG",
        "colab": {
          "base_uri": "https://localhost:8080/"
        },
        "outputId": "eb9511b2-b8af-41f8-a318-40f33484e32f"
      },
      "source": [
        "model = build_model()\n",
        "model.summary()"
      ],
      "execution_count": 30,
      "outputs": [
        {
          "output_type": "stream",
          "name": "stdout",
          "text": [
            "Model: \"sequential_8\"\n",
            "_________________________________________________________________\n",
            " Layer (type)                Output Shape              Param #   \n",
            "=================================================================\n",
            " embedding_6 (Embedding)     (None, 500, 32)           320000    \n",
            "                                                                 \n",
            " conv1d_12 (Conv1D)          (None, 494, 32)           7200      \n",
            "                                                                 \n",
            " max_pooling1d_12 (MaxPoolin  (None, 70, 32)           0         \n",
            " g1D)                                                            \n",
            "                                                                 \n",
            " conv1d_13 (Conv1D)          (None, 66, 32)            5152      \n",
            "                                                                 \n",
            " max_pooling1d_13 (MaxPoolin  (None, 13, 32)           0         \n",
            " g1D)                                                            \n",
            "                                                                 \n",
            " global_max_pooling1d_6 (Glo  (None, 32)               0         \n",
            " balMaxPooling1D)                                                \n",
            "                                                                 \n",
            " dense_2 (Dense)             (None, 46)                1518      \n",
            "                                                                 \n",
            "=================================================================\n",
            "Total params: 333,870\n",
            "Trainable params: 333,870\n",
            "Non-trainable params: 0\n",
            "_________________________________________________________________\n"
          ]
        }
      ]
    },
    {
      "cell_type": "markdown",
      "metadata": {
        "id": "WeRmu5WMV7aI"
      },
      "source": [
        "### 모델 학습"
      ]
    },
    {
      "cell_type": "code",
      "metadata": {
        "id": "BGVdYyIrV7aJ",
        "colab": {
          "base_uri": "https://localhost:8080/"
        },
        "outputId": "ad7b1184-a922-4074-ff9a-eeed78bdca47"
      },
      "source": [
        "history = model.fit(pad_x_train, y_train,\n",
        "                    batch_size=128, epochs=30,\n",
        "                    validation_split=0.2)"
      ],
      "execution_count": 31,
      "outputs": [
        {
          "output_type": "stream",
          "name": "stdout",
          "text": [
            "Epoch 1/30\n",
            "157/157 [==============================] - 2s 8ms/step - loss: 1.2946 - accuracy: 0.5023 - val_loss: 0.6902 - val_accuracy: 0.5060\n",
            "Epoch 2/30\n",
            "157/157 [==============================] - 1s 6ms/step - loss: 0.5954 - accuracy: 0.7067 - val_loss: 0.4265 - val_accuracy: 0.8146\n",
            "Epoch 3/30\n",
            "157/157 [==============================] - 1s 6ms/step - loss: 0.3357 - accuracy: 0.8587 - val_loss: 0.3275 - val_accuracy: 0.8646\n",
            "Epoch 4/30\n",
            "157/157 [==============================] - 1s 7ms/step - loss: 0.2275 - accuracy: 0.9126 - val_loss: 0.3218 - val_accuracy: 0.8678\n",
            "Epoch 5/30\n",
            "157/157 [==============================] - 1s 7ms/step - loss: 0.1601 - accuracy: 0.9441 - val_loss: 0.3412 - val_accuracy: 0.8656\n",
            "Epoch 6/30\n",
            "157/157 [==============================] - 1s 6ms/step - loss: 0.1066 - accuracy: 0.9677 - val_loss: 0.3769 - val_accuracy: 0.8656\n",
            "Epoch 7/30\n",
            "157/157 [==============================] - 1s 6ms/step - loss: 0.0677 - accuracy: 0.9825 - val_loss: 0.4413 - val_accuracy: 0.8586\n",
            "Epoch 8/30\n",
            "157/157 [==============================] - 1s 7ms/step - loss: 0.0388 - accuracy: 0.9928 - val_loss: 0.4989 - val_accuracy: 0.8578\n",
            "Epoch 9/30\n",
            "157/157 [==============================] - 1s 7ms/step - loss: 0.0210 - accuracy: 0.9973 - val_loss: 0.5535 - val_accuracy: 0.8566\n",
            "Epoch 10/30\n",
            "157/157 [==============================] - 1s 6ms/step - loss: 0.0112 - accuracy: 0.9994 - val_loss: 0.6107 - val_accuracy: 0.8530\n",
            "Epoch 11/30\n",
            "157/157 [==============================] - 1s 7ms/step - loss: 0.0067 - accuracy: 0.9995 - val_loss: 0.6522 - val_accuracy: 0.8556\n",
            "Epoch 12/30\n",
            "157/157 [==============================] - 1s 7ms/step - loss: 0.0044 - accuracy: 0.9998 - val_loss: 0.6926 - val_accuracy: 0.8552\n",
            "Epoch 13/30\n",
            "157/157 [==============================] - 1s 7ms/step - loss: 0.0031 - accuracy: 0.9998 - val_loss: 0.7235 - val_accuracy: 0.8548\n",
            "Epoch 14/30\n",
            "157/157 [==============================] - 1s 6ms/step - loss: 0.0022 - accuracy: 0.9999 - val_loss: 0.7550 - val_accuracy: 0.8544\n",
            "Epoch 15/30\n",
            "157/157 [==============================] - 1s 6ms/step - loss: 0.0015 - accuracy: 0.9999 - val_loss: 0.7904 - val_accuracy: 0.8530\n",
            "Epoch 16/30\n",
            "157/157 [==============================] - 1s 6ms/step - loss: 0.0011 - accuracy: 1.0000 - val_loss: 0.8164 - val_accuracy: 0.8544\n",
            "Epoch 17/30\n",
            "157/157 [==============================] - 1s 7ms/step - loss: 7.6726e-04 - accuracy: 1.0000 - val_loss: 0.8428 - val_accuracy: 0.8554\n",
            "Epoch 18/30\n",
            "157/157 [==============================] - 1s 6ms/step - loss: 6.2527e-04 - accuracy: 1.0000 - val_loss: 0.8702 - val_accuracy: 0.8566\n",
            "Epoch 19/30\n",
            "157/157 [==============================] - 1s 6ms/step - loss: 5.1054e-04 - accuracy: 0.9999 - val_loss: 0.9011 - val_accuracy: 0.8546\n",
            "Epoch 20/30\n",
            "157/157 [==============================] - 1s 6ms/step - loss: 3.7673e-04 - accuracy: 1.0000 - val_loss: 0.9247 - val_accuracy: 0.8540\n",
            "Epoch 21/30\n",
            "157/157 [==============================] - 1s 7ms/step - loss: 3.3473e-04 - accuracy: 1.0000 - val_loss: 0.9540 - val_accuracy: 0.8516\n",
            "Epoch 22/30\n",
            "157/157 [==============================] - 1s 7ms/step - loss: 2.4827e-04 - accuracy: 1.0000 - val_loss: 0.9714 - val_accuracy: 0.8544\n",
            "Epoch 23/30\n",
            "157/157 [==============================] - 1s 6ms/step - loss: 2.0126e-04 - accuracy: 1.0000 - val_loss: 0.9923 - val_accuracy: 0.8540\n",
            "Epoch 24/30\n",
            "157/157 [==============================] - 1s 6ms/step - loss: 1.7031e-04 - accuracy: 1.0000 - val_loss: 1.0170 - val_accuracy: 0.8520\n",
            "Epoch 25/30\n",
            "157/157 [==============================] - 1s 7ms/step - loss: 1.5173e-04 - accuracy: 1.0000 - val_loss: 1.0367 - val_accuracy: 0.8522\n",
            "Epoch 26/30\n",
            "157/157 [==============================] - 1s 7ms/step - loss: 1.2580e-04 - accuracy: 1.0000 - val_loss: 1.0548 - val_accuracy: 0.8524\n",
            "Epoch 27/30\n",
            "157/157 [==============================] - 1s 7ms/step - loss: 1.0612e-04 - accuracy: 1.0000 - val_loss: 1.0736 - val_accuracy: 0.8520\n",
            "Epoch 28/30\n",
            "157/157 [==============================] - 1s 6ms/step - loss: 9.0091e-05 - accuracy: 1.0000 - val_loss: 1.0917 - val_accuracy: 0.8522\n",
            "Epoch 29/30\n",
            "157/157 [==============================] - 2s 10ms/step - loss: 7.7218e-05 - accuracy: 1.0000 - val_loss: 1.1098 - val_accuracy: 0.8530\n",
            "Epoch 30/30\n",
            "157/157 [==============================] - 1s 6ms/step - loss: 6.5743e-05 - accuracy: 1.0000 - val_loss: 1.1277 - val_accuracy: 0.8524\n"
          ]
        }
      ]
    },
    {
      "cell_type": "markdown",
      "metadata": {
        "id": "ao8NNj2SV7aL"
      },
      "source": [
        "### 시각화"
      ]
    },
    {
      "cell_type": "code",
      "metadata": {
        "id": "D_CisVtyV7aL",
        "colab": {
          "base_uri": "https://localhost:8080/",
          "height": 525
        },
        "outputId": "9896d156-5707-4434-b914-52bdfde182f1"
      },
      "source": [
        "loss = history.history['loss']\n",
        "val_loss = history.history['val_loss']\n",
        "accuracy = history.history['accuracy']\n",
        "val_accuracy = history.history['val_accuracy']\n",
        "\n",
        "epochs = range(1, len(loss) + 1)\n",
        "\n",
        "plt.plot(epochs, loss , 'b--', label='training loss')\n",
        "plt.plot(epochs, val_loss , 'r:', label='validation loss')\n",
        "plt.grid()\n",
        "plt.legend()\n",
        "\n",
        "plt.figure()\n",
        "plt.plot(epochs, accuracy , 'b--', label='training accuracy')\n",
        "plt.plot(epochs, val_accuracy , 'r', label='validation accuracy')\n",
        "plt.grid()\n",
        "plt.legend()\n",
        "\n",
        "plt.show"
      ],
      "execution_count": 32,
      "outputs": [
        {
          "output_type": "execute_result",
          "data": {
            "text/plain": [
              "<function matplotlib.pyplot.show(*args, **kw)>"
            ]
          },
          "metadata": {},
          "execution_count": 32
        },
        {
          "output_type": "display_data",
          "data": {
            "text/plain": [
              "<Figure size 432x288 with 1 Axes>"
            ],
            "image/png": "[encoded data removed]"
          },
          "metadata": {}
        },
        {
          "output_type": "display_data",
          "data": {
            "text/plain": [
              "<Figure size 432x288 with 1 Axes>"
            ],
            "image/png": "[encoded data removed]"
          },
          "metadata": {}
        }
      ]
    },
    {
      "cell_type": "markdown",
      "source": [
        "오버피팅 개지림\n",
        "\n",
        "output_dim = 64로 수정\n",
        "Conv1D 필터도 64로 수정해보고 다시돌리자"
      ],
      "metadata": {
        "id": "OA4uYe7Zxzrh"
      }
    },
    {
      "cell_type": "code",
      "metadata": {
        "id": "NCsNsoiUV7aP",
        "colab": {
          "base_uri": "https://localhost:8080/"
        },
        "outputId": "71feb0a8-d0ec-4b2d-924b-ecfbde22e2fb"
      },
      "source": [
        "model.evaluate(pad_x_test,y_test)"
      ],
      "execution_count": 33,
      "outputs": [
        {
          "output_type": "stream",
          "name": "stdout",
          "text": [
            "782/782 [==============================] - 2s 3ms/step - loss: 1.2439 - accuracy: 0.8327\n"
          ]
        },
        {
          "output_type": "execute_result",
          "data": {
            "text/plain": [
              "[1.2439091205596924, 0.8326799869537354]"
            ]
          },
          "metadata": {},
          "execution_count": 33
        }
      ]
    },
    {
      "cell_type": "markdown",
      "source": [
        "# 수정"
      ],
      "metadata": {
        "id": "NY1fpPC2yKRm"
      }
    },
    {
      "cell_type": "code",
      "source": [
        "def build_model():\n",
        "  model = Sequential()\n",
        "\n",
        "  model.add(Embedding(input_dim=num_words, output_dim=64, input_length=max_len))\n",
        "  model.add(Conv1D(64,7 ,activation='relu'))\n",
        "  model.add(MaxPooling1D(7))\n",
        "  model.add(Conv1D(64,5 ,activation='relu'))\n",
        "  model.add(MaxPooling1D(5))\n",
        "  model.add(GlobalMaxPooling1D())\n",
        "  model.add(Dense(46, activation='softmax'))\n",
        "\n",
        "  model.compile(optimizer='adam',\n",
        "                loss = 'sparse_categorical_crossentropy',\n",
        "                metrics=['accuracy'])\n",
        "  \n",
        "  return model"
      ],
      "metadata": {
        "id": "1yAbDEfiyJn3"
      },
      "execution_count": 55,
      "outputs": []
    },
    {
      "cell_type": "code",
      "source": [
        "model = build_model()\n",
        "model.summary()"
      ],
      "metadata": {
        "colab": {
          "base_uri": "https://localhost:8080/"
        },
        "id": "jJI7UmQKzywp",
        "outputId": "5035649e-c750-4fb4-a1ce-a3f66097382d"
      },
      "execution_count": 59,
      "outputs": [
        {
          "output_type": "stream",
          "name": "stdout",
          "text": [
            "Model: \"sequential_9\"\n",
            "_________________________________________________________________\n",
            " Layer (type)                Output Shape              Param #   \n",
            "=================================================================\n",
            " embedding_7 (Embedding)     (None, 500, 64)           640000    \n",
            "                                                                 \n",
            " conv1d_14 (Conv1D)          (None, 494, 64)           28736     \n",
            "                                                                 \n",
            " max_pooling1d_14 (MaxPoolin  (None, 70, 64)           0         \n",
            " g1D)                                                            \n",
            "                                                                 \n",
            " conv1d_15 (Conv1D)          (None, 66, 64)            20544     \n",
            "                                                                 \n",
            " max_pooling1d_15 (MaxPoolin  (None, 13, 64)           0         \n",
            " g1D)                                                            \n",
            "                                                                 \n",
            " global_max_pooling1d_7 (Glo  (None, 64)               0         \n",
            " balMaxPooling1D)                                                \n",
            "                                                                 \n",
            " dense_3 (Dense)             (None, 46)                2990      \n",
            "                                                                 \n",
            "=================================================================\n",
            "Total params: 692,270\n",
            "Trainable params: 692,270\n",
            "Non-trainable params: 0\n",
            "_________________________________________________________________\n"
          ]
        }
      ]
    },
    {
      "cell_type": "code",
      "source": [
        "history = model.fit(pad_x_train, y_train,\n",
        "                    batch_size=128, epochs=30,\n",
        "                    validation_split=0.2)"
      ],
      "metadata": {
        "colab": {
          "base_uri": "https://localhost:8080/"
        },
        "id": "4DUNCgCFyTGe",
        "outputId": "dbb4f64c-aed2-4942-94c3-e76c7cfe53ba"
      },
      "execution_count": 60,
      "outputs": [
        {
          "output_type": "stream",
          "name": "stdout",
          "text": [
            "Epoch 1/30\n",
            "57/57 [==============================] - 2s 17ms/step - loss: 2.6607 - accuracy: 0.4013 - val_loss: 1.9844 - val_accuracy: 0.5125\n",
            "Epoch 2/30\n",
            "57/57 [==============================] - 1s 11ms/step - loss: 1.8295 - accuracy: 0.5319 - val_loss: 1.7192 - val_accuracy: 0.5442\n",
            "Epoch 3/30\n",
            "57/57 [==============================] - 1s 11ms/step - loss: 1.6153 - accuracy: 0.5713 - val_loss: 1.5901 - val_accuracy: 0.6138\n",
            "Epoch 4/30\n",
            "57/57 [==============================] - 1s 11ms/step - loss: 1.4146 - accuracy: 0.6600 - val_loss: 1.4513 - val_accuracy: 0.6661\n",
            "Epoch 5/30\n",
            "57/57 [==============================] - 1s 11ms/step - loss: 1.1940 - accuracy: 0.7087 - val_loss: 1.3464 - val_accuracy: 0.6878\n",
            "Epoch 6/30\n",
            "57/57 [==============================] - 1s 11ms/step - loss: 0.9925 - accuracy: 0.7482 - val_loss: 1.3229 - val_accuracy: 0.7051\n",
            "Epoch 7/30\n",
            "57/57 [==============================] - 1s 11ms/step - loss: 0.8294 - accuracy: 0.7943 - val_loss: 1.3200 - val_accuracy: 0.7218\n",
            "Epoch 8/30\n",
            "57/57 [==============================] - 1s 11ms/step - loss: 0.6807 - accuracy: 0.8317 - val_loss: 1.3635 - val_accuracy: 0.7184\n",
            "Epoch 9/30\n",
            "57/57 [==============================] - 1s 11ms/step - loss: 0.5706 - accuracy: 0.8572 - val_loss: 1.3773 - val_accuracy: 0.7234\n",
            "Epoch 10/30\n",
            "57/57 [==============================] - 1s 11ms/step - loss: 0.4646 - accuracy: 0.8791 - val_loss: 1.4507 - val_accuracy: 0.7184\n",
            "Epoch 11/30\n",
            "57/57 [==============================] - 1s 11ms/step - loss: 0.4042 - accuracy: 0.9013 - val_loss: 1.4826 - val_accuracy: 0.7212\n",
            "Epoch 12/30\n",
            "57/57 [==============================] - 1s 11ms/step - loss: 0.3262 - accuracy: 0.9235 - val_loss: 1.5329 - val_accuracy: 0.7195\n",
            "Epoch 13/30\n",
            "57/57 [==============================] - 1s 11ms/step - loss: 0.2797 - accuracy: 0.9356 - val_loss: 1.6478 - val_accuracy: 0.7095\n",
            "Epoch 14/30\n",
            "57/57 [==============================] - 1s 11ms/step - loss: 0.2454 - accuracy: 0.9467 - val_loss: 1.6369 - val_accuracy: 0.7206\n",
            "Epoch 15/30\n",
            "57/57 [==============================] - 1s 11ms/step - loss: 0.2078 - accuracy: 0.9521 - val_loss: 1.6543 - val_accuracy: 0.7257\n",
            "Epoch 16/30\n",
            "57/57 [==============================] - 1s 11ms/step - loss: 0.1989 - accuracy: 0.9552 - val_loss: 1.7588 - val_accuracy: 0.7173\n",
            "Epoch 17/30\n",
            "57/57 [==============================] - 1s 11ms/step - loss: 0.1697 - accuracy: 0.9596 - val_loss: 1.7265 - val_accuracy: 0.7290\n",
            "Epoch 18/30\n",
            "57/57 [==============================] - 1s 11ms/step - loss: 0.1621 - accuracy: 0.9621 - val_loss: 1.7037 - val_accuracy: 0.7156\n",
            "Epoch 19/30\n",
            "57/57 [==============================] - 1s 11ms/step - loss: 0.1467 - accuracy: 0.9610 - val_loss: 1.7558 - val_accuracy: 0.7273\n",
            "Epoch 20/30\n",
            "57/57 [==============================] - 1s 11ms/step - loss: 0.1395 - accuracy: 0.9633 - val_loss: 1.7706 - val_accuracy: 0.7318\n",
            "Epoch 21/30\n",
            "57/57 [==============================] - 1s 11ms/step - loss: 0.1353 - accuracy: 0.9613 - val_loss: 1.7926 - val_accuracy: 0.7179\n",
            "Epoch 22/30\n",
            "57/57 [==============================] - 1s 11ms/step - loss: 0.1318 - accuracy: 0.9642 - val_loss: 1.7315 - val_accuracy: 0.7279\n",
            "Epoch 23/30\n",
            "57/57 [==============================] - 1s 11ms/step - loss: 0.1242 - accuracy: 0.9626 - val_loss: 1.7664 - val_accuracy: 0.7268\n",
            "Epoch 24/30\n",
            "57/57 [==============================] - 1s 11ms/step - loss: 0.1192 - accuracy: 0.9634 - val_loss: 1.8428 - val_accuracy: 0.7223\n",
            "Epoch 25/30\n",
            "57/57 [==============================] - 1s 11ms/step - loss: 0.1178 - accuracy: 0.9645 - val_loss: 1.7393 - val_accuracy: 0.7251\n",
            "Epoch 26/30\n",
            "57/57 [==============================] - 1s 11ms/step - loss: 0.1140 - accuracy: 0.9648 - val_loss: 1.8293 - val_accuracy: 0.7234\n",
            "Epoch 27/30\n",
            "57/57 [==============================] - 1s 11ms/step - loss: 0.1179 - accuracy: 0.9633 - val_loss: 1.7779 - val_accuracy: 0.7307\n",
            "Epoch 28/30\n",
            "57/57 [==============================] - 1s 11ms/step - loss: 0.1084 - accuracy: 0.9644 - val_loss: 1.8138 - val_accuracy: 0.7251\n",
            "Epoch 29/30\n",
            "57/57 [==============================] - 1s 11ms/step - loss: 0.1049 - accuracy: 0.9638 - val_loss: 1.7737 - val_accuracy: 0.7346\n",
            "Epoch 30/30\n",
            "57/57 [==============================] - 1s 11ms/step - loss: 0.1023 - accuracy: 0.9641 - val_loss: 1.8333 - val_accuracy: 0.7262\n"
          ]
        }
      ]
    },
    {
      "cell_type": "code",
      "source": [
        "loss = history.history['loss']\n",
        "val_loss = history.history['val_loss']\n",
        "accuracy = history.history['accuracy']\n",
        "val_accuracy = history.history['val_accuracy']\n",
        "\n",
        "epochs = range(1, len(loss) + 1)\n",
        "\n",
        "plt.plot(epochs, loss , 'b--', label='training loss')\n",
        "plt.plot(epochs, val_loss , 'r:', label='validation loss')\n",
        "plt.grid()\n",
        "plt.legend()\n",
        "\n",
        "plt.figure()\n",
        "plt.plot(epochs, accuracy , 'b--', label='training accuracy')\n",
        "plt.plot(epochs, val_accuracy , 'r', label='validation accuracy')\n",
        "plt.grid()\n",
        "plt.legend()\n",
        "\n",
        "plt.show"
      ],
      "metadata": {
        "colab": {
          "base_uri": "https://localhost:8080/",
          "height": 525
        },
        "id": "6C_pw3FSyUdH",
        "outputId": "803e7eef-25f9-4d51-e3ea-aa26e18002b5"
      },
      "execution_count": 61,
      "outputs": [
        {
          "output_type": "execute_result",
          "data": {
            "text/plain": [
              "<function matplotlib.pyplot.show(*args, **kw)>"
            ]
          },
          "metadata": {},
          "execution_count": 61
        },
        {
          "output_type": "display_data",
          "data": {
            "text/plain": [
              "<Figure size 432x288 with 1 Axes>"
            ],
            "image/png": "[encoded data removed]"
          },
          "metadata": {}
        },
        {
          "output_type": "display_data",
          "data": {
            "text/plain": [
              "<Figure size 432x288 with 1 Axes>"
            ],
            "image/png": "[encoded data removed]"
          },
          "metadata": {}
        }
      ]
    },
    {
      "cell_type": "markdown",
      "source": [
        "정규화 좀 해줘야할듯"
      ],
      "metadata": {
        "id": "TRg1faG50DUf"
      }
    },
    {
      "cell_type": "code",
      "source": [
        "model.evaluate(pad_x_test,y_test)"
      ],
      "metadata": {
        "colab": {
          "base_uri": "https://localhost:8080/"
        },
        "id": "8BgW5z1dyXBW",
        "outputId": "739a2869-7284-49ea-b3f2-457ecd5f9f09"
      },
      "execution_count": 62,
      "outputs": [
        {
          "output_type": "stream",
          "name": "stdout",
          "text": [
            "71/71 [==============================] - 0s 4ms/step - loss: 1.9087 - accuracy: 0.7240\n"
          ]
        },
        {
          "output_type": "execute_result",
          "data": {
            "text/plain": [
              "[1.908727765083313, 0.7239537239074707]"
            ]
          },
          "metadata": {},
          "execution_count": 62
        }
      ]
    }
  ]
}