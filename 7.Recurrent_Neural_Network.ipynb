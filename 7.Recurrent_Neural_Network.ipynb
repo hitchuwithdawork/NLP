{
  "nbformat": 4,
  "nbformat_minor": 0,
  "metadata": {
    "colab": {
      "provenance": [],
      "collapsed_sections": []
    },
    "kernelspec": {
      "name": "python3",
      "display_name": "Python 3"
    },
    "accelerator": "GPU"
  },
  "cells": [
    {
      "cell_type": "markdown",
      "metadata": {
        "id": "jacLnynuqUXZ"
      },
      "source": [
        "# 순환 신경망 (Recurrent Neural Network, RNN)\n",
        "\n",
        "- **순서가 있는 데이터**를 입력으로 받음\n",
        "\n",
        "- 변화하는 입력에 대한 출력을 얻음\n",
        "\n",
        "- 시계열(날씨, 주가 등), 자연어와 같이 **시간의 흐름에 따라 변화하고, 그 변화가 의미를 갖는 데이터** "
      ]
    },
    {
      "cell_type": "markdown",
      "metadata": {
        "id": "3P0gpo4gqWUz"
      },
      "source": [
        "## Feed Forward Network vs Recurrent Network\n",
        "\n",
        "- Feed Forward Net (앞먹임 구조)\n",
        "  - 일반적인 구조의 신경망\n",
        "\n",
        "  - 입력 → 은닉 → 출력층 으로 이어지는 단방향 구조\n",
        "\n",
        "  - 이전 스텝의 출력의 영향을 받지 않음\n",
        "\n",
        "- Recurrent Net (되먹임 구조)\n",
        "  - 이전 층(Layer), 또는 스텝의 출력이 다시 입력으로 연결되는 신경망 구조\n",
        "\n",
        "  - 각 스텝마다 이전 상태를 기억 시스템(Memory System)  \n",
        "\n",
        "  - 현재 상태가 이전 상태에 종속\n",
        "\n",
        "  <br>\n",
        "\n",
        "  <img src=\"https://www.researchgate.net/profile/Engin_Pekel/publication/315111480/figure/fig1/AS:472548166115333@1489675670530/Feed-forward-and-recurrent-ANN-architecture.png\">\n",
        "\n",
        "  <sub>출처: https://www.researchgate.net/figure/Feed-forward-and-recurrent-ANN-architecture_fig1_315111480</sub>\n",
        "\n"
      ]
    },
    {
      "cell_type": "markdown",
      "metadata": {
        "id": "2h5HFH0BqYho"
      },
      "source": [
        "## 순환 신경망 구조\n",
        "\n",
        "<img src=\"https://colah.github.io/posts/2015-08-Understanding-LSTMs/img/RNN-unrolled.png\" width=\"700\">\n",
        "\n",
        "<br>\n",
        "\n",
        "- 입력 $x_t$에서 $t$는 시각을 뜻함\n",
        "\n",
        "- $X_0$에 대한 출력 $Y_0$이 다음 레이어에 전달\n",
        "\n",
        "- 각각의 입력에 대해 출력은 해당 레이어대로 출력값을 반환"
      ]
    },
    {
      "cell_type": "markdown",
      "metadata": {
        "id": "kowOGfSLqbSn"
      },
      "source": [
        "## 순환 신경망의 다양한 구조\n",
        "\n",
        "<img src=\"https://static.packt-cdn.com/products/9781789346640/graphics/2d4a64ef-9cf9-4b4a-9049-cb9de7a07f89.png\">\n",
        "  \n",
        "  <sub>출처: https://subscription.packtpub.com/book/big_data_and_business_intelligence/9781789346640/11/ch11lvl1sec80/introduction</sub>\n",
        "\n",
        "- one to one\n",
        "  - RNN\n",
        "\n",
        "- one to many\n",
        "  - Image Captioning \n",
        "\n",
        "  - 이미지에 대한 설명 생성\n",
        "\n",
        "- many to one\n",
        "  - Sentiment Classification\n",
        "\n",
        "  - 문장의 긍정/부정을 판단하는 감정 분석\n",
        "\n",
        "- many to many\n",
        "  - Machine Translation\n",
        "\n",
        "  - 하나의 언어를 다른 언어로 번역하는 기계 번역\n",
        "\n",
        "- many to many\n",
        "  - Video Classification(Frame Level)\n",
        "\n",
        "\n"
      ]
    },
    {
      "cell_type": "markdown",
      "metadata": {
        "id": "uiIA4Ue7-G5B"
      },
      "source": [
        "## 두 가지 정보(현재 입력, 이전 시각의 출력)을 처리하는 수식\n",
        "$\\qquad h_t = tanh ( \\ h_{t-1} W_h \\ + \\ x_t W_x + b) $\n",
        "\n",
        "- $W_x$ : 입력 $x$를 출력 $h$로 변환하기 위한 가중치\n",
        "\n",
        "- $W_h$ : 다음 시각의 출력으로 변환하기 위한 가중치\n",
        "\n",
        "- $h$는 '상태'를 기억\n",
        "\n",
        "- $h_t \\ $를 은닉 상태(hidden state) 또는 은닉 상태 벡터(hidden state vector)라고도 불림\n",
        "\n",
        "  <sub>출처: https://colah.github.io/posts/2015-08-Understanding-LSTMs/</sub>"
      ]
    },
    {
      "cell_type": "markdown",
      "metadata": {
        "id": "lp3_sVIjHk0F"
      },
      "source": [
        "## 순환 신경망 레이어 (RNN Layer)\n",
        "\n",
        "- 입력: `(timesteps, input_features)`\n",
        "\n",
        "- 출력: `(timesteps, output_features)`"
      ]
    },
    {
      "cell_type": "code",
      "metadata": {
        "id": "n08yr0aAIbFD"
      },
      "source": [
        "import numpy as np"
      ],
      "execution_count": 18,
      "outputs": []
    },
    {
      "cell_type": "code",
      "metadata": {
        "id": "ZKIInEEZIcBj"
      },
      "source": [
        "timesteps = 100\n",
        "input_features = 32\n",
        "output_features = 64\n",
        "\n",
        "inputs = np.random.random((timesteps,input_features))\n",
        "\n",
        "state_t = np.zeros((output_features, ))\n",
        "\n",
        "W = np.random.random((output_features, input_features))\n",
        "U = np.random.random((output_features, output_features))\n",
        "b = np.random.random((output_features, ))\n",
        "\n",
        "successive_outputs = []\n",
        "\n",
        "for input_t in inputs:\n",
        "  output_t = np.tanh(np.dot(W, input_t) + np.dot(U, state_t) +b )\n",
        "  successive_outputs.append(output_t)\n",
        "  state_t = output_t\n",
        "\n",
        "final_output_sequence = np.stack(successive_outputs, axis=0)"
      ],
      "execution_count": 19,
      "outputs": []
    },
    {
      "cell_type": "markdown",
      "metadata": {
        "id": "bEZ8dQEEKxlQ"
      },
      "source": [
        "## 케라스의 순환층\n",
        "- `SimpleRNN` layer\n",
        "\n",
        "- 입력: `(batch_size, timesteps, input_features)`\n",
        "\n",
        "- 출력\n",
        "  - `return_sequences`로 결정할 수 있음\n",
        "  \n",
        "  - 3D 텐서\n",
        "    - 타임스텝의 출력을 모은 전체 시퀀스를 반환\n",
        "\n",
        "    - `(batch_size, timesteps, output_features)`\n",
        "\n",
        "  - 2D 텐서\n",
        "    - 입력 시퀀스에 대한 마지막 출력만 반환\n",
        "\n",
        "    - `(batch_size, output_features)`\n"
      ]
    },
    {
      "cell_type": "code",
      "metadata": {
        "id": "lZ1YCi1iKMC8"
      },
      "source": [
        "from tensorflow.keras.layers import SimpleRNN, Embedding\n",
        "from tensorflow.keras.models import Sequential"
      ],
      "execution_count": 20,
      "outputs": []
    },
    {
      "cell_type": "code",
      "metadata": {
        "id": "GQ9LbTgoKxIl",
        "colab": {
          "base_uri": "https://localhost:8080/"
        },
        "outputId": "ce544a3b-8c28-4d88-a615-8087b964de86"
      },
      "source": [
        "model = Sequential()\n",
        "model.add(Embedding(10000, 32))\n",
        "model.add(SimpleRNN(32))\n",
        "model.summary()"
      ],
      "execution_count": 21,
      "outputs": [
        {
          "output_type": "stream",
          "name": "stdout",
          "text": [
            "Model: \"sequential_5\"\n",
            "_________________________________________________________________\n",
            " Layer (type)                Output Shape              Param #   \n",
            "=================================================================\n",
            " embedding_5 (Embedding)     (None, None, 32)          320000    \n",
            "                                                                 \n",
            " simple_rnn_9 (SimpleRNN)    (None, 32)                2080      \n",
            "                                                                 \n",
            "=================================================================\n",
            "Total params: 322,080\n",
            "Trainable params: 322,080\n",
            "Non-trainable params: 0\n",
            "_________________________________________________________________\n"
          ]
        }
      ]
    },
    {
      "cell_type": "code",
      "metadata": {
        "id": "KDxE5Jv0Kc7O",
        "colab": {
          "base_uri": "https://localhost:8080/"
        },
        "outputId": "ca8f0f1d-d24b-4d0f-d0cd-dc1068dfef8c"
      },
      "source": [
        "model = Sequential()\n",
        "model.add(Embedding(10000, 32))\n",
        "model.add(SimpleRNN(32 , return_sequences= True))\n",
        "model.add(SimpleRNN(16))\n",
        "model.summary()"
      ],
      "execution_count": 22,
      "outputs": [
        {
          "output_type": "stream",
          "name": "stdout",
          "text": [
            "Model: \"sequential_6\"\n",
            "_________________________________________________________________\n",
            " Layer (type)                Output Shape              Param #   \n",
            "=================================================================\n",
            " embedding_6 (Embedding)     (None, None, 32)          320000    \n",
            "                                                                 \n",
            " simple_rnn_10 (SimpleRNN)   (None, None, 32)          2080      \n",
            "                                                                 \n",
            " simple_rnn_11 (SimpleRNN)   (None, 16)                784       \n",
            "                                                                 \n",
            "=================================================================\n",
            "Total params: 322,864\n",
            "Trainable params: 322,864\n",
            "Non-trainable params: 0\n",
            "_________________________________________________________________\n"
          ]
        }
      ]
    },
    {
      "cell_type": "markdown",
      "metadata": {
        "id": "E-MDIz1zcIyP"
      },
      "source": [
        "- 네트워크의 표현력을 증가시키기 위해 여러 개의 순환층을 차례대로 쌓는 것이 유용할 때가 있음\n",
        "\n",
        "  - 이런 설정에서는 중간층들이 전체 출력 시퀀스를 반환하도록 설정"
      ]
    },
    {
      "cell_type": "code",
      "metadata": {
        "id": "E1tUaIe2L7GZ",
        "colab": {
          "base_uri": "https://localhost:8080/"
        },
        "outputId": "38b4e2ba-50c5-4df4-eb25-28a63c96544f"
      },
      "source": [
        "model = Sequential()\n",
        "model.add(Embedding(10000, 32))\n",
        "model.add(SimpleRNN(32 , return_sequences= True))\n",
        "model.add(SimpleRNN(32 , return_sequences= True))\n",
        "model.add(SimpleRNN(32 , return_sequences= True))\n",
        "model.add(SimpleRNN(16))\n",
        "model.summary()"
      ],
      "execution_count": 23,
      "outputs": [
        {
          "output_type": "stream",
          "name": "stdout",
          "text": [
            "Model: \"sequential_7\"\n",
            "_________________________________________________________________\n",
            " Layer (type)                Output Shape              Param #   \n",
            "=================================================================\n",
            " embedding_7 (Embedding)     (None, None, 32)          320000    \n",
            "                                                                 \n",
            " simple_rnn_12 (SimpleRNN)   (None, None, 32)          2080      \n",
            "                                                                 \n",
            " simple_rnn_13 (SimpleRNN)   (None, None, 32)          2080      \n",
            "                                                                 \n",
            " simple_rnn_14 (SimpleRNN)   (None, None, 32)          2080      \n",
            "                                                                 \n",
            " simple_rnn_15 (SimpleRNN)   (None, 16)                784       \n",
            "                                                                 \n",
            "=================================================================\n",
            "Total params: 327,024\n",
            "Trainable params: 327,024\n",
            "Non-trainable params: 0\n",
            "_________________________________________________________________\n"
          ]
        }
      ]
    },
    {
      "cell_type": "markdown",
      "metadata": {
        "id": "j0CNAzN_deXE"
      },
      "source": [
        "## IMDB 데이터 적용"
      ]
    },
    {
      "cell_type": "markdown",
      "metadata": {
        "id": "W1SbNYRdmVTY"
      },
      "source": [
        "### 데이터 로드"
      ]
    },
    {
      "cell_type": "code",
      "metadata": {
        "id": "-27Tkihbcei2"
      },
      "source": [
        "from tensorflow.keras.datasets import imdb\n",
        "from tensorflow.keras.preprocessing import sequence"
      ],
      "execution_count": 24,
      "outputs": []
    },
    {
      "cell_type": "code",
      "metadata": {
        "id": "KL-_piPIdms6",
        "colab": {
          "base_uri": "https://localhost:8080/"
        },
        "outputId": "37cccd69-e68b-4710-84bd-353c4a299c99"
      },
      "source": [
        "num_words = 10000\n",
        "max_len = 500\n",
        "batch_size = 32\n",
        "\n",
        "(input_train, y_train), (input_test, y_test) = imdb.load_data(num_words=num_words)\n",
        "print(len(input_train))\n",
        "print(len(input_test))\n",
        "\n",
        "input_train = sequence.pad_sequences(input_train, maxlen =max_len)\n",
        "input_test = sequence.pad_sequences(input_test, maxlen =max_len)\n",
        "\n",
        "print(input_train.shape)\n",
        "print(input_test.shape)"
      ],
      "execution_count": 25,
      "outputs": [
        {
          "output_type": "stream",
          "name": "stdout",
          "text": [
            "25000\n",
            "25000\n",
            "(25000, 500)\n",
            "(25000, 500)\n"
          ]
        }
      ]
    },
    {
      "cell_type": "markdown",
      "metadata": {
        "id": "uf2EVnzceS4R"
      },
      "source": [
        "### 모델 구성"
      ]
    },
    {
      "cell_type": "code",
      "metadata": {
        "id": "d7dfeDC5eMdj"
      },
      "source": [
        "from tensorflow.keras.layers import Dense"
      ],
      "execution_count": 26,
      "outputs": []
    },
    {
      "cell_type": "code",
      "metadata": {
        "id": "KnAUijOReWGu",
        "colab": {
          "base_uri": "https://localhost:8080/"
        },
        "outputId": "f114bf01-78fb-4d8a-e981-e2bea7db4e7b"
      },
      "source": [
        "model = Sequential()\n",
        "\n",
        "model.add(Embedding(num_words, 32))\n",
        "model.add(SimpleRNN(32))\n",
        "model.add(Dense(1, activation='sigmoid'))\n",
        "\n",
        "model.compile(optimizer= 'rmsprop',\n",
        "              loss='binary_crossentropy',\n",
        "              metrics=['acc'])\n",
        "\n",
        "model.summary()"
      ],
      "execution_count": 30,
      "outputs": [
        {
          "output_type": "stream",
          "name": "stdout",
          "text": [
            "Model: \"sequential_9\"\n",
            "_________________________________________________________________\n",
            " Layer (type)                Output Shape              Param #   \n",
            "=================================================================\n",
            " embedding_9 (Embedding)     (None, None, 32)          320000    \n",
            "                                                                 \n",
            " simple_rnn_17 (SimpleRNN)   (None, 32)                2080      \n",
            "                                                                 \n",
            " dense_2 (Dense)             (None, 1)                 33        \n",
            "                                                                 \n",
            "=================================================================\n",
            "Total params: 322,113\n",
            "Trainable params: 322,113\n",
            "Non-trainable params: 0\n",
            "_________________________________________________________________\n"
          ]
        }
      ]
    },
    {
      "cell_type": "markdown",
      "metadata": {
        "id": "pU_9-Hu7mcMa"
      },
      "source": [
        "### 모델 학습"
      ]
    },
    {
      "cell_type": "code",
      "metadata": {
        "id": "XdPtzPwNeonA",
        "colab": {
          "base_uri": "https://localhost:8080/"
        },
        "outputId": "e44acc63-57da-4ee6-afb6-c6608d5e116c"
      },
      "source": [
        "history = model.fit(input_train, y_train,\n",
        "                    epochs=10,\n",
        "                    batch_size=128,\n",
        "                    validation_split=0.2)"
      ],
      "execution_count": 31,
      "outputs": [
        {
          "output_type": "stream",
          "name": "stdout",
          "text": [
            "Epoch 1/10\n",
            "157/157 [==============================] - 73s 438ms/step - loss: 0.6360 - acc: 0.6268 - val_loss: 0.5200 - val_acc: 0.7414\n",
            "Epoch 2/10\n",
            "157/157 [==============================] - 68s 435ms/step - loss: 0.3843 - acc: 0.8351 - val_loss: 0.3737 - val_acc: 0.8440\n",
            "Epoch 3/10\n",
            "157/157 [==============================] - 68s 431ms/step - loss: 0.2913 - acc: 0.8842 - val_loss: 0.3775 - val_acc: 0.8386\n",
            "Epoch 4/10\n",
            "157/157 [==============================] - 67s 424ms/step - loss: 0.2148 - acc: 0.9180 - val_loss: 0.4672 - val_acc: 0.7854\n",
            "Epoch 5/10\n",
            "157/157 [==============================] - 67s 426ms/step - loss: 0.1507 - acc: 0.9459 - val_loss: 0.4505 - val_acc: 0.8066\n",
            "Epoch 6/10\n",
            "157/157 [==============================] - 68s 433ms/step - loss: 0.1055 - acc: 0.9651 - val_loss: 0.4460 - val_acc: 0.8334\n",
            "Epoch 7/10\n",
            "157/157 [==============================] - 67s 427ms/step - loss: 0.0634 - acc: 0.9809 - val_loss: 0.5888 - val_acc: 0.8294\n",
            "Epoch 8/10\n",
            "157/157 [==============================] - 69s 441ms/step - loss: 0.0376 - acc: 0.9894 - val_loss: 0.5353 - val_acc: 0.8314\n",
            "Epoch 9/10\n",
            "157/157 [==============================] - 68s 434ms/step - loss: 0.0303 - acc: 0.9912 - val_loss: 0.6304 - val_acc: 0.8086\n",
            "Epoch 10/10\n",
            "157/157 [==============================] - 69s 440ms/step - loss: 0.0142 - acc: 0.9962 - val_loss: 0.5958 - val_acc: 0.8532\n"
          ]
        }
      ]
    },
    {
      "cell_type": "markdown",
      "metadata": {
        "id": "afIyKdLsmj6N"
      },
      "source": [
        "### 시각화"
      ]
    },
    {
      "cell_type": "code",
      "metadata": {
        "id": "sendhEujeu8S"
      },
      "source": [
        "import matplotlib.pyplot as plt\n",
        "plt.style.use('seaborn-white')"
      ],
      "execution_count": 33,
      "outputs": []
    },
    {
      "cell_type": "code",
      "metadata": {
        "id": "3rjMFpiBe4Fa",
        "colab": {
          "base_uri": "https://localhost:8080/",
          "height": 525
        },
        "outputId": "0b6e2865-bd8d-44fa-e695-f44b1f7e4571"
      },
      "source": [
        "loss = history.history['loss']\n",
        "val_loss = history.history['val_loss']\n",
        "acc = history.history['acc']\n",
        "val_acc = history.history['val_acc']\n",
        "\n",
        "epochs = range(1, len(loss) + 1)\n",
        "\n",
        "plt.plot(epochs, loss , 'b--', label='training loss')\n",
        "plt.plot(epochs, val_loss , 'r', label='validation loss')\n",
        "plt.grid()\n",
        "plt.legend()\n",
        "\n",
        "plt.figure()\n",
        "plt.plot(epochs, acc , 'b--', label='training accuracy')\n",
        "plt.plot(epochs, val_acc , 'r', label='validation accuracy')\n",
        "plt.grid()\n",
        "plt.legend()\n",
        "\n",
        "plt.show"
      ],
      "execution_count": 36,
      "outputs": [
        {
          "output_type": "execute_result",
          "data": {
            "text/plain": [
              "<function matplotlib.pyplot.show(*args, **kw)>"
            ]
          },
          "metadata": {},
          "execution_count": 36
        },
        {
          "output_type": "display_data",
          "data": {
            "text/plain": [
              "<Figure size 432x288 with 1 Axes>"
            ],
            "image/png": "[encoded data removed]"
          },
          "metadata": {}
        },
        {
          "output_type": "display_data",
          "data": {
            "text/plain": [
              "<Figure size 432x288 with 1 Axes>"
            ],
            "image/png": "[encoded data removed]"
          },
          "metadata": {}
        }
      ]
    },
    {
      "cell_type": "markdown",
      "source": [
        "training loss는 잘됐는데 validation 역시나 튐"
      ],
      "metadata": {
        "id": "l2tpYtmrFggs"
      }
    },
    {
      "cell_type": "code",
      "metadata": {
        "id": "YLO526Sgf-U_",
        "colab": {
          "base_uri": "https://localhost:8080/"
        },
        "outputId": "fc897fe3-e466-499c-b15e-07489c055500"
      },
      "source": [
        "model.evaluate(input_test, y_test)"
      ],
      "execution_count": 37,
      "outputs": [
        {
          "output_type": "stream",
          "name": "stdout",
          "text": [
            "782/782 [==============================] - 29s 37ms/step - loss: 0.6353 - acc: 0.8476\n"
          ]
        },
        {
          "output_type": "execute_result",
          "data": {
            "text/plain": [
              "[0.6352563500404358, 0.847599983215332]"
            ]
          },
          "metadata": {},
          "execution_count": 37
        }
      ]
    },
    {
      "cell_type": "markdown",
      "metadata": {
        "id": "VTmZ_XiZguM5"
      },
      "source": [
        "- 전체 시퀀스가 아니라 순서대로 500개의 단어만 입력했기 때문에 성능이 낮게 나옴\n",
        "\n",
        "- SimpleRNN은 긴 시퀀스를 처리하는데 적합하지 않음\n",
        "\n",
        "- SimpleRNN은 실전에 사용하기엔 너무 단순\n",
        "\n",
        "- SimpleRNN은 이론적으로 시간 $t$ 에서 이전의 모든 타임스텝의 정보를 유지할 수 있지만, 실제로는 긴 시간에 걸친 의존성은 학습할 수 없음\n",
        "\n",
        "- 그래디언트 소실 문제(vanishing gradient problem)\n",
        "  - 이를 방지하기 위해 LSTM, GRU 같은 레이어 등장\n",
        "\n"
      ]
    },
    {
      "cell_type": "markdown",
      "metadata": {
        "id": "oZXJIdDai7sV"
      },
      "source": [
        "# LSTM(Long Short-Term Memory)\n",
        "- 장단기 메모리 알고리즘\n",
        "\n",
        "- 나중을 위해 정보를 저장함으로써 오래된 시그널이 점차 소실되는 것을 막아줌\n",
        "\n",
        "  <img src=\"https://colah.github.io/posts/2015-08-Understanding-LSTMs/img/LSTM3-chain.png\">\n",
        "\n",
        "  <sub>출처: https://colah.github.io/posts/2015-08-Understanding-LSTMs/</sub>"
      ]
    },
    {
      "cell_type": "markdown",
      "metadata": {
        "id": "j3afhQOUlqG9"
      },
      "source": [
        "## IMDB 데이터"
      ]
    },
    {
      "cell_type": "markdown",
      "metadata": {
        "id": "tZOCK6EQl1QI"
      },
      "source": [
        "### 데이터 로드"
      ]
    },
    {
      "cell_type": "code",
      "metadata": {
        "id": "00ZS9v3YmT_H"
      },
      "source": [
        "from tensorflow.keras.datasets import imdb\n",
        "from tensorflow.keras.preprocessing.sequence import pad_sequences"
      ],
      "execution_count": 38,
      "outputs": []
    },
    {
      "cell_type": "code",
      "metadata": {
        "id": "UW-VG35_gwmt",
        "colab": {
          "base_uri": "https://localhost:8080/"
        },
        "outputId": "916aed5c-4dcc-47d8-b520-30affec4b859"
      },
      "source": [
        "num_words = 10000\n",
        "max_len = 500\n",
        "\n",
        "\n",
        "(x_train, y_train), (x_test, y_test) = imdb.load_data(num_words=num_words)\n",
        "print(len(x_train))\n",
        "print(len(x_test))\n",
        "\n",
        "pad_x_train = sequence.pad_sequences(x_train, maxlen =max_len)\n",
        "pad_x_test = sequence.pad_sequences(x_test, maxlen =max_len)\n",
        "\n",
        "print(pad_x_train.shape)\n",
        "print(pad_x_test.shape)"
      ],
      "execution_count": 44,
      "outputs": [
        {
          "output_type": "stream",
          "name": "stdout",
          "text": [
            "25000\n",
            "25000\n",
            "(25000, 500)\n",
            "(25000, 500)\n"
          ]
        }
      ]
    },
    {
      "cell_type": "markdown",
      "metadata": {
        "id": "uo8uhFyBl2k-"
      },
      "source": [
        "### 모델 구성"
      ]
    },
    {
      "cell_type": "code",
      "metadata": {
        "id": "tFkAN2Dzl3GC"
      },
      "source": [
        "from tensorflow.keras.models import Sequential\n",
        "from tensorflow.keras.layers import Dense, LSTM, GRU, Embedding"
      ],
      "execution_count": 40,
      "outputs": []
    },
    {
      "cell_type": "code",
      "metadata": {
        "id": "TPr9Ec-El50W",
        "colab": {
          "base_uri": "https://localhost:8080/"
        },
        "outputId": "67eb5966-a337-425b-c04a-6f3385a0af3b"
      },
      "source": [
        "model = Sequential()\n",
        "\n",
        "model.add(Embedding(num_words, 32))\n",
        "model.add(LSTM(32))\n",
        "model.add(Dense(1, activation ='sigmoid'))\n",
        "\n",
        "model.compile(optimizer='rmsprop',\n",
        "              loss = 'binary_crossentropy',\n",
        "              metrics=['acc'])\n",
        "\n",
        "model.summary()"
      ],
      "execution_count": 42,
      "outputs": [
        {
          "output_type": "stream",
          "name": "stdout",
          "text": [
            "Model: \"sequential_11\"\n",
            "_________________________________________________________________\n",
            " Layer (type)                Output Shape              Param #   \n",
            "=================================================================\n",
            " embedding_11 (Embedding)    (None, None, 32)          320000    \n",
            "                                                                 \n",
            " lstm_1 (LSTM)               (None, 32)                8320      \n",
            "                                                                 \n",
            " dense_4 (Dense)             (None, 1)                 33        \n",
            "                                                                 \n",
            "=================================================================\n",
            "Total params: 328,353\n",
            "Trainable params: 328,353\n",
            "Non-trainable params: 0\n",
            "_________________________________________________________________\n"
          ]
        }
      ]
    },
    {
      "cell_type": "markdown",
      "metadata": {
        "id": "vAPnX6ACmenz"
      },
      "source": [
        "### 모델 학습"
      ]
    },
    {
      "cell_type": "code",
      "metadata": {
        "id": "FGWhqX5GmNeR",
        "colab": {
          "base_uri": "https://localhost:8080/"
        },
        "outputId": "2a67a41c-2228-45aa-9aa7-17fb48508e2f"
      },
      "source": [
        "history = model.fit(pad_x_train, y_train,\n",
        "                    epochs=10,\n",
        "                    batch_size=128,\n",
        "                    validation_split=0.2)"
      ],
      "execution_count": 48,
      "outputs": [
        {
          "output_type": "stream",
          "name": "stdout",
          "text": [
            "Epoch 1/10\n",
            "157/157 [==============================] - 3s 21ms/step - loss: 0.0993 - acc: 0.9650 - val_loss: 0.3780 - val_acc: 0.8570\n",
            "Epoch 2/10\n",
            "157/157 [==============================] - 3s 20ms/step - loss: 0.0946 - acc: 0.9675 - val_loss: 0.3582 - val_acc: 0.8696\n",
            "Epoch 3/10\n",
            "157/157 [==============================] - 3s 20ms/step - loss: 0.0883 - acc: 0.9704 - val_loss: 0.4311 - val_acc: 0.8804\n",
            "Epoch 4/10\n",
            "157/157 [==============================] - 3s 20ms/step - loss: 0.0848 - acc: 0.9710 - val_loss: 0.4186 - val_acc: 0.8782\n",
            "Epoch 5/10\n",
            "157/157 [==============================] - 3s 20ms/step - loss: 0.0797 - acc: 0.9727 - val_loss: 0.3990 - val_acc: 0.8524\n",
            "Epoch 6/10\n",
            "157/157 [==============================] - 3s 20ms/step - loss: 0.0756 - acc: 0.9755 - val_loss: 0.4432 - val_acc: 0.8706\n",
            "Epoch 7/10\n",
            "157/157 [==============================] - 3s 20ms/step - loss: 0.0701 - acc: 0.9768 - val_loss: 0.4281 - val_acc: 0.8676\n",
            "Epoch 8/10\n",
            "157/157 [==============================] - 3s 20ms/step - loss: 0.0660 - acc: 0.9788 - val_loss: 0.5085 - val_acc: 0.8290\n",
            "Epoch 9/10\n",
            "157/157 [==============================] - 3s 20ms/step - loss: 0.0605 - acc: 0.9801 - val_loss: 0.4641 - val_acc: 0.8672\n",
            "Epoch 10/10\n",
            "157/157 [==============================] - 3s 20ms/step - loss: 0.0580 - acc: 0.9815 - val_loss: 0.4924 - val_acc: 0.8646\n"
          ]
        }
      ]
    },
    {
      "cell_type": "markdown",
      "metadata": {
        "id": "gFiE5SpPmh_x"
      },
      "source": [
        "### 시각화"
      ]
    },
    {
      "cell_type": "code",
      "metadata": {
        "id": "jwQ6ZYHTyXHS",
        "colab": {
          "base_uri": "https://localhost:8080/",
          "height": 525
        },
        "outputId": "0f6d6809-fa21-405e-849c-395a3ced6ed8"
      },
      "source": [
        "loss = history.history['loss']\n",
        "val_loss = history.history['val_loss']\n",
        "acc = history.history['acc']\n",
        "val_acc = history.history['val_acc']\n",
        "\n",
        "epochs = range(1, len(loss) + 1)\n",
        "\n",
        "plt.plot(epochs, loss , 'b--', label='training loss')\n",
        "plt.plot(epochs, val_loss , 'r', label='validation loss')\n",
        "plt.grid()\n",
        "plt.legend()\n",
        "\n",
        "plt.figure()\n",
        "plt.plot(epochs, acc , 'b--', label='training accuracy')\n",
        "plt.plot(epochs, val_acc , 'r', label='validation accuracy')\n",
        "plt.grid()\n",
        "plt.legend()\n",
        "\n",
        "plt.show"
      ],
      "execution_count": 46,
      "outputs": [
        {
          "output_type": "execute_result",
          "data": {
            "text/plain": [
              "<function matplotlib.pyplot.show(*args, **kw)>"
            ]
          },
          "metadata": {},
          "execution_count": 46
        },
        {
          "output_type": "display_data",
          "data": {
            "text/plain": [
              "<Figure size 432x288 with 1 Axes>"
            ],
            "image/png": "[encoded data removed]"
          },
          "metadata": {}
        },
        {
          "output_type": "display_data",
          "data": {
            "text/plain": [
              "<Figure size 432x288 with 1 Axes>"
            ],
            "image/png": "[encoded data removed]"
          },
          "metadata": {}
        }
      ]
    },
    {
      "cell_type": "markdown",
      "metadata": {
        "id": "NiZ6uiUPyXHN"
      },
      "source": [
        "### 모델 평가"
      ]
    },
    {
      "cell_type": "code",
      "metadata": {
        "id": "DZjW6iOV3k-J",
        "colab": {
          "base_uri": "https://localhost:8080/"
        },
        "outputId": "563a57a4-7d0c-4c94-8beb-022d8c66f841"
      },
      "source": [
        "model.evaluate(pad_x_test, y_test)"
      ],
      "execution_count": 47,
      "outputs": [
        {
          "output_type": "stream",
          "name": "stdout",
          "text": [
            "782/782 [==============================] - 6s 8ms/step - loss: 0.3694 - acc: 0.8579\n"
          ]
        },
        {
          "output_type": "execute_result",
          "data": {
            "text/plain": [
              "[0.3693881630897522, 0.8578799962997437]"
            ]
          },
          "metadata": {},
          "execution_count": 47
        }
      ]
    },
    {
      "cell_type": "markdown",
      "metadata": {
        "id": "Dc0wuvArGHgD"
      },
      "source": [
        "# GRU (Gated Recurrent Unit)\n",
        "- LSTM을 더 단순하게 만든 구조\n",
        "\n",
        "- 기억 셀은 없고, 시간방향으로 전파하는 것은 은닉 상태만 있음\n",
        "\n",
        "- reset gate\n",
        "  - 과거의 은닉 상태를 얼마나 무시할지 결정\n",
        "\n",
        "  - $r$ 값이 결정\n",
        "\n",
        "- update gate\n",
        "  -  은닉 상태를 갱신하는 게이트  \n",
        "\n",
        "  - LSTM의 forget, input gate 역할을 동시에 함\n",
        "  \n",
        "  <img src=\"https://miro.medium.com/max/1400/1*jhi5uOm9PvZfmxvfaCektw.png\" width=\"500\">\n",
        "\n",
        "<sub>출처: https://towardsdatascience.com/illustrated-guide-to-lstms-and-gru-s-a-step-by-step-explanation-44e9eb85bf21</sub>\n",
        "\n",
        "  ### $\\qquad z = \\sigma (x_t W^{(z)}_x + h_{t-1} W^{(z)}_h + b^{(z)} \\\\ \n",
        "  \\qquad r = \\sigma (x_t W^{(r)}_x + h_{t-1} W^{(r)}_h + b^{(r)}) \\\\\n",
        "  \\qquad \\tilde{i} = tanh (x_t W^{(i)}_x + (r \\odot h_{t-1}) W^{(i)}_h + b ) \\\\\n",
        "  \\qquad h_t = (1 - z) \\odot h_{t-1} + z \\odot \\tilde{h}$\n"
      ]
    },
    {
      "cell_type": "markdown",
      "metadata": {
        "id": "TvnFLeqSsOSh"
      },
      "source": [
        "## Reuters 데이터\n",
        "\n",
        "- IMDB와 유사한 데이터셋(텍스트 데이터)\n",
        "\n",
        "- 46개의 상호 배타적인 토픽으로 이루어진 데이터셋 \n",
        "  - 다중 분류 문제\n"
      ]
    },
    {
      "cell_type": "markdown",
      "metadata": {
        "id": "ONPaMDFEsftq"
      },
      "source": [
        "### 데이터셋 로드"
      ]
    },
    {
      "cell_type": "code",
      "metadata": {
        "id": "sFyvFVizsUVD"
      },
      "source": [
        "from tensorflow.keras.datasets import reuters"
      ],
      "execution_count": 49,
      "outputs": []
    },
    {
      "cell_type": "code",
      "metadata": {
        "id": "C234q3AVsUSp",
        "colab": {
          "base_uri": "https://localhost:8080/"
        },
        "outputId": "be48884a-56f4-4e49-8ce5-ae5fed631bed"
      },
      "source": [
        "num_words =10000\n",
        "(x_train, y_train), (x_test, y_test) = reuters.load_data(num_words=num_words)\n",
        "\n",
        "print(x_train.shape)\n",
        "print(y_train.shape)\n",
        "\n",
        "print(x_test.shape)\n",
        "print(y_test.shape)"
      ],
      "execution_count": 50,
      "outputs": [
        {
          "output_type": "stream",
          "name": "stdout",
          "text": [
            "Downloading data from https://storage.googleapis.com/tensorflow/tf-keras-datasets/reuters.npz\n",
            "2113536/2110848 [==============================] - 0s 0us/step\n",
            "2121728/2110848 [==============================] - 0s 0us/step\n",
            "(8982,)\n",
            "(8982,)\n",
            "(2246,)\n",
            "(2246,)\n"
          ]
        }
      ]
    },
    {
      "cell_type": "markdown",
      "metadata": {
        "id": "VioYGD8Ms4zH"
      },
      "source": [
        "### 데이터 전처리 및 확인"
      ]
    },
    {
      "cell_type": "code",
      "metadata": {
        "id": "2Sb0OxNlsUQT"
      },
      "source": [
        "from tensorflow.keras.preprocessing.sequence import pad_sequences"
      ],
      "execution_count": 51,
      "outputs": []
    },
    {
      "cell_type": "code",
      "metadata": {
        "id": "rNUkve6-sUN6"
      },
      "source": [
        "max_len = 300 "
      ],
      "execution_count": 52,
      "outputs": []
    },
    {
      "cell_type": "code",
      "metadata": {
        "id": "jBxQZtOJsULl",
        "colab": {
          "base_uri": "https://localhost:8080/"
        },
        "outputId": "edc33d3c-8d8c-4588-cd0f-2440eb1dfbb4"
      },
      "source": [
        "pad_x_train = pad_sequences(x_train, maxlen=max_len)\n",
        "pad_x_test = pad_sequences(x_test, maxlen=max_len)\n",
        "\n",
        "print(len(pad_x_train[0]))"
      ],
      "execution_count": 53,
      "outputs": [
        {
          "output_type": "stream",
          "name": "stdout",
          "text": [
            "300\n"
          ]
        }
      ]
    },
    {
      "cell_type": "code",
      "metadata": {
        "id": "a6hwQtn_sUJN",
        "colab": {
          "base_uri": "https://localhost:8080/"
        },
        "outputId": "63d1ef2e-458d-40fb-c62d-9d616f4a2f2c"
      },
      "source": [
        "pad_x_train[0]"
      ],
      "execution_count": 54,
      "outputs": [
        {
          "output_type": "execute_result",
          "data": {
            "text/plain": [
              "array([   0,    0,    0,    0,    0,    0,    0,    0,    0,    0,    0,\n",
              "          0,    0,    0,    0,    0,    0,    0,    0,    0,    0,    0,\n",
              "          0,    0,    0,    0,    0,    0,    0,    0,    0,    0,    0,\n",
              "          0,    0,    0,    0,    0,    0,    0,    0,    0,    0,    0,\n",
              "          0,    0,    0,    0,    0,    0,    0,    0,    0,    0,    0,\n",
              "          0,    0,    0,    0,    0,    0,    0,    0,    0,    0,    0,\n",
              "          0,    0,    0,    0,    0,    0,    0,    0,    0,    0,    0,\n",
              "          0,    0,    0,    0,    0,    0,    0,    0,    0,    0,    0,\n",
              "          0,    0,    0,    0,    0,    0,    0,    0,    0,    0,    0,\n",
              "          0,    0,    0,    0,    0,    0,    0,    0,    0,    0,    0,\n",
              "          0,    0,    0,    0,    0,    0,    0,    0,    0,    0,    0,\n",
              "          0,    0,    0,    0,    0,    0,    0,    0,    0,    0,    0,\n",
              "          0,    0,    0,    0,    0,    0,    0,    0,    0,    0,    0,\n",
              "          0,    0,    0,    0,    0,    0,    0,    0,    0,    0,    0,\n",
              "          0,    0,    0,    0,    0,    0,    0,    0,    0,    0,    0,\n",
              "          0,    0,    0,    0,    0,    0,    0,    0,    0,    0,    0,\n",
              "          0,    0,    0,    0,    0,    0,    0,    0,    0,    0,    0,\n",
              "          0,    0,    0,    0,    0,    0,    0,    0,    0,    0,    0,\n",
              "          0,    0,    0,    0,    0,    0,    0,    0,    0,    0,    0,\n",
              "          0,    0,    0,    0,    1,    2,    2,    8,   43,   10,  447,\n",
              "          5,   25,  207,  270,    5, 3095,  111,   16,  369,  186,   90,\n",
              "         67,    7,   89,    5,   19,  102,    6,   19,  124,   15,   90,\n",
              "         67,   84,   22,  482,   26,    7,   48,    4,   49,    8,  864,\n",
              "         39,  209,  154,    6,  151,    6,   83,   11,   15,   22,  155,\n",
              "         11,   15,    7,   48,    9, 4579, 1005,  504,    6,  258,    6,\n",
              "        272,   11,   15,   22,  134,   44,   11,   15,   16,    8,  197,\n",
              "       1245,   90,   67,   52,   29,  209,   30,   32,  132,    6,  109,\n",
              "         15,   17,   12], dtype=int32)"
            ]
          },
          "metadata": {},
          "execution_count": 54
        }
      ]
    },
    {
      "cell_type": "markdown",
      "metadata": {
        "id": "_P_JxBFntQOP"
      },
      "source": [
        "### 모델 구성\n",
        "- LSTM 레이어도 SimpleRNN과 같이 `return_sequences` 인자 사용가능"
      ]
    },
    {
      "cell_type": "code",
      "metadata": {
        "id": "1vG3ZGSksUG5"
      },
      "source": [
        "from tensorflow.keras.models import Sequential\n",
        "from tensorflow.keras.layers import GRU,Dense, Embedding"
      ],
      "execution_count": 55,
      "outputs": []
    },
    {
      "cell_type": "code",
      "metadata": {
        "id": "K_uMdxmysUEg",
        "colab": {
          "base_uri": "https://localhost:8080/"
        },
        "outputId": "a7e27870-c080-48d6-b146-e98fb09fa8e4"
      },
      "source": [
        "model = Sequential()\n",
        "model.add(Embedding(input_dim=num_words, output_dim=256))\n",
        "model.add(GRU(256, return_sequences= True))\n",
        "model.add(GRU(128))\n",
        "model.add(Dense(46,activation='softmax'))\n",
        "\n",
        "model.compile(optimizer='adam',\n",
        "              loss= 'sparse_categorical_crossentropy',\n",
        "              metrics=['acc'])\n",
        "\n",
        "model.summary()"
      ],
      "execution_count": 56,
      "outputs": [
        {
          "output_type": "stream",
          "name": "stdout",
          "text": [
            "Model: \"sequential_12\"\n",
            "_________________________________________________________________\n",
            " Layer (type)                Output Shape              Param #   \n",
            "=================================================================\n",
            " embedding_12 (Embedding)    (None, None, 256)         2560000   \n",
            "                                                                 \n",
            " gru (GRU)                   (None, None, 256)         394752    \n",
            "                                                                 \n",
            " gru_1 (GRU)                 (None, 128)               148224    \n",
            "                                                                 \n",
            " dense_5 (Dense)             (None, 46)                5934      \n",
            "                                                                 \n",
            "=================================================================\n",
            "Total params: 3,108,910\n",
            "Trainable params: 3,108,910\n",
            "Non-trainable params: 0\n",
            "_________________________________________________________________\n"
          ]
        }
      ]
    },
    {
      "cell_type": "markdown",
      "metadata": {
        "id": "qjgupW2puHXA"
      },
      "source": [
        "### 모델 학습"
      ]
    },
    {
      "cell_type": "code",
      "metadata": {
        "id": "T22YsRQ8sUBg",
        "colab": {
          "base_uri": "https://localhost:8080/"
        },
        "outputId": "1d1af58b-de4a-45ea-cdad-8e1f7a571f58"
      },
      "source": [
        "history = model.fit(pad_x_train, y_train,\n",
        "                    batch_size=32, epochs= 20,\n",
        "                    validation_split=0.2)"
      ],
      "execution_count": 57,
      "outputs": [
        {
          "output_type": "stream",
          "name": "stdout",
          "text": [
            "Epoch 1/20\n",
            "225/225 [==============================] - 11s 35ms/step - loss: 2.0139 - acc: 0.4715 - val_loss: 1.6742 - val_acc: 0.5593\n",
            "Epoch 2/20\n",
            "225/225 [==============================] - 7s 32ms/step - loss: 1.6728 - acc: 0.5807 - val_loss: 1.5999 - val_acc: 0.6038\n",
            "Epoch 3/20\n",
            "225/225 [==============================] - 8s 34ms/step - loss: 1.3395 - acc: 0.6637 - val_loss: 1.4233 - val_acc: 0.6361\n",
            "Epoch 4/20\n",
            "225/225 [==============================] - 8s 34ms/step - loss: 1.0944 - acc: 0.7104 - val_loss: 1.3800 - val_acc: 0.6566\n",
            "Epoch 5/20\n",
            "225/225 [==============================] - 7s 32ms/step - loss: 0.8834 - acc: 0.7715 - val_loss: 1.3303 - val_acc: 0.6839\n",
            "Epoch 6/20\n",
            "225/225 [==============================] - 7s 32ms/step - loss: 0.7306 - acc: 0.8121 - val_loss: 1.4029 - val_acc: 0.6706\n",
            "Epoch 7/20\n",
            "225/225 [==============================] - 7s 32ms/step - loss: 0.5872 - acc: 0.8522 - val_loss: 1.3767 - val_acc: 0.6956\n",
            "Epoch 8/20\n",
            "225/225 [==============================] - 7s 32ms/step - loss: 0.4492 - acc: 0.8841 - val_loss: 1.4054 - val_acc: 0.6884\n",
            "Epoch 9/20\n",
            "225/225 [==============================] - 7s 32ms/step - loss: 0.3666 - acc: 0.9069 - val_loss: 1.4836 - val_acc: 0.7001\n",
            "Epoch 10/20\n",
            "225/225 [==============================] - 7s 33ms/step - loss: 0.3159 - acc: 0.9203 - val_loss: 1.4967 - val_acc: 0.7090\n",
            "Epoch 11/20\n",
            "225/225 [==============================] - 7s 32ms/step - loss: 0.2411 - acc: 0.9404 - val_loss: 1.5320 - val_acc: 0.7034\n",
            "Epoch 12/20\n",
            "225/225 [==============================] - 7s 32ms/step - loss: 0.2036 - acc: 0.9481 - val_loss: 1.5406 - val_acc: 0.7073\n",
            "Epoch 13/20\n",
            "225/225 [==============================] - 7s 32ms/step - loss: 0.1758 - acc: 0.9506 - val_loss: 1.6057 - val_acc: 0.7012\n",
            "Epoch 14/20\n",
            "225/225 [==============================] - 7s 32ms/step - loss: 0.1494 - acc: 0.9552 - val_loss: 1.7021 - val_acc: 0.7023\n",
            "Epoch 15/20\n",
            "225/225 [==============================] - 7s 32ms/step - loss: 0.1378 - acc: 0.9574 - val_loss: 1.6775 - val_acc: 0.7045\n",
            "Epoch 16/20\n",
            "225/225 [==============================] - 7s 32ms/step - loss: 0.1243 - acc: 0.9598 - val_loss: 1.7429 - val_acc: 0.6962\n",
            "Epoch 17/20\n",
            "225/225 [==============================] - 7s 32ms/step - loss: 0.1119 - acc: 0.9585 - val_loss: 1.7751 - val_acc: 0.7012\n",
            "Epoch 18/20\n",
            "225/225 [==============================] - 7s 32ms/step - loss: 0.1002 - acc: 0.9623 - val_loss: 1.7907 - val_acc: 0.6939\n",
            "Epoch 19/20\n",
            "225/225 [==============================] - 7s 32ms/step - loss: 0.1071 - acc: 0.9588 - val_loss: 1.7292 - val_acc: 0.7090\n",
            "Epoch 20/20\n",
            "225/225 [==============================] - 7s 32ms/step - loss: 0.1055 - acc: 0.9606 - val_loss: 1.7800 - val_acc: 0.6978\n"
          ]
        }
      ]
    },
    {
      "cell_type": "markdown",
      "metadata": {
        "id": "JGZhIiYeuSCD"
      },
      "source": [
        "### 시각화"
      ]
    },
    {
      "cell_type": "code",
      "metadata": {
        "id": "INJu0-itsT_T",
        "colab": {
          "base_uri": "https://localhost:8080/",
          "height": 525
        },
        "outputId": "62b6b9f3-883b-41ca-d994-b50bfb5fe90f"
      },
      "source": [
        "loss = history.history['loss']\n",
        "val_loss = history.history['val_loss']\n",
        "acc = history.history['acc']\n",
        "val_acc = history.history['val_acc']\n",
        "\n",
        "epochs = range(1, len(loss) + 1)\n",
        "\n",
        "plt.plot(epochs, loss , 'b--', label='training loss')\n",
        "plt.plot(epochs, val_loss , 'r', label='validation loss')\n",
        "plt.grid()\n",
        "plt.legend()\n",
        "\n",
        "plt.figure()\n",
        "plt.plot(epochs, acc , 'b--', label='training accuracy')\n",
        "plt.plot(epochs, val_acc , 'r', label='validation accuracy')\n",
        "plt.grid()\n",
        "plt.legend()\n",
        "\n",
        "plt.show"
      ],
      "execution_count": 58,
      "outputs": [
        {
          "output_type": "execute_result",
          "data": {
            "text/plain": [
              "<function matplotlib.pyplot.show(*args, **kw)>"
            ]
          },
          "metadata": {},
          "execution_count": 58
        },
        {
          "output_type": "display_data",
          "data": {
            "text/plain": [
              "<Figure size 432x288 with 1 Axes>"
            ],
            "image/png": "[encoded data removed]"
          },
          "metadata": {}
        },
        {
          "output_type": "display_data",
          "data": {
            "text/plain": [
              "<Figure size 432x288 with 1 Axes>"
            ],
            "image/png": "[encoded data removed]"
          },
          "metadata": {}
        }
      ]
    },
    {
      "cell_type": "markdown",
      "metadata": {
        "id": "dLZLATDBuTtj"
      },
      "source": [
        "### 모델 평가\n"
      ]
    },
    {
      "cell_type": "code",
      "metadata": {
        "id": "SVxVV-kmsT6D",
        "colab": {
          "base_uri": "https://localhost:8080/"
        },
        "outputId": "864739e7-c9b1-4174-a8ed-5a54fabeccea"
      },
      "source": [
        "model.evaluate(pad_x_test, y_test)"
      ],
      "execution_count": 59,
      "outputs": [
        {
          "output_type": "stream",
          "name": "stdout",
          "text": [
            "71/71 [==============================] - 1s 12ms/step - loss: 1.9890 - acc: 0.6834\n"
          ]
        },
        {
          "output_type": "execute_result",
          "data": {
            "text/plain": [
              "[1.9890352487564087, 0.6834372282028198]"
            ]
          },
          "metadata": {},
          "execution_count": 59
        }
      ]
    }
  ]
}